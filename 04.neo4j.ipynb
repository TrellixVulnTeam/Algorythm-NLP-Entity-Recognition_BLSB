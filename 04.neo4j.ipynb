{
  "cells": [
    {
      "cell_type": "code",
      "execution_count": 1,
      "metadata": {
        "id": "UAhWIJnWgLzu"
      },
      "outputs": [],
      "source": [
        "#Import Libraries\n",
        "from neo4j import GraphDatabase\n",
        "import pandas as pd\n",
        "import numpy as np\n",
        "from py2neo import Graph, Node, Relationship"
      ]
    },
    {
      "cell_type": "markdown",
      "metadata": {},
      "source": [
        "#### Neo4j Sandbox Connection "
      ]
    },
    {
      "cell_type": "code",
      "execution_count": 26,
      "metadata": {
        "id": "QLZ4tmI5gTyy"
      },
      "outputs": [],
      "source": [
        "uri = 'bolt://35.175.116.172:7687'\n",
        "pwd = 'alternation-pyramid-semiconductor'\n",
        "user = 'neo4j'\n",
        "# give your url to .csv file\n",
        "dataUrl = \"'https://gist.githubusercontent.com/yusufakcakaya/2ca1f7387bbcb7515b429c29c50bd4c8/raw/684d51f4eccbd518b3d4f073667d20ed4b29cf9b/dataset'\"\n"
      ]
    },
    {
      "cell_type": "code",
      "execution_count": 18,
      "metadata": {
        "id": "0OTKuprWhNFW"
      },
      "outputs": [],
      "source": [
        "class Neo4jConnection:\n",
        "    \n",
        "    def __init__(self, uri, user, pwd):\n",
        "        \n",
        "        self.__uri = uri\n",
        "        self.__user = user\n",
        "        self.__pwd = pwd\n",
        "        self.__driver = None\n",
        "        \n",
        "        try:\n",
        "            self.__driver = GraphDatabase.driver(self.__uri, auth=(self.__user, self.__pwd))\n",
        "        except Exception as e:\n",
        "            print(\"Failed to create the driver:\", e)\n",
        "        \n",
        "    def close(self):\n",
        "        \n",
        "        if self.__driver is not None:\n",
        "            self.__driver.close()\n",
        "        \n",
        "    def query(self, query, parameters=None, db=None):\n",
        "        \n",
        "        assert self.__driver is not None, \"Driver not initialized!\"\n",
        "        session = None\n",
        "        response = None\n",
        "        \n",
        "        try: \n",
        "            session = self.__driver.session(database=db) if db is not None else self.__driver.session() \n",
        "            response = list(session.run(query, parameters))\n",
        "        except Exception as e:\n",
        "            print(\"Query failed:\", e)\n",
        "        finally: \n",
        "            if session is not None:\n",
        "                session.close()\n",
        "        return response"
      ]
    },
    {
      "cell_type": "code",
      "execution_count": 19,
      "metadata": {
        "id": "MVfz1l7VgT_p"
      },
      "outputs": [],
      "source": [
        "#Object of Neo4jConnection \n",
        "conn = Neo4jConnection(uri=uri, user= user, pwd=pwd)\n"
      ]
    },
    {
      "cell_type": "code",
      "execution_count": 42,
      "metadata": {},
      "outputs": [
        {
          "data": {
            "text/plain": [
              "[]"
            ]
          },
          "execution_count": 42,
          "metadata": {},
          "output_type": "execute_result"
        }
      ],
      "source": [
        "#Before creating labels delete all\n",
        "\n",
        "conn.query('MATCH (n) DETACH DELETE n')"
      ]
    },
    {
      "cell_type": "code",
      "execution_count": 43,
      "metadata": {
        "colab": {
          "base_uri": "https://localhost:8080/"
        },
        "id": "AGzRpicQgUG7",
        "outputId": "0de307c9-ee12-4371-bff9-bb5541312135"
      },
      "outputs": [
        {
          "data": {
            "text/plain": [
              "[]"
            ]
          },
          "execution_count": 43,
          "metadata": {},
          "output_type": "execute_result"
        }
      ],
      "source": [
        "#Source entities\n",
        "conn.query('LOAD CSV WITH HEADERS FROM '+ dataUrl + \n",
        "' AS line CREATE (source:SOURCE {name:line.source})')\n",
        "\n",
        "#Target entities\n",
        "conn.query('LOAD CSV WITH HEADERS FROM '+ dataUrl + \n",
        "' AS line CREATE (target:TARGET {name:line.target})')\n"
      ]
    },
    {
      "cell_type": "code",
      "execution_count": 44,
      "metadata": {},
      "outputs": [
        {
          "data": {
            "text/plain": [
              "[]"
            ]
          },
          "execution_count": 44,
          "metadata": {},
          "output_type": "execute_result"
        }
      ],
      "source": [
        "# Create Relations\n",
        "conn.query('LOAD CSV WITH HEADERS FROM '+ dataUrl + \n",
        "''' AS line MATCH (source:SOURCE {name:line.source})\n",
        "MATCH (target:TARGET {name:line.target})\n",
        "CREATE (source)-[:RELATED_TO{type:line.edge}]->(target)''')\n"
      ]
    },
    {
      "cell_type": "code",
      "execution_count": 45,
      "metadata": {
        "colab": {
          "base_uri": "https://localhost:8080/"
        },
        "id": "FLQ2vdT-gUNO",
        "outputId": "a63a6fec-477c-44f5-a61a-fd6d30bca74e"
      },
      "outputs": [
        {
          "data": {
            "text/plain": [
              "[<Record n=<Node id=45 labels=frozenset({'SOURCE'}) properties={'name': 'June year  forecast'}>>,\n",
              " <Record n=<Node id=46 labels=frozenset({'SOURCE'}) properties={'name': 'two Paul Keating'}>>,\n",
              " <Record n=<Node id=47 labels=frozenset({'SOURCE'}) properties={'name': 'annual  Keating'}>>,\n",
              " <Record n=<Node id=48 labels=frozenset({'SOURCE'}) properties={'name': 'kind World War Keating'}>>,\n",
              " <Record n=<Node id=49 labels=frozenset({'SOURCE'}) properties={'name': 'Australia'}>>,\n",
              " <Record n=<Node id=50 labels=frozenset({'TARGET'}) properties={'name': '87  budget'}>>,\n",
              " <Record n=<Node id=51 labels=frozenset({'TARGET'}) properties={'name': 'two  Parliament'}>>,\n",
              " <Record n=<Node id=52 labels=frozenset({'TARGET'}) properties={'name': 'figures'}>>,\n",
              " <Record n=<Node id=53 labels=frozenset({'TARGET'}) properties={'name': 'Australia trading holocaust'}>>,\n",
              " <Record n=<Node id=54 labels=frozenset({'TARGET'}) properties={'name': 'recession'}>>]"
            ]
          },
          "execution_count": 45,
          "metadata": {},
          "output_type": "execute_result"
        }
      ],
      "source": [
        "conn.query('MATCH (n) RETURN n')\n"
      ]
    },
    {
      "cell_type": "code",
      "execution_count": 46,
      "metadata": {
        "colab": {
          "base_uri": "https://localhost:8080/"
        },
        "id": "-5nObmSWzlHi",
        "outputId": "181a9774-145c-467a-8154-ba02271178c0"
      },
      "outputs": [
        {
          "data": {
            "text/plain": [
              "[<Record count(*)=5>]"
            ]
          },
          "execution_count": 46,
          "metadata": {},
          "output_type": "execute_result"
        }
      ],
      "source": [
        "allRelations = conn.query('MATCH ()-->() RETURN count(*);')     \n",
        "allRelations\n"
      ]
    },
    {
      "cell_type": "code",
      "execution_count": 47,
      "metadata": {},
      "outputs": [
        {
          "data": {
            "text/plain": [
              "[<Record label='SOURCE'>, <Record label='TARGET'>]"
            ]
          },
          "execution_count": 47,
          "metadata": {},
          "output_type": "execute_result"
        }
      ],
      "source": [
        " #List node labels\n",
        "conn.query('CALL db.labels()')\n"
      ]
    },
    {
      "cell_type": "code",
      "execution_count": 48,
      "metadata": {},
      "outputs": [
        {
          "data": {
            "text/plain": [
              "[<Record nodes=[<Node id=-4 labels=frozenset({'TARGET'}) properties={'name': 'TARGET', 'indexes': [], 'constraints': []}>, <Node id=-3 labels=frozenset({'SOURCE'}) properties={'name': 'SOURCE', 'indexes': [], 'constraints': []}>] relationships=[<Relationship id=-2 nodes=(<Node id=-3 labels=frozenset({'SOURCE'}) properties={'name': 'SOURCE', 'indexes': [], 'constraints': []}>, <Node id=-4 labels=frozenset({'TARGET'}) properties={'name': 'TARGET', 'indexes': [], 'constraints': []}>) type='RELATED_TO' properties={}>]>]"
            ]
          },
          "execution_count": 48,
          "metadata": {},
          "output_type": "execute_result"
        }
      ],
      "source": [
        " #Relations\n",
        "conn.query('CALL db.schema.visualization()')"
      ]
    },
    {
      "cell_type": "code",
      "execution_count": null,
      "metadata": {},
      "outputs": [],
      "source": []
    }
  ],
  "metadata": {
    "colab": {
      "name": "Untitled1.ipynb",
      "provenance": []
    },
    "kernelspec": {
      "display_name": "Python 3",
      "name": "python3"
    },
    "language_info": {
      "codemirror_mode": {
        "name": "ipython",
        "version": 3
      },
      "file_extension": ".py",
      "mimetype": "text/x-python",
      "name": "python",
      "nbconvert_exporter": "python",
      "pygments_lexer": "ipython3",
      "version": "3.10.1"
    }
  },
  "nbformat": 4,
  "nbformat_minor": 0
}

{
 "cells": [
  {
   "cell_type": "code",
   "execution_count": 2,
   "id": "7c68bc0d",
   "metadata": {},
   "outputs": [
    {
     "name": "stderr",
     "output_type": "stream",
     "text": [
      "[nltk_data] Downloading package stopwords to /home/arfa/nltk_data...\n",
      "[nltk_data]   Package stopwords is already up-to-date!\n"
     ]
    },
    {
     "data": {
      "text/plain": [
       "True"
      ]
     },
     "execution_count": 2,
     "metadata": {},
     "output_type": "execute_result"
    }
   ],
   "source": [
    "import nltk\n",
    "from nltk.corpus import stopwords\n",
    "nltk.download('stopwords')"
   ]
  },
  {
   "cell_type": "code",
   "execution_count": 4,
   "id": "0871ee6f",
   "metadata": {},
   "outputs": [],
   "source": [
    "sent = \"Half of all people living in Belgium has now received a coronavirus booster dose, as new cases continue to rapidly increase as a result of the Omicron variant. As of Sunday, some 5.87 million people have received a booster dose of a coronavirus vaccine, representing 63% of over -18s and 51% of the entire population, according to the figures published by the Sciensano Public Health Institute on Tuesday morning.\"\n",
    "\n",
    "stop_words = stopwords.words('english')\n",
    "\n",
    "def remove_stopwords(text):\n",
    "    text = ' '.join(word for word in text.split(' ') if word not in stop_words)\n",
    "    return text\n",
    "    \n",
    "article= remove_stopwords(sent)\n"
   ]
  },
  {
   "cell_type": "code",
   "execution_count": 5,
   "id": "bba03651",
   "metadata": {},
   "outputs": [
    {
     "name": "stdout",
     "output_type": "stream",
     "text": [
      "(S\n",
      "  (GPE Half/NN)\n",
      "  people/NNS\n",
      "  living/VBG\n",
      "  (PERSON Belgium/NNP)\n",
      "  received/VBD\n",
      "  coronavirus/JJ\n",
      "  booster/NN\n",
      "  dose/NN\n",
      "  ,/,\n",
      "  new/JJ\n",
      "  cases/NNS\n",
      "  continue/VBP\n",
      "  rapidly/RB\n",
      "  increase/VB\n",
      "  result/NN\n",
      "  (PERSON Omicron/NNP)\n",
      "  variant/NN\n",
      "  ./.)\n",
      "(S\n",
      "  As/IN\n",
      "  Sunday/NNP\n",
      "  ,/,\n",
      "  5.87/CD\n",
      "  million/CD\n",
      "  people/NNS\n",
      "  received/VBD\n",
      "  booster/RB\n",
      "  dose/JJ\n",
      "  coronavirus/NN\n",
      "  vaccine/NN\n",
      "  ,/,\n",
      "  representing/VBG\n",
      "  63/CD\n",
      "  %/NN\n",
      "  -18s/JJ\n",
      "  51/CD\n",
      "  %/NN\n",
      "  entire/JJ\n",
      "  population/NN\n",
      "  ,/,\n",
      "  according/VBG\n",
      "  figures/NNS\n",
      "  published/VBN\n",
      "  (PERSON Sciensano/NNP Public/NNP Health/NNP Institute/NNP)\n",
      "  Tuesday/NNP\n",
      "  morning/NN\n",
      "  ./.)\n"
     ]
    }
   ],
   "source": [
    "import re\n",
    "import nltk\n",
    "from nltk.sem.relextract import extract_rels, rtuple\n",
    "from nltk.tokenize import sent_tokenize, word_tokenize\n",
    "\n",
    "\n",
    "def test(sent):\n",
    "   # \"Tom is the cofounder of Microsoft\"\n",
    "\n",
    "    sentences = sent_tokenize(sent)\n",
    "    tokenized_sentences = [word_tokenize(sentence) for sentence in sentences]\n",
    "    tagged_sentences = [nltk.tag.pos_tag(sentence) for sentence in tokenized_sentences]\n",
    "\n",
    "    OF = re.compile(r'.*\\bof\\b.*')\n",
    "\n",
    "    for i, sent in enumerate(tagged_sentences):\n",
    "        sent = nltk.chunk.ne_chunk(sent) # ne_chunk method expects one tagged sentence\n",
    "        print(sent)\n",
    "        rels = extract_rels('PER', 'LOC', sent, corpus=\"ace\", pattern=OF, window=7) \n",
    "        for rel in rels:\n",
    "            print(\"1\")\n",
    "            print('{0:<5}{1}'.format(i, rtuple(rel)))\n",
    "\n",
    "if __name__ == '__main__':\n",
    "    test(article)"
   ]
  },
  {
   "cell_type": "code",
   "execution_count": null,
   "id": "44fbe6c5",
   "metadata": {},
   "outputs": [],
   "source": []
  }
 ],
 "metadata": {
  "kernelspec": {
   "display_name": "Python 3 (ipykernel)",
   "language": "python",
   "name": "python3"
  },
  "language_info": {
   "codemirror_mode": {
    "name": "ipython",
    "version": 3
   },
   "file_extension": ".py",
   "mimetype": "text/x-python",
   "name": "python",
   "nbconvert_exporter": "python",
   "pygments_lexer": "ipython3",
   "version": "3.7.11"
  }
 },
 "nbformat": 4,
 "nbformat_minor": 5
}

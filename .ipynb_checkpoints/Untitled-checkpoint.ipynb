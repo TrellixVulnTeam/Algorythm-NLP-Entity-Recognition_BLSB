{
 "cells": [
  {
   "cell_type": "code",
   "execution_count": 22,
   "id": "bba03651",
   "metadata": {},
   "outputs": [
    {
     "name": "stdout",
     "output_type": "stream",
     "text": [
      "(S (PERSON Billy/NNP) was/VBD born/VBN in/IN (GPE Seattle/NNP) ./.)\n"
     ]
    }
   ],
   "source": [
    "import re\n",
    "import nltk\n",
    "from nltk.sem.relextract import extract_rels, rtuple\n",
    "from nltk.tokenize import sent_tokenize, word_tokenize\n",
    "\n",
    "\n",
    "def test():\n",
    "    sample = \"Billy was born in Seattle.\"   # \"Tom is the cofounder of Microsoft\"\n",
    "\n",
    "    sentences = sent_tokenize(sample)\n",
    "    tokenized_sentences = [word_tokenize(sentence) for sentence in sentences]\n",
    "    tagged_sentences = [nltk.tag.pos_tag(sentence) for sentence in tokenized_sentences]\n",
    "\n",
    "    OF = re.compile(r'.*\\bof\\b.*')\n",
    "\n",
    "    for i, sent in enumerate(tagged_sentences):\n",
    "        sent = nltk.chunk.ne_chunk(sent) # ne_chunk method expects one tagged sentence\n",
    "        print(sent)\n",
    "        rels = extract_rels('PER', 'LOC', sent, corpus=\"ace\", pattern=OF, window=7) \n",
    "        for rel in rels:\n",
    "            print(\"1\")\n",
    "            print('{0:<5}{1}'.format(i, rtuple(rel)))\n",
    "\n",
    "if __name__ == '__main__':\n",
    "    test()"
   ]
  },
  {
   "cell_type": "code",
   "execution_count": null,
   "id": "44fbe6c5",
   "metadata": {},
   "outputs": [],
   "source": []
  }
 ],
 "metadata": {
  "kernelspec": {
   "display_name": "Python 3 (ipykernel)",
   "language": "python",
   "name": "python3"
  },
  "language_info": {
   "codemirror_mode": {
    "name": "ipython",
    "version": 3
   },
   "file_extension": ".py",
   "mimetype": "text/x-python",
   "name": "python",
   "nbconvert_exporter": "python",
   "pygments_lexer": "ipython3",
   "version": "3.7.11"
  }
 },
 "nbformat": 4,
 "nbformat_minor": 5
}

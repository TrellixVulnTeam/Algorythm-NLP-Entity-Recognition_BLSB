{
 "cells": [
  {
   "cell_type": "markdown",
   "metadata": {
    "id": "tx8LS_eAPlzD"
   },
   "source": [
    "Here , we have implemented a knowledge graph from the dataset that we extracted from document.\n",
    "The article by analyticsvidya (https://www.analyticsvidhya.com/blog/2019/10/how-to-build-knowledge-graph-text-using-spacy/) has been referred for this. But we have made improvements in the form of :\n",
    "1. Data Preprocessing - Removed punctuations , stop words\n",
    "2. Named Entity Recognition - This has helped in constructing a more meaningful graph with less noise.\n",
    "\n",
    "Using Named Entity Recognition has helped us to obtain relation between entities.\n",
    "Extracting entities and pattern matching needs to be improved."
   ]
  },
  {
   "cell_type": "markdown",
   "metadata": {},
   "source": [
    "## Import the necessary libraries"
   ]
  },
  {
   "cell_type": "code",
   "execution_count": 2,
   "metadata": {
    "colab": {
     "base_uri": "https://localhost:8080/"
    },
    "id": "Wl_oXLUrctJR",
    "outputId": "32c7ed0a-a6d0-430a-a111-732f09916d67"
   },
   "outputs": [],
   "source": [
    "import re\n",
    "import pandas as pd\n",
    "import spacy\n",
    "from tqdm import tqdm\n",
    "nlp = spacy.load(\"en_core_web_lg\")\n",
    "from spacy.matcher import Matcher\n",
    "import networkx as nx\n",
    "import matplotlib.pyplot as plt\n",
    "import nltk\n",
    "from nltk.tokenize import word_tokenize\n",
    "from nltk.corpus import stopwords\n",
    "import re\n",
    "import string \n",
    "tqdm._instances.clear()"
   ]
  },
  {
   "cell_type": "code",
   "execution_count": 4,
   "metadata": {
    "colab": {
     "base_uri": "https://localhost:8080/",
     "height": 74,
     "resources": {
      "http://localhost:8080/nbextensions/google.colab/files.js": {
       "data": "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",
       "headers": [
        [
         "content-type",
         "application/javascript"
        ]
       ],
       "ok": true,
       "status": 200,
       "status_text": ""
      }
     }
    },
    "id": "SJJjAdICeGY-",
    "outputId": "c816d1bd-44a6-45fd-8bee-0bbea0367929"
   },
   "outputs": [],
   "source": [
    "# Read the csv file\n",
    "sentences = pd.read_csv(\"data.csv\")"
   ]
  },
  {
   "cell_type": "code",
   "execution_count": 5,
   "metadata": {
    "colab": {
     "base_uri": "https://localhost:8080/",
     "height": 206
    },
    "id": "1uXGVgitnjKN",
    "outputId": "7d52199d-11ac-4c33-b365-f726e4b398d8"
   },
   "outputs": [
    {
     "data": {
      "text/html": [
       "<div>\n",
       "<style scoped>\n",
       "    .dataframe tbody tr th:only-of-type {\n",
       "        vertical-align: middle;\n",
       "    }\n",
       "\n",
       "    .dataframe tbody tr th {\n",
       "        vertical-align: top;\n",
       "    }\n",
       "\n",
       "    .dataframe thead th {\n",
       "        text-align: right;\n",
       "    }\n",
       "</style>\n",
       "<table border=\"1\" class=\"dataframe\">\n",
       "  <thead>\n",
       "    <tr style=\"text-align: right;\">\n",
       "      <th></th>\n",
       "      <th>Unnamed: 0</th>\n",
       "      <th>sentence</th>\n",
       "    </tr>\n",
       "  </thead>\n",
       "  <tbody>\n",
       "    <tr>\n",
       "      <th>0</th>\n",
       "      <td>0</td>\n",
       "      <td>KEATING REVISES DOWN AUSTRALIAN GROWTH FORECAS...</td>\n",
       "    </tr>\n",
       "    <tr>\n",
       "      <th>1</th>\n",
       "      <td>1</td>\n",
       "      <td>25 % forecast contained in the 1986 / 87 budge...</td>\n",
       "    </tr>\n",
       "    <tr>\n",
       "      <th>2</th>\n",
       "      <td>2</td>\n",
       "      <td>Australia ' s terms of trade also fell , by 18...</td>\n",
       "    </tr>\n",
       "    <tr>\n",
       "      <th>3</th>\n",
       "      <td>3</td>\n",
       "      <td>Terms of trade are the difference between impo...</td>\n",
       "    </tr>\n",
       "    <tr>\n",
       "      <th>4</th>\n",
       "      <td>4</td>\n",
       "      <td>Despite the figures , the budget forecast of a...</td>\n",
       "    </tr>\n",
       "  </tbody>\n",
       "</table>\n",
       "</div>"
      ],
      "text/plain": [
       "   Unnamed: 0                                           sentence\n",
       "0           0  KEATING REVISES DOWN AUSTRALIAN GROWTH FORECAS...\n",
       "1           1  25 % forecast contained in the 1986 / 87 budge...\n",
       "2           2  Australia ' s terms of trade also fell , by 18...\n",
       "3           3  Terms of trade are the difference between impo...\n",
       "4           4  Despite the figures , the budget forecast of a..."
      ]
     },
     "execution_count": 5,
     "metadata": {},
     "output_type": "execute_result"
    }
   ],
   "source": [
    "sentences.head()"
   ]
  },
  {
   "cell_type": "markdown",
   "metadata": {
    "id": "XiF48BhCh0ef"
   },
   "source": [
    "## Entity Pairs Extraction Function"
   ]
  },
  {
   "cell_type": "code",
   "execution_count": 13,
   "metadata": {
    "id": "SWfQjbjxhzsJ"
   },
   "outputs": [],
   "source": [
    "def get_entity(sent):\n",
    "    ent1 = \"\" #subject entity\n",
    "    ent2 = \"\" #object entity\n",
    "\n",
    "    prev_token_text = \"\" #text from previous token\n",
    "    prev_token_dep = \"\"  #depedency from previous token\n",
    "\n",
    "    prefix = \"\"\n",
    "    modifier = \"\"\n",
    "\n",
    "    for tok in nlp(sent):\n",
    "        #Go in only if it is not a punctuation, else next word\n",
    "        if tok.dep_ != \"punct\":\n",
    "            #Check if token is a compund word\n",
    "            if tok.dep_ == \"compound\":\n",
    "                prefix = tok.text\n",
    "                #Check if previous token is also a compound\n",
    "                if prev_token_dep == \"compound\":\n",
    "                    prefix = prev_token_text + \" \"+ prefix\n",
    "\n",
    "            #Check if token is a modifier or not\n",
    "            if tok.dep_.endswith(\"mod\")==True:\n",
    "                modifier = tok.text \n",
    "            #Check if previous token is a compound\n",
    "                if prev_token_dep == \"compound\":\n",
    "                    modifier = prev_token_text + \" \" + tok.text\n",
    "\n",
    "            #Checking if subject\n",
    "            if tok.dep_.find(\"subj\") == True:\n",
    "                ent1 =modifier+ \" \" + prefix + \" \" + tok.text\n",
    "                prefix = \"\"\n",
    "                modifer = \"\"\n",
    "                prev_token_dep = \"\"\n",
    "                prev_token_text = \"\"\n",
    "            #Checking if object\n",
    "            if tok.dep_.find(\"obj\") == True:\n",
    "                ent2 =modifier+ \" \" + prefix + \" \" + tok.text\n",
    "        \n",
    "\n",
    "            #Update variables\n",
    "            prev_token_text = tok.text\n",
    "            prev_token_dep = tok.dep_\n",
    "\n",
    "     \n",
    "    return [ent1.strip(), ent2.strip()]    "
   ]
  },
  {
   "cell_type": "markdown",
   "metadata": {
    "id": "LsBHlYACs5zK"
   },
   "source": [
    "#### Now lets obtain entity pairs from a sentence"
   ]
  },
  {
   "cell_type": "code",
   "execution_count": 14,
   "metadata": {
    "colab": {
     "base_uri": "https://localhost:8080/"
    },
    "id": "wNz-ePkwtDY8",
    "outputId": "69f8f48f-a2a8-4a53-8032-b8526f7ad4e3"
   },
   "outputs": [
    {
     "name": "stdout",
     "output_type": "stream",
     "text": [
      "Subj : Paul keating, obj : Australia\n"
     ]
    },
    {
     "data": {
      "text/plain": [
       "['Paul keating', 'Australia']"
      ]
     },
     "execution_count": 14,
     "metadata": {},
     "output_type": "execute_result"
    }
   ],
   "source": [
    "[ent1,ent2] = get_entity(\"Paul keating is from Australia\")\n",
    "print(\"Subj : {a}, obj : {b}\".format(a = ent1, b = ent2))\n",
    "get_entity(\"Paul keating is from Australia\")"
   ]
  },
  {
   "cell_type": "code",
   "execution_count": 15,
   "metadata": {
    "colab": {
     "base_uri": "https://localhost:8080/"
    },
    "id": "X67p-V-pJI2o",
    "outputId": "9d9613ef-e45b-4589-97a3-9c8b7bd5e6a3"
   },
   "outputs": [
    {
     "name": "stderr",
     "output_type": "stream",
     "text": [
      "100%|████████████████████████████████████████████████████████████| 11/11 [00:00<00:00, 142.09it/s]\n"
     ]
    },
    {
     "data": {
      "text/plain": [
       "[['AUSTRALIAN Treasurer Paul Keating', 'down  2'],\n",
       " ['', '87 % budget'],\n",
       " ['two  he', 'two  Parliament'],\n",
       " ['Terms', 'import price indexes'],\n",
       " ['', 'about budget 1'],\n",
       " ['annual  Keating', 'annual  employment'],\n",
       " ['Unemployment', 'currently  8'],\n",
       " ['', '2  workforce'],\n",
       " ['Second World Keating', 'Second World War'],\n",
       " ['We', 'recession'],\n",
       " ['only  country', 'only  recession']]"
      ]
     },
     "execution_count": 15,
     "metadata": {},
     "output_type": "execute_result"
    }
   ],
   "source": [
    "entity_pairs = []\n",
    "for i in tqdm(sentences['sentence']):\n",
    "    entity_pairs.append(get_entity(i))\n",
    "tqdm._instances.clear()\n",
    "entity_pairs"
   ]
  },
  {
   "cell_type": "code",
   "execution_count": 16,
   "metadata": {
    "colab": {
     "base_uri": "https://localhost:8080/"
    },
    "id": "QcdHSNZEJ1KY",
    "outputId": "97551d0f-2f27-4573-e4f6-fbcb66b167af"
   },
   "outputs": [
    {
     "data": {
      "text/plain": [
       "['down  2',\n",
       " '87 % budget',\n",
       " 'two  Parliament',\n",
       " 'import price indexes',\n",
       " 'about budget 1',\n",
       " 'annual  employment',\n",
       " 'currently  8',\n",
       " '2  workforce',\n",
       " 'Second World War',\n",
       " 'recession',\n",
       " 'only  recession']"
      ]
     },
     "execution_count": 16,
     "metadata": {},
     "output_type": "execute_result"
    }
   ],
   "source": [
    "subjects = []\n",
    "objects = []\n",
    "subjects = [x[0] for x in entity_pairs]\n",
    "objects = [x[1] for x in entity_pairs]\n",
    "subjects\n",
    "objects"
   ]
  },
  {
   "cell_type": "markdown",
   "metadata": {
    "id": "YOtn2qHOX0kT"
   },
   "source": [
    "## Relation Extraction"
   ]
  },
  {
   "cell_type": "markdown",
   "metadata": {
    "id": "20yxhRHRQZkN"
   },
   "source": [
    "The Relation between nodes has been extracted. The hypothesis is that the main verb or the Root word forms the relation between the subject and the object."
   ]
  },
  {
   "cell_type": "code",
   "execution_count": 30,
   "metadata": {
    "id": "sGHptz-fR4VD"
   },
   "outputs": [],
   "source": [
    "def get_relation(sent):\n",
    "    doc = nlp(sent)\n",
    "    #We initialise matcher with the vocab\n",
    "    matcher = Matcher(nlp.vocab)\n",
    "    #Defining the pattern\n",
    " \n",
    "    pattern = [{'DEP':'ROOT'}, \n",
    "            {'DEP':'prep','OP':\"?\"},\n",
    "            {'DEP':'agent','OP':\"?\"},  \n",
    "            {'POS':'ADJ','OP':\"?\"}] \n",
    "    #Adding the pattern to the matcher\n",
    "    matcher.add(\"matching_1\",[pattern])\n",
    "    #Applying the matcher to the doc\n",
    "    \n",
    "\n",
    "    matches = matcher(doc)\n",
    "    k = len(matches)-1\n",
    "\n",
    "\n",
    "    span = doc[matches[k][1]:matches[k][2]] \n",
    "    #The matcher returns a list of (match_id, start, end). The start to end in our doc contains the relation. We capture that relation in a variable called span\n",
    "    #span = doc[matches[0][1]:matches[0][2]]\n",
    "    return span.text\n"
   ]
  },
  {
   "cell_type": "markdown",
   "metadata": {
    "id": "4_eaGQFgZGmS"
   },
   "source": [
    "Let's get the relations for the entire dataset."
   ]
  },
  {
   "cell_type": "code",
   "execution_count": 33,
   "metadata": {
    "colab": {
     "base_uri": "https://localhost:8080/"
    },
    "id": "Mv4LIex_ZSK7",
    "outputId": "83bcc42b-ef1a-43e4-d369-6561581abcaa"
   },
   "outputs": [
    {
     "name": "stderr",
     "output_type": "stream",
     "text": [
      "100%|█████████████████████████████████████████████████████████████| 11/11 [00:00<00:00, 35.03it/s]\n"
     ]
    },
    {
     "data": {
      "text/plain": [
       "['REVISES',\n",
       " 'forecast',\n",
       " 'told',\n",
       " 'are',\n",
       " 'forecast of',\n",
       " 'said',\n",
       " 'is',\n",
       " '% of',\n",
       " 'said',\n",
       " 'pushing',\n",
       " 'said']"
      ]
     },
     "execution_count": 33,
     "metadata": {},
     "output_type": "execute_result"
    }
   ],
   "source": [
    "relations = [get_relation(i) for i in tqdm(sentences['sentence'])]\n",
    "tqdm._instances.clear()\n",
    "relations"
   ]
  },
  {
   "cell_type": "code",
   "execution_count": 34,
   "metadata": {
    "colab": {
     "base_uri": "https://localhost:8080/",
     "height": 269
    },
    "id": "YGVWE366l5iV",
    "outputId": "55a30ed9-b76d-4fa0-bc7f-408c9677535e"
   },
   "outputs": [
    {
     "data": {
      "text/html": [
       "<div>\n",
       "<style scoped>\n",
       "    .dataframe tbody tr th:only-of-type {\n",
       "        vertical-align: middle;\n",
       "    }\n",
       "\n",
       "    .dataframe tbody tr th {\n",
       "        vertical-align: top;\n",
       "    }\n",
       "\n",
       "    .dataframe thead th {\n",
       "        text-align: right;\n",
       "    }\n",
       "</style>\n",
       "<table border=\"1\" class=\"dataframe\">\n",
       "  <thead>\n",
       "    <tr style=\"text-align: right;\">\n",
       "      <th></th>\n",
       "      <th>source</th>\n",
       "      <th>target</th>\n",
       "      <th>edge</th>\n",
       "    </tr>\n",
       "  </thead>\n",
       "  <tbody>\n",
       "    <tr>\n",
       "      <th>0</th>\n",
       "      <td>AUSTRALIAN Treasurer Paul Keating</td>\n",
       "      <td>down  2</td>\n",
       "      <td>REVISES</td>\n",
       "    </tr>\n",
       "    <tr>\n",
       "      <th>1</th>\n",
       "      <td></td>\n",
       "      <td>87 % budget</td>\n",
       "      <td>forecast</td>\n",
       "    </tr>\n",
       "    <tr>\n",
       "      <th>2</th>\n",
       "      <td>two  he</td>\n",
       "      <td>two  Parliament</td>\n",
       "      <td>told</td>\n",
       "    </tr>\n",
       "    <tr>\n",
       "      <th>3</th>\n",
       "      <td>Terms</td>\n",
       "      <td>import price indexes</td>\n",
       "      <td>are</td>\n",
       "    </tr>\n",
       "    <tr>\n",
       "      <th>4</th>\n",
       "      <td></td>\n",
       "      <td>about budget 1</td>\n",
       "      <td>forecast of</td>\n",
       "    </tr>\n",
       "    <tr>\n",
       "      <th>5</th>\n",
       "      <td>annual  Keating</td>\n",
       "      <td>annual  employment</td>\n",
       "      <td>said</td>\n",
       "    </tr>\n",
       "    <tr>\n",
       "      <th>6</th>\n",
       "      <td>Unemployment</td>\n",
       "      <td>currently  8</td>\n",
       "      <td>is</td>\n",
       "    </tr>\n",
       "    <tr>\n",
       "      <th>7</th>\n",
       "      <td></td>\n",
       "      <td>2  workforce</td>\n",
       "      <td>% of</td>\n",
       "    </tr>\n",
       "    <tr>\n",
       "      <th>8</th>\n",
       "      <td>Second World Keating</td>\n",
       "      <td>Second World War</td>\n",
       "      <td>said</td>\n",
       "    </tr>\n",
       "    <tr>\n",
       "      <th>9</th>\n",
       "      <td>We</td>\n",
       "      <td>recession</td>\n",
       "      <td>pushing</td>\n",
       "    </tr>\n",
       "    <tr>\n",
       "      <th>10</th>\n",
       "      <td>only  country</td>\n",
       "      <td>only  recession</td>\n",
       "      <td>said</td>\n",
       "    </tr>\n",
       "  </tbody>\n",
       "</table>\n",
       "</div>"
      ],
      "text/plain": [
       "                               source                target         edge\n",
       "0   AUSTRALIAN Treasurer Paul Keating               down  2      REVISES\n",
       "1                                               87 % budget     forecast\n",
       "2                             two  he       two  Parliament         told\n",
       "3                               Terms  import price indexes          are\n",
       "4                                            about budget 1  forecast of\n",
       "5                     annual  Keating    annual  employment         said\n",
       "6                        Unemployment          currently  8           is\n",
       "7                                              2  workforce         % of\n",
       "8                Second World Keating      Second World War         said\n",
       "9                                  We             recession      pushing\n",
       "10                      only  country       only  recession         said"
      ]
     },
     "execution_count": 34,
     "metadata": {},
     "output_type": "execute_result"
    }
   ],
   "source": [
    "# extract subject\n",
    "source = [i[0] for i in entity_pairs] \n",
    "# extract object\n",
    "target = [i[1] for i in entity_pairs] \n",
    "\n",
    "\n",
    "kg_df = pd.DataFrame({'source':source,'target':target,'edge':relations})\n",
    "kg_df"
   ]
  },
  {
   "cell_type": "code",
   "execution_count": 35,
   "metadata": {
    "colab": {
     "base_uri": "https://localhost:8080/",
     "height": 1000
    },
    "id": "jN-H5paHnJiY",
    "outputId": "34679bc4-34f2-4c03-bf25-8914d155e222"
   },
   "outputs": [
    {
     "data": {
      "image/png": "[encoded data removed]",
      "text/plain": [
       "<Figure size 1008x1008 with 1 Axes>"
      ]
     },
     "metadata": {},
     "output_type": "display_data"
    }
   ],
   "source": [
    " \n",
    "import matplotlib.pyplot as plot\n",
    "# Create DG from the dataframe\n",
    "graph = nx.from_pandas_edgelist(kg_df, \"source\", \"target\",\n",
    "                         edge_attr=True, create_using=nx.MultiDiGraph())\n",
    "# plotting the network\n",
    "plot.figure(figsize=(14, 14))\n",
    "posn = nx.spring_layout(graph)\n",
    "nx.draw(graph, with_labels=True, node_color='green', edge_cmap=plot.cm.Blues, pos = posn)\n",
    "plot.show()"
   ]
  },
  {
   "cell_type": "markdown",
   "metadata": {
    "id": "UeJlsdhrn4Fu"
   },
   "source": [
    "### Data Pre - Processing"
   ]
  },
  {
   "cell_type": "markdown",
   "metadata": {
    "id": "XIFLhbdN2Ce5"
   },
   "source": [
    "Let's see what happens if we pre-process the data and then plot a graph.\n",
    "We remove stopwords and punctuation marks."
   ]
  },
  {
   "cell_type": "code",
   "execution_count": 36,
   "metadata": {
    "colab": {
     "base_uri": "https://localhost:8080/"
    },
    "id": "im1IPD_ll0_H",
    "outputId": "b44cd08e-8b3d-454f-b294-5334f0621c96"
   },
   "outputs": [
    {
     "name": "stderr",
     "output_type": "stream",
     "text": [
      "[nltk_data] Downloading package punkt to /home/arfa/nltk_data...\n",
      "[nltk_data]   Package punkt is already up-to-date!\n",
      "[nltk_data] Downloading package stopwords to /home/arfa/nltk_data...\n",
      "[nltk_data]   Package stopwords is already up-to-date!\n"
     ]
    },
    {
     "data": {
      "text/plain": [
       "True"
      ]
     },
     "execution_count": 36,
     "metadata": {},
     "output_type": "execute_result"
    }
   ],
   "source": [
    "import nltk\n",
    "nltk.download('punkt')\n",
    "nltk.download('stopwords')"
   ]
  },
  {
   "cell_type": "code",
   "execution_count": 37,
   "metadata": {
    "id": "T2vJhkoe2Gjn"
   },
   "outputs": [],
   "source": [
    "def isNotStopWord(word):\n",
    "    return word not in stopwords.words('english')\n",
    "\n",
    "def preprocess(sent):\n",
    "    sent = re.sub(\"[\\(\\[].*?[\\)\\]]\", \"\", sent)\n",
    "    tokens = []\n",
    "    temp = \"\"\n",
    "    words = word_tokenize(sent)\n",
    "    # Removing punctuations except '<.>/<?>/<!>'\n",
    "    punctuations = '\"#$%&\\'()*+,-/:;<=>@\\\\^_`{|}~'\n",
    "    words = map(lambda x: x.translate(str.maketrans('','',punctuations)), words)\n",
    "\n",
    "    #Now, we remove the stopwords\n",
    "    #words = map(str.lower,words)\n",
    "    words = filter(lambda x: isNotStopWord(x),words)\n",
    "    tokens = tokens + list(words)\n",
    "    temp = ' '.join(word for word in tokens)\n",
    "    return temp"
   ]
  },
  {
   "cell_type": "code",
   "execution_count": 38,
   "metadata": {
    "colab": {
     "base_uri": "https://localhost:8080/"
    },
    "id": "XScVj68C_DzN",
    "outputId": "c0c4fbd2-a3eb-425e-dde3-f5e3cb7557bb"
   },
   "outputs": [
    {
     "name": "stderr",
     "output_type": "stream",
     "text": [
      "100%|█████████████████████████████████████████████████████████████| 11/11 [00:00<00:00, 15.11it/s]\n"
     ]
    },
    {
     "data": {
      "text/plain": [
       "['KEATING REVISES DOWN AUSTRALIAN GROWTH FORECAST Treasurer Paul Keating forecast economic growth slightly two  financial year ending June year  2 .',\n",
       " '25  forecast contained 1986  87 budget delivered last August .',\n",
       " 'Australia  terms trade also fell  18   past two years  told Parliament .',\n",
       " 'Terms trade difference import export price indexes .',\n",
       " 'Despite figures  budget forecast 1 .',\n",
       " '75  annual growth employment would met  Keating said .',\n",
       " 'Unemployment currently 8 .',\n",
       " '2  workforce . ',\n",
       " 'This government dragging Australia trading holocaust kind seen since Second World War   Keating said . ',\n",
       " 'We pushing place recession .',\n",
       " 'We holding gains unemployment  bringing unemployment   said  adding government help country avoid recession .']"
      ]
     },
     "execution_count": 38,
     "metadata": {},
     "output_type": "execute_result"
    }
   ],
   "source": [
    "preprocessed_sentences = [preprocess(i) for i in tqdm(sentences['sentence'])]\n",
    "tqdm._instances.clear()\n",
    "preprocessed_sentences"
   ]
  },
  {
   "cell_type": "markdown",
   "metadata": {
    "id": "JgbIdO7wHTs0"
   },
   "source": [
    "Getting entity pairs from preprocessed sentences"
   ]
  },
  {
   "cell_type": "code",
   "execution_count": 42,
   "metadata": {
    "colab": {
     "base_uri": "https://localhost:8080/"
    },
    "id": "7LQZBejeESVD",
    "outputId": "9c359562-a9af-459d-957a-a1de6d2ffe49"
   },
   "outputs": [
    {
     "name": "stderr",
     "output_type": "stream",
     "text": [
      "100%|████████████████████████████████████████████████████████████| 11/11 [00:00<00:00, 137.25it/s]\n"
     ]
    },
    {
     "data": {
      "text/plain": [
       "[['AUSTRALIAN Treasurer Paul Keating', 'economic  growth'],\n",
       " ['25  forecast', '87  budget'],\n",
       " ['Australia terms trade', 'two  Parliament'],\n",
       " ['', ''],\n",
       " ['', 'figures'],\n",
       " ['annual  Keating', ''],\n",
       " ['Unemployment', ''],\n",
       " ['', ''],\n",
       " ['kind World War Keating', 'trading holocaust'],\n",
       " ['We', 'place recession'],\n",
       " ['gains unemployment', 'adding government help recession']]"
      ]
     },
     "execution_count": 42,
     "metadata": {},
     "output_type": "execute_result"
    }
   ],
   "source": [
    "entity_pairs2 = []\n",
    "for i in tqdm(preprocessed_sentences):\n",
    "    entity_pairs2.append(get_entity(i))\n",
    "tqdm._instances.clear()\n",
    "entity_pairs2"
   ]
  },
  {
   "cell_type": "code",
   "execution_count": 43,
   "metadata": {
    "colab": {
     "base_uri": "https://localhost:8080/"
    },
    "id": "bSFwh-p3HuCo",
    "outputId": "09cf1056-a31d-4da0-fb7a-cf0c9952cf49"
   },
   "outputs": [
    {
     "name": "stderr",
     "output_type": "stream",
     "text": [
      "100%|████████████████████████████████████████████████████████████| 11/11 [00:00<00:00, 110.94it/s]\n"
     ]
    },
    {
     "data": {
      "text/plain": [
       "['REVISES',\n",
       " 'contained',\n",
       " 'told',\n",
       " 'indexes',\n",
       " 'Despite',\n",
       " 'said',\n",
       " '8',\n",
       " 'workforce',\n",
       " 'said',\n",
       " 'pushing',\n",
       " 'said']"
      ]
     },
     "execution_count": 43,
     "metadata": {},
     "output_type": "execute_result"
    }
   ],
   "source": [
    "relations2 = [get_relation(i) for i in tqdm(preprocessed_sentences)]\n",
    "tqdm._instances.clear()\n",
    "relations2"
   ]
  },
  {
   "cell_type": "code",
   "execution_count": 61,
   "metadata": {
    "colab": {
     "base_uri": "https://localhost:8080/"
    },
    "id": "ZDMsFjZEIiZj",
    "outputId": "d3340eb9-a0e1-45af-c7a4-3d49f97dce4b"
   },
   "outputs": [
    {
     "name": "stderr",
     "output_type": "stream",
     "text": [
      "100%|███████████████████████████████████████████████████████████| 11/11 [00:00<00:00, 1526.36it/s]\n"
     ]
    },
    {
     "data": {
      "text/plain": [
       "[['AUSTRALIAN Treasurer Paul Keating', 'economic  growth'],\n",
       " ['25  forecast', '87  budget'],\n",
       " ['Australia terms trade', 'two  Parliament'],\n",
       " ['kind World War Keating', 'trading holocaust'],\n",
       " ['We', 'place recession'],\n",
       " ['gains unemployment', 'adding government help recession']]"
      ]
     },
     "execution_count": 61,
     "metadata": {},
     "output_type": "execute_result"
    }
   ],
   "source": [
    "#We keep relations only for those entities whose both source and target are present\n",
    "entity_pairs3 = []\n",
    "relations3 = []\n",
    "for i in tqdm(range(len(entity_pairs2))):\n",
    "    if entity_pairs2[i][0]!='' and entity_pairs2[i][1]!='':\n",
    "        entity_pairs3.append(entity_pairs2[i])\n",
    "        relations3.append(relations2[i])\n",
    "tqdm._instances.clear()\n",
    "\n",
    "entity_pairs3\n",
    "#relations3"
   ]
  },
  {
   "cell_type": "markdown",
   "metadata": {
    "id": "6DCcdgSEN3_a"
   },
   "source": [
    "**Named Entity Recognition Using Spacy**"
   ]
  },
  {
   "cell_type": "code",
   "execution_count": 62,
   "metadata": {
    "id": "4RLIWCFTLDY0"
   },
   "outputs": [],
   "source": [
    "source1 = []\n",
    "target1 = []\n",
    "edge1 = []\n",
    "for i in (range(len(entity_pairs3))):\n",
    "    doc_source = nlp(entity_pairs3[i][0]).ents #Getting the named entities for source\n",
    "    #Converting the named entity tuple to String\n",
    "    str_source = [str(word) for word in doc_source]\n",
    "    doc_source = ' '.join(str_source)\n",
    "    doc_target = nlp(entity_pairs3[i][1]).ents #Getting the named entities for target\n",
    "    #Converting the named entity tuple to String\n",
    "    str_target = [str(word) for word in doc_target]\n",
    "    doc_target = ' '.join(str_target)\n",
    "    if doc_source != '' or doc_target != '':\n",
    "        edge1.append(relations3[i])\n",
    "        source1.append(entity_pairs3[i][0])\n",
    "        target1.append(entity_pairs3[i][1])\n"
   ]
  },
  {
   "cell_type": "markdown",
   "metadata": {
    "id": "sMW_Ssw9N-TD"
   },
   "source": [
    "We had obtained entity pairs before but they had many irrelevant words.\n",
    "We narrowed them down quite a bit by preprocessing. Now, we obtain the named entity pairs which will form source and target respectively.\n",
    "It looks like (source, target, edge). We prune this further by removing all the data which have neither source or target entity as a Named Entity.\n"
   ]
  },
  {
   "cell_type": "markdown",
   "metadata": {
    "id": "7tWe40xLO4oz"
   },
   "source": [
    "**Now, we find the most popular Source , Target and Relations**"
   ]
  },
  {
   "cell_type": "code",
   "execution_count": 63,
   "metadata": {
    "colab": {
     "base_uri": "https://localhost:8080/"
    },
    "id": "cG5s8-LKUbx8",
    "outputId": "100fe512-a5e7-49ef-d38e-addfea511c6c"
   },
   "outputs": [
    {
     "name": "stdout",
     "output_type": "stream",
     "text": [
      "###################   Source entites    ###################### \n",
      " AUSTRALIAN Treasurer Paul Keating    1\n",
      "25  forecast                         1\n",
      "Australia terms trade                1\n",
      "kind World War Keating               1\n",
      "dtype: int64\n",
      "###################  Target entites    ###################### \n",
      " economic  growth     1\n",
      "87  budget           1\n",
      "two  Parliament      1\n",
      "trading holocaust    1\n",
      "dtype: int64\n",
      "###################  Relationship between entities        ###################### \n",
      " REVISES      1\n",
      "contained    1\n",
      "told         1\n",
      "said         1\n",
      "dtype: int64\n"
     ]
    }
   ],
   "source": [
    "print(\"###################   Source entites    ###################### \\n\",pd.Series(source1).value_counts()[:10])\n",
    "print(\"###################  Target entites    ###################### \\n\",pd.Series(target1).value_counts()[:10])\n",
    "print(\"###################  Relationship between entities        ###################### \\n\",pd.Series(edge1).value_counts()[:10])"
   ]
  },
  {
   "cell_type": "markdown",
   "metadata": {
    "id": "r_P4675zeObP"
   },
   "source": [
    "**Constructing the Knowledge Graph**"
   ]
  },
  {
   "cell_type": "markdown",
   "metadata": {
    "id": "mvGJusMSPO1v"
   },
   "source": [
    "We first take the knowledge graph in a pandas dataframe. It will be a directional graph."
   ]
  },
  {
   "cell_type": "code",
   "execution_count": 64,
   "metadata": {
    "colab": {
     "base_uri": "https://localhost:8080/",
     "height": 143
    },
    "id": "kmy0gF_neNqT",
    "outputId": "965e7654-d34c-46a5-c092-773660c51355"
   },
   "outputs": [
    {
     "data": {
      "text/html": [
       "<div>\n",
       "<style scoped>\n",
       "    .dataframe tbody tr th:only-of-type {\n",
       "        vertical-align: middle;\n",
       "    }\n",
       "\n",
       "    .dataframe tbody tr th {\n",
       "        vertical-align: top;\n",
       "    }\n",
       "\n",
       "    .dataframe thead th {\n",
       "        text-align: right;\n",
       "    }\n",
       "</style>\n",
       "<table border=\"1\" class=\"dataframe\">\n",
       "  <thead>\n",
       "    <tr style=\"text-align: right;\">\n",
       "      <th></th>\n",
       "      <th>source</th>\n",
       "      <th>target</th>\n",
       "      <th>edge</th>\n",
       "    </tr>\n",
       "  </thead>\n",
       "  <tbody>\n",
       "    <tr>\n",
       "      <th>0</th>\n",
       "      <td>AUSTRALIAN Treasurer Paul Keating</td>\n",
       "      <td>economic  growth</td>\n",
       "      <td>REVISES</td>\n",
       "    </tr>\n",
       "    <tr>\n",
       "      <th>1</th>\n",
       "      <td>25  forecast</td>\n",
       "      <td>87  budget</td>\n",
       "      <td>contained</td>\n",
       "    </tr>\n",
       "    <tr>\n",
       "      <th>2</th>\n",
       "      <td>Australia terms trade</td>\n",
       "      <td>two  Parliament</td>\n",
       "      <td>told</td>\n",
       "    </tr>\n",
       "    <tr>\n",
       "      <th>3</th>\n",
       "      <td>kind World War Keating</td>\n",
       "      <td>trading holocaust</td>\n",
       "      <td>said</td>\n",
       "    </tr>\n",
       "  </tbody>\n",
       "</table>\n",
       "</div>"
      ],
      "text/plain": [
       "                              source             target       edge\n",
       "0  AUSTRALIAN Treasurer Paul Keating   economic  growth    REVISES\n",
       "1                       25  forecast         87  budget  contained\n",
       "2              Australia terms trade    two  Parliament       told\n",
       "3             kind World War Keating  trading holocaust       said"
      ]
     },
     "execution_count": 64,
     "metadata": {},
     "output_type": "execute_result"
    }
   ],
   "source": [
    "knowledge_graph_df = pd.DataFrame({'source':source1, 'target':target1, 'edge':edge1})\n",
    "knowledge_graph_df\n",
    "#MultiDIGRaph because its a directional graph"
   ]
  },
  {
   "cell_type": "code",
   "execution_count": 54,
   "metadata": {
    "colab": {
     "base_uri": "https://localhost:8080/"
    },
    "id": "-uVet_IJt5Pm",
    "outputId": "55a553da-3a29-4a6d-a098-ccf564b705ef"
   },
   "outputs": [
    {
     "name": "stderr",
     "output_type": "stream",
     "text": [
      "[nltk_data] Downloading package averaged_perceptron_tagger to\n",
      "[nltk_data]     /home/arfa/nltk_data...\n",
      "[nltk_data]   Package averaged_perceptron_tagger is already up-to-\n",
      "[nltk_data]       date!\n"
     ]
    },
    {
     "data": {
      "text/plain": [
       "True"
      ]
     },
     "execution_count": 54,
     "metadata": {},
     "output_type": "execute_result"
    }
   ],
   "source": [
    "nltk.download('averaged_perceptron_tagger')"
   ]
  },
  {
   "cell_type": "code",
   "execution_count": 73,
   "metadata": {
    "colab": {
     "base_uri": "https://localhost:8080/",
     "height": 751
    },
    "id": "8BSKed5flM09",
    "outputId": "dba49297-6908-45fb-cef7-7ef27da5c5de"
   },
   "outputs": [
    {
     "data": {
      "image/png": "[encoded data removed]",
      "text/plain": [
       "<Figure size 720x720 with 1 Axes>"
      ]
     },
     "metadata": {},
     "output_type": "display_data"
    }
   ],
   "source": [
    "G = nx.from_pandas_edgelist(knowledge_graph_df, source = 'source', target = 'target', edge_attr = True, create_using= nx.MultiDiGraph())\n",
    "#MultiDIGRaph because its a directional graph\n",
    "plt.figure(figsize = (10,10))\n",
    "pox = nx.spring_layout(G,k = 3.0) #k defines the distnace between nodes\n",
    "nx.draw(G, with_labels= True, node_size = 2500)\n",
    "plt.show()"
   ]
  },
  {
   "cell_type": "code",
   "execution_count": null,
   "metadata": {},
   "outputs": [],
   "source": []
  }
 ],
 "metadata": {
  "colab": {
   "name": "Building_a_knowledge_graph_using_NER.ipynb",
   "provenance": []
  },
  "kernelspec": {
   "display_name": "Python 3 (ipykernel)",
   "language": "python",
   "name": "python3"
  },
  "language_info": {
   "codemirror_mode": {
    "name": "ipython",
    "version": 3
   },
   "file_extension": ".py",
   "mimetype": "text/x-python",
   "name": "python",
   "nbconvert_exporter": "python",
   "pygments_lexer": "ipython3",
   "version": "3.7.11"
  }
 },
 "nbformat": 4,
 "nbformat_minor": 1
}

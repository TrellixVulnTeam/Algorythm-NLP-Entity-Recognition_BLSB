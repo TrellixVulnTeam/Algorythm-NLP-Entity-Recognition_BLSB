{
 "cells": [
  {
   "cell_type": "markdown",
   "id": "0d153543",
   "metadata": {},
   "source": [
    "## Information Extraction Pipeline"
   ]
  },
  {
   "cell_type": "markdown",
   "id": "9d6c7338",
   "metadata": {},
   "source": [
    "![image](https://miro.medium.com/max/700/1*pHl8XXk0GMo_40rRLRVDqA.png)"
   ]
  },
  {
   "cell_type": "markdown",
   "id": "7d772690",
   "metadata": {},
   "source": [
    "#### Coreference resolution"
   ]
  },
  {
   "cell_type": "code",
   "execution_count": 1,
   "id": "080e1978",
   "metadata": {},
   "outputs": [],
   "source": [
    "# import Libraries\n",
    "from nltk.corpus import reuters\n",
    "import pandas as pd"
   ]
  },
  {
   "cell_type": "code",
   "execution_count": 2,
   "id": "6d9c67ee",
   "metadata": {},
   "outputs": [
    {
     "name": "stdout",
     "output_type": "stream",
     "text": [
      "The original list : [[['KEATING', 'REVISES', 'DOWN', 'AUSTRALIAN', 'GROWTH', 'FORECAST', 'Treasurer', 'Paul', 'Keating', 'forecast', 'economic', 'growth', 'at', 'slightly', 'under', 'two', 'pct', 'in', 'the', 'financial', 'year', 'ending', 'June', 'this', 'year', ',', 'down', 'from', 'the', '2', '.', '25', 'pct', 'forecast', 'contained', 'in', 'the', '1986', '/', '87', 'budget', 'delivered', 'last', 'August', '.'], ['Australia', \"'\", 's', 'terms', 'of', 'trade', 'also', 'fell', ',', 'by', '18', 'pct', ',', 'over', 'the', 'past', 'two', 'years', ',', 'he', 'told', 'Parliament', '.'], ['Terms', 'of', 'trade', 'are', 'the', 'difference', 'between', 'import', 'and', 'export', 'price', 'indexes', '.'], ['Despite', 'the', 'figures', ',', 'the', 'budget', 'forecast', 'of', 'about', '1', '.', '75', 'pct', 'annual', 'growth', 'in', 'employment', 'would', 'be', 'met', ',', 'Keating', 'said', '.'], ['Unemployment', 'is', 'currently', 'at', '8', '.', '2', 'pct', 'of', 'the', 'workforce', '.'], ['\"', 'This', 'government', 'is', 'dragging', 'Australia', 'through', 'a', 'trading', 'holocaust', 'the', 'kind', 'of', 'which', 'we', 'have', 'not', 'seen', 'since', 'the', 'Second', 'World', 'War', ',\"', 'Keating', 'said', '.'], ['\"', 'We', 'are', 'not', 'pushing', 'this', 'place', 'into', 'a', 'recession', '.'], ['We', 'are', 'not', 'only', 'holding', 'our', 'gains', 'on', 'unemployment', ',', 'we', 'are', 'bringing', 'unemployment', 'down', ',\"', 'he', 'said', ',', 'adding', 'that', 'the', 'government', 'had', 'help', 'the', 'country', 'avoid', 'recession', '.']]]\n"
     ]
    }
   ],
   "source": [
    "# Print the categories of reuters dataset\n",
    "reuters.categories()\n",
    "# Check for the documents in jobs category.\n",
    "reuters.fileids(categories=['jobs'])\n",
    "x = reuters.paras(fileids=['training/9751'])\n",
    "# printing original list \n",
    "print(\"The original list : \" + str(x))"
   ]
  },
  {
   "cell_type": "code",
   "execution_count": 3,
   "id": "9717d0dd",
   "metadata": {},
   "outputs": [
    {
     "data": {
      "text/plain": [
       "'KEATING REVISES DOWN AUSTRALIAN GROWTH FORECAST Treasurer Paul Keating forecast economic growth at slightly under two pct in the financial year ending June this year , down from the 2 . 25 pct forecast contained in the 1986 / 87 budget delivered last August . Australia \\' s terms of trade also fell , by 18 pct , over the past two years , he told Parliament . Terms of trade are the difference between import and export price indexes . Despite the figures , the budget forecast of about 1 . 75 pct annual growth in employment would be met , Keating said . Unemployment is currently at 8 . 2 pct of the workforce . \" This government is dragging Australia through a trading holocaust the kind of which we have not seen since the Second World War ,\" Keating said . \" We are not pushing this place into a recession . We are not only holding our gains on unemployment , we are bringing unemployment down ,\" he said , adding that the government had help the country avoid recession .'"
      ]
     },
     "execution_count": 3,
     "metadata": {},
     "output_type": "execute_result"
    }
   ],
   "source": [
    "def get_list_values(text, temp=[]):\n",
    "    for item in text:\n",
    "        if type(item) == list:\n",
    "            temp = get_list_values(item, temp)\n",
    "\n",
    "        else:\n",
    "            temp.append(item)\n",
    "\n",
    "    return temp\n",
    "\n",
    " \n",
    "text = ' '.join(get_list_values(x))\n",
    "text"
   ]
  },
  {
   "cell_type": "code",
   "execution_count": 4,
   "id": "f92e607c",
   "metadata": {},
   "outputs": [
    {
     "data": {
      "text/plain": [
       "'KEATING REVISES DOWN AUSTRALIAN GROWTH FORECAST Treasurer Paul Keating forecast economic growth at slightly under two % in the financial year ending June this year,down from the 2.25 % forecast contained in the 1986 / 87 budget delivered last August.Australia \\' s terms of trade also fell,by 18 %,over the past two years,he told Parliament.Terms of trade are the difference between import and export price indexes.Despite the figures,the budget forecast of about 1.75 % annual growth in employment would be met,Keating said.Unemployment is currently at 8.2 % of the workforce.\" This government is dragging Australia through a trading holocaust the kind of which we have not seen since the Second World War ,\" Keating said.\" We are not pushing this place into a recession.We are not only holding our gains on unemployment,we are bringing unemployment down ,\" he said,adding that the government had help the country avoid recession .'"
      ]
     },
     "execution_count": 4,
     "metadata": {},
     "output_type": "execute_result"
    }
   ],
   "source": [
    "\n",
    "text = text.replace(\" . \", \".\")\n",
    "text = text.replace(\" , \", \",\")\n",
    "text = text.replace(\"pct\",\"%\")\n",
    "text"
   ]
  },
  {
   "cell_type": "markdown",
   "id": "069a7c89",
   "metadata": {},
   "source": [
    "## Text Preprocessing using NEURALCOREF"
   ]
  },
  {
   "cell_type": "code",
   "execution_count": 5,
   "id": "3f974e9d",
   "metadata": {},
   "outputs": [],
   "source": [
    "import spacy\n",
    "import neuralcoref\n",
    "\n",
    "# Load SpaCy\n",
    "nlp = spacy.load('en')\n",
    "# Add neural coref to SpaCy's pipe\n",
    "neuralcoref.add_to_pipe(nlp)\n",
    "def coref_resolution(text):\n",
    "    \"\"\"Function that executes coreference resolution on a given text\"\"\"\n",
    "    doc = nlp(text)\n",
    "    # fetches tokens with whitespaces from spacy document\n",
    "    \n",
    "    \n",
    "    tok_list = list(token.text_with_ws for token in doc) # fetches tokens with whitespaces from spacy document\n",
    "    for cluster in doc._.coref_clusters:\n",
    "        cluster_main_words = set(cluster.main.text.split(' ')) # get tokens from representative cluster name\n",
    "        for coref in cluster:\n",
    "            if coref!=cluster.main: #if coreference element is not the representative element of that cluster\n",
    "                if coref.text!=cluster.main.text and bool(set(coref.text.split(' ')).intersection(cluster_main_words))==False: \n",
    "                # if coreference element text and representative element text are not equal and none of the coreference element words are in representative element. This was done to handle nested coreference scenarios\n",
    "                    tok_list[coref.start] = cluster.main.text + doc[coref.end-1].whitespace_\n",
    "                    for i in range(coref.start+1, coref.end):\n",
    "                        tok_list[i] = \"\"     \n",
    "    return \"\".join(tok_list)"
   ]
  },
  {
   "cell_type": "code",
   "execution_count": 6,
   "id": "bc5d5bad",
   "metadata": {},
   "outputs": [
    {
     "data": {
      "text/plain": [
       "'KEATING REVISES DOWN AUSTRALIAN GROWTH FORECAST Treasurer Paul Keating forecast economic growth at slightly under two % in the financial year ending June this year,down from the 2.25 % forecast contained in the 1986 / 87 budget delivered last August.Australia \\' s terms of trade also fell,by 18 %,over the past two years,Paul Keating told Parliament.Terms of trade are the difference between import and export price indexes.Despite the figures,the budget forecast of about 1.75 % annual growth in employment would be met,Keating said.Unemployment is currently at 8.2 % of the workforce.\" This government is dragging Australia through a trading holocaust the kind of which we have not seen since the Second World War ,\" Keating said.\" we are not pushing this place into a recession.we are not only holding we gains on unemployment,we are bringing unemployment down ,\" Paul Keating said,adding that the government had help Australia avoid recession .'"
      ]
     },
     "execution_count": 6,
     "metadata": {},
     "output_type": "execute_result"
    }
   ],
   "source": [
    "result = coref_resolution(text)\n",
    "result"
   ]
  },
  {
   "cell_type": "code",
   "execution_count": 16,
   "id": "b9c7096f",
   "metadata": {},
   "outputs": [
    {
     "name": "stdout",
     "output_type": "stream",
     "text": [
      "[Paul Keating: [Paul Keating, he, Keating, \" Keating, Keating, he], Australia: [Australia, Australia, the country], This government: [This government, the government], we: [we, We, We, our, we]]\n",
      "\n",
      "KEATING REVISES DOWN AUSTRALIAN GROWTH FORECAST Treasurer Paul Keating forecast economic growth at slightly under two % in the financial year ending June this year,down from the 2.25 % forecast contained in the 1986 / 87 budget delivered last August.Australia ' s terms of trade also fell,by 18 %,over the past two years,Paul Keating told Parliament.Terms of trade are the difference between import and export price indexes.Despite the figures,the budget forecast of about 1.75 % annual growth in employment would be met,Paul Keating said.Unemployment is currently at 8.2 % of the workforce.\" This government is dragging Australia through a trading holocaust the kind of which we have not seen since the Second World War ,Paul Keating Paul Keating said.\" we are not pushing this place into a recession.we are not only holding we gains on unemployment,we are bringing unemployment down ,\" Paul Keating said,adding that This government had help Australia avoid recession .\n"
     ]
    }
   ],
   "source": [
    "import spacy\n",
    "import neuralcoref\n",
    "\n",
    "nlp = spacy.load('en_core_web_sm')  # load the model\n",
    "neuralcoref.add_to_pipe(nlp)\n",
    "\n",
    "doc = nlp(text)  # get the spaCy Doc (composed of Tokens)\n",
    "\n",
    "print(doc._.coref_clusters)\n",
    "print(\"\")\n",
    "# Result: [Eva and Martha: [Eva and Martha, their, they], Jenny: [Jenny, her]]\n",
    "\n",
    "x = doc._.coref_resolved\n",
    "print(x)\n",
    "# Result: \"Eva and Martha didn't want Eva and Martha friend Jenny to feel lonely so Eva and Martha invited Jenny to the party.\""
   ]
  },
  {
   "cell_type": "markdown",
   "id": "16b50778",
   "metadata": {},
   "source": [
    "#### Using `neuralcoref` library by huggingface"
   ]
  },
  {
   "cell_type": "code",
   "execution_count": 17,
   "id": "e9a30d19",
   "metadata": {
    "scrolled": false
   },
   "outputs": [
    {
     "data": {
      "text/html": [
       "<div class=\"entities\" style=\"line-height: 2.5; direction: ltr\">KEATING REVISES DOWN AUSTRALIAN GROWTH FORECAST Treasurer \n",
       "<mark class=\"entity\" style=\"background: #aa9cfc; padding: 0.45em 0.6em; margin: 0 0.25em; line-height: 1; border-radius: 0.35em; box-decoration-break: clone; -webkit-box-decoration-break: clone\">\n",
       "    Paul Keating\n",
       "    <span style=\"font-size: 0.8em; font-weight: bold; line-height: 1; border-radius: 0.35em; text-transform: uppercase; vertical-align: middle; margin-left: 0.5rem\">PERSON</span>\n",
       "</mark>\n",
       " forecast economic growth at slightly under \n",
       "<mark class=\"entity\" style=\"background: #e4e7d2; padding: 0.45em 0.6em; margin: 0 0.25em; line-height: 1; border-radius: 0.35em; box-decoration-break: clone; -webkit-box-decoration-break: clone\">\n",
       "    two %\n",
       "    <span style=\"font-size: 0.8em; font-weight: bold; line-height: 1; border-radius: 0.35em; text-transform: uppercase; vertical-align: middle; margin-left: 0.5rem\">PERCENT</span>\n",
       "</mark>\n",
       " in \n",
       "<mark class=\"entity\" style=\"background: #bfe1d9; padding: 0.45em 0.6em; margin: 0 0.25em; line-height: 1; border-radius: 0.35em; box-decoration-break: clone; -webkit-box-decoration-break: clone\">\n",
       "    the financial year ending June this year\n",
       "    <span style=\"font-size: 0.8em; font-weight: bold; line-height: 1; border-radius: 0.35em; text-transform: uppercase; vertical-align: middle; margin-left: 0.5rem\">DATE</span>\n",
       "</mark>\n",
       ",down from the \n",
       "<mark class=\"entity\" style=\"background: #e4e7d2; padding: 0.45em 0.6em; margin: 0 0.25em; line-height: 1; border-radius: 0.35em; box-decoration-break: clone; -webkit-box-decoration-break: clone\">\n",
       "    2.25 %\n",
       "    <span style=\"font-size: 0.8em; font-weight: bold; line-height: 1; border-radius: 0.35em; text-transform: uppercase; vertical-align: middle; margin-left: 0.5rem\">PERCENT</span>\n",
       "</mark>\n",
       " forecast contained in the \n",
       "<mark class=\"entity\" style=\"background: #bfe1d9; padding: 0.45em 0.6em; margin: 0 0.25em; line-height: 1; border-radius: 0.35em; box-decoration-break: clone; -webkit-box-decoration-break: clone\">\n",
       "    1986 / 87\n",
       "    <span style=\"font-size: 0.8em; font-weight: bold; line-height: 1; border-radius: 0.35em; text-transform: uppercase; vertical-align: middle; margin-left: 0.5rem\">DATE</span>\n",
       "</mark>\n",
       " budget delivered \n",
       "<mark class=\"entity\" style=\"background: #bfe1d9; padding: 0.45em 0.6em; margin: 0 0.25em; line-height: 1; border-radius: 0.35em; box-decoration-break: clone; -webkit-box-decoration-break: clone\">\n",
       "    last August\n",
       "    <span style=\"font-size: 0.8em; font-weight: bold; line-height: 1; border-radius: 0.35em; text-transform: uppercase; vertical-align: middle; margin-left: 0.5rem\">DATE</span>\n",
       "</mark>\n",
       ".\n",
       "<mark class=\"entity\" style=\"background: #feca74; padding: 0.45em 0.6em; margin: 0 0.25em; line-height: 1; border-radius: 0.35em; box-decoration-break: clone; -webkit-box-decoration-break: clone\">\n",
       "    Australia\n",
       "    <span style=\"font-size: 0.8em; font-weight: bold; line-height: 1; border-radius: 0.35em; text-transform: uppercase; vertical-align: middle; margin-left: 0.5rem\">GPE</span>\n",
       "</mark>\n",
       " ' s terms of trade also fell,by \n",
       "<mark class=\"entity\" style=\"background: #e4e7d2; padding: 0.45em 0.6em; margin: 0 0.25em; line-height: 1; border-radius: 0.35em; box-decoration-break: clone; -webkit-box-decoration-break: clone\">\n",
       "    18 %\n",
       "    <span style=\"font-size: 0.8em; font-weight: bold; line-height: 1; border-radius: 0.35em; text-transform: uppercase; vertical-align: middle; margin-left: 0.5rem\">PERCENT</span>\n",
       "</mark>\n",
       ",over \n",
       "<mark class=\"entity\" style=\"background: #bfe1d9; padding: 0.45em 0.6em; margin: 0 0.25em; line-height: 1; border-radius: 0.35em; box-decoration-break: clone; -webkit-box-decoration-break: clone\">\n",
       "    the past two years\n",
       "    <span style=\"font-size: 0.8em; font-weight: bold; line-height: 1; border-radius: 0.35em; text-transform: uppercase; vertical-align: middle; margin-left: 0.5rem\">DATE</span>\n",
       "</mark>\n",
       ",\n",
       "<mark class=\"entity\" style=\"background: #aa9cfc; padding: 0.45em 0.6em; margin: 0 0.25em; line-height: 1; border-radius: 0.35em; box-decoration-break: clone; -webkit-box-decoration-break: clone\">\n",
       "    Paul Keating\n",
       "    <span style=\"font-size: 0.8em; font-weight: bold; line-height: 1; border-radius: 0.35em; text-transform: uppercase; vertical-align: middle; margin-left: 0.5rem\">PERSON</span>\n",
       "</mark>\n",
       " told \n",
       "<mark class=\"entity\" style=\"background: #7aecec; padding: 0.45em 0.6em; margin: 0 0.25em; line-height: 1; border-radius: 0.35em; box-decoration-break: clone; -webkit-box-decoration-break: clone\">\n",
       "    Parliament\n",
       "    <span style=\"font-size: 0.8em; font-weight: bold; line-height: 1; border-radius: 0.35em; text-transform: uppercase; vertical-align: middle; margin-left: 0.5rem\">ORG</span>\n",
       "</mark>\n",
       ".Terms of trade are the difference between import and export price indexes.Despite the figures,the budget forecast of \n",
       "<mark class=\"entity\" style=\"background: #e4e7d2; padding: 0.45em 0.6em; margin: 0 0.25em; line-height: 1; border-radius: 0.35em; box-decoration-break: clone; -webkit-box-decoration-break: clone\">\n",
       "    about 1.75 %\n",
       "    <span style=\"font-size: 0.8em; font-weight: bold; line-height: 1; border-radius: 0.35em; text-transform: uppercase; vertical-align: middle; margin-left: 0.5rem\">PERCENT</span>\n",
       "</mark>\n",
       " \n",
       "<mark class=\"entity\" style=\"background: #bfe1d9; padding: 0.45em 0.6em; margin: 0 0.25em; line-height: 1; border-radius: 0.35em; box-decoration-break: clone; -webkit-box-decoration-break: clone\">\n",
       "    annual\n",
       "    <span style=\"font-size: 0.8em; font-weight: bold; line-height: 1; border-radius: 0.35em; text-transform: uppercase; vertical-align: middle; margin-left: 0.5rem\">DATE</span>\n",
       "</mark>\n",
       " growth in employment would be met,\n",
       "<mark class=\"entity\" style=\"background: #aa9cfc; padding: 0.45em 0.6em; margin: 0 0.25em; line-height: 1; border-radius: 0.35em; box-decoration-break: clone; -webkit-box-decoration-break: clone\">\n",
       "    Keating\n",
       "    <span style=\"font-size: 0.8em; font-weight: bold; line-height: 1; border-radius: 0.35em; text-transform: uppercase; vertical-align: middle; margin-left: 0.5rem\">PERSON</span>\n",
       "</mark>\n",
       " said.Unemployment is currently at \n",
       "<mark class=\"entity\" style=\"background: #e4e7d2; padding: 0.45em 0.6em; margin: 0 0.25em; line-height: 1; border-radius: 0.35em; box-decoration-break: clone; -webkit-box-decoration-break: clone\">\n",
       "    8.2 %\n",
       "    <span style=\"font-size: 0.8em; font-weight: bold; line-height: 1; border-radius: 0.35em; text-transform: uppercase; vertical-align: middle; margin-left: 0.5rem\">PERCENT</span>\n",
       "</mark>\n",
       " of the workforce.&quot; This government is dragging \n",
       "<mark class=\"entity\" style=\"background: #feca74; padding: 0.45em 0.6em; margin: 0 0.25em; line-height: 1; border-radius: 0.35em; box-decoration-break: clone; -webkit-box-decoration-break: clone\">\n",
       "    Australia\n",
       "    <span style=\"font-size: 0.8em; font-weight: bold; line-height: 1; border-radius: 0.35em; text-transform: uppercase; vertical-align: middle; margin-left: 0.5rem\">GPE</span>\n",
       "</mark>\n",
       " through a trading holocaust the kind of which we have not seen since \n",
       "<mark class=\"entity\" style=\"background: #ffeb80; padding: 0.45em 0.6em; margin: 0 0.25em; line-height: 1; border-radius: 0.35em; box-decoration-break: clone; -webkit-box-decoration-break: clone\">\n",
       "    the Second World War\n",
       "    <span style=\"font-size: 0.8em; font-weight: bold; line-height: 1; border-radius: 0.35em; text-transform: uppercase; vertical-align: middle; margin-left: 0.5rem\">EVENT</span>\n",
       "</mark>\n",
       " ,&quot; \n",
       "<mark class=\"entity\" style=\"background: #aa9cfc; padding: 0.45em 0.6em; margin: 0 0.25em; line-height: 1; border-radius: 0.35em; box-decoration-break: clone; -webkit-box-decoration-break: clone\">\n",
       "    Keating\n",
       "    <span style=\"font-size: 0.8em; font-weight: bold; line-height: 1; border-radius: 0.35em; text-transform: uppercase; vertical-align: middle; margin-left: 0.5rem\">PERSON</span>\n",
       "</mark>\n",
       " said.&quot; we are not pushing this place into a recession.we are not only holding we gains on unemployment,we are bringing unemployment down ,&quot; \n",
       "<mark class=\"entity\" style=\"background: #aa9cfc; padding: 0.45em 0.6em; margin: 0 0.25em; line-height: 1; border-radius: 0.35em; box-decoration-break: clone; -webkit-box-decoration-break: clone\">\n",
       "    Paul Keating\n",
       "    <span style=\"font-size: 0.8em; font-weight: bold; line-height: 1; border-radius: 0.35em; text-transform: uppercase; vertical-align: middle; margin-left: 0.5rem\">PERSON</span>\n",
       "</mark>\n",
       " said,adding that the government had help \n",
       "<mark class=\"entity\" style=\"background: #feca74; padding: 0.45em 0.6em; margin: 0 0.25em; line-height: 1; border-radius: 0.35em; box-decoration-break: clone; -webkit-box-decoration-break: clone\">\n",
       "    Australia\n",
       "    <span style=\"font-size: 0.8em; font-weight: bold; line-height: 1; border-radius: 0.35em; text-transform: uppercase; vertical-align: middle; margin-left: 0.5rem\">GPE</span>\n",
       "</mark>\n",
       " avoid recession .</div>"
      ],
      "text/plain": [
       "<IPython.core.display.HTML object>"
      ]
     },
     "metadata": {},
     "output_type": "display_data"
    }
   ],
   "source": [
    "import spacy\n",
    "from spacy import displacy\n",
    "import en_core_web_sm\n",
    "\n",
    "# Create an instance of the small pipeline and model from SpaCy\n",
    "nlp = en_core_web_sm.load()\n",
    "doc = nlp(result)\n",
    "displacy.render(doc, jupyter=True, style='ent') "
   ]
  },
  {
   "cell_type": "code",
   "execution_count": 18,
   "id": "a8f226be",
   "metadata": {},
   "outputs": [
    {
     "data": {
      "text/html": [
       "<div class=\"entities\" style=\"line-height: 2.5; direction: ltr\">KEATING REVISES DOWN AUSTRALIAN GROWTH FORECAST Treasurer \n",
       "<mark class=\"entity\" style=\"background: #aa9cfc; padding: 0.45em 0.6em; margin: 0 0.25em; line-height: 1; border-radius: 0.35em; box-decoration-break: clone; -webkit-box-decoration-break: clone\">\n",
       "    Paul Keating\n",
       "    <span style=\"font-size: 0.8em; font-weight: bold; line-height: 1; border-radius: 0.35em; text-transform: uppercase; vertical-align: middle; margin-left: 0.5rem\">PERSON</span>\n",
       "</mark>\n",
       " forecast economic growth at slightly under \n",
       "<mark class=\"entity\" style=\"background: #e4e7d2; padding: 0.45em 0.6em; margin: 0 0.25em; line-height: 1; border-radius: 0.35em; box-decoration-break: clone; -webkit-box-decoration-break: clone\">\n",
       "    two %\n",
       "    <span style=\"font-size: 0.8em; font-weight: bold; line-height: 1; border-radius: 0.35em; text-transform: uppercase; vertical-align: middle; margin-left: 0.5rem\">PERCENT</span>\n",
       "</mark>\n",
       " in \n",
       "<mark class=\"entity\" style=\"background: #bfe1d9; padding: 0.45em 0.6em; margin: 0 0.25em; line-height: 1; border-radius: 0.35em; box-decoration-break: clone; -webkit-box-decoration-break: clone\">\n",
       "    the financial year ending June this year\n",
       "    <span style=\"font-size: 0.8em; font-weight: bold; line-height: 1; border-radius: 0.35em; text-transform: uppercase; vertical-align: middle; margin-left: 0.5rem\">DATE</span>\n",
       "</mark>\n",
       ",down from the \n",
       "<mark class=\"entity\" style=\"background: #e4e7d2; padding: 0.45em 0.6em; margin: 0 0.25em; line-height: 1; border-radius: 0.35em; box-decoration-break: clone; -webkit-box-decoration-break: clone\">\n",
       "    2.25 %\n",
       "    <span style=\"font-size: 0.8em; font-weight: bold; line-height: 1; border-radius: 0.35em; text-transform: uppercase; vertical-align: middle; margin-left: 0.5rem\">PERCENT</span>\n",
       "</mark>\n",
       " forecast contained in the \n",
       "<mark class=\"entity\" style=\"background: #bfe1d9; padding: 0.45em 0.6em; margin: 0 0.25em; line-height: 1; border-radius: 0.35em; box-decoration-break: clone; -webkit-box-decoration-break: clone\">\n",
       "    1986 / 87\n",
       "    <span style=\"font-size: 0.8em; font-weight: bold; line-height: 1; border-radius: 0.35em; text-transform: uppercase; vertical-align: middle; margin-left: 0.5rem\">DATE</span>\n",
       "</mark>\n",
       " budget delivered \n",
       "<mark class=\"entity\" style=\"background: #bfe1d9; padding: 0.45em 0.6em; margin: 0 0.25em; line-height: 1; border-radius: 0.35em; box-decoration-break: clone; -webkit-box-decoration-break: clone\">\n",
       "    last August\n",
       "    <span style=\"font-size: 0.8em; font-weight: bold; line-height: 1; border-radius: 0.35em; text-transform: uppercase; vertical-align: middle; margin-left: 0.5rem\">DATE</span>\n",
       "</mark>\n",
       ".\n",
       "<mark class=\"entity\" style=\"background: #feca74; padding: 0.45em 0.6em; margin: 0 0.25em; line-height: 1; border-radius: 0.35em; box-decoration-break: clone; -webkit-box-decoration-break: clone\">\n",
       "    Australia\n",
       "    <span style=\"font-size: 0.8em; font-weight: bold; line-height: 1; border-radius: 0.35em; text-transform: uppercase; vertical-align: middle; margin-left: 0.5rem\">GPE</span>\n",
       "</mark>\n",
       " ' s terms of trade also fell,by \n",
       "<mark class=\"entity\" style=\"background: #e4e7d2; padding: 0.45em 0.6em; margin: 0 0.25em; line-height: 1; border-radius: 0.35em; box-decoration-break: clone; -webkit-box-decoration-break: clone\">\n",
       "    18 %\n",
       "    <span style=\"font-size: 0.8em; font-weight: bold; line-height: 1; border-radius: 0.35em; text-transform: uppercase; vertical-align: middle; margin-left: 0.5rem\">PERCENT</span>\n",
       "</mark>\n",
       ",over \n",
       "<mark class=\"entity\" style=\"background: #bfe1d9; padding: 0.45em 0.6em; margin: 0 0.25em; line-height: 1; border-radius: 0.35em; box-decoration-break: clone; -webkit-box-decoration-break: clone\">\n",
       "    the past two years\n",
       "    <span style=\"font-size: 0.8em; font-weight: bold; line-height: 1; border-radius: 0.35em; text-transform: uppercase; vertical-align: middle; margin-left: 0.5rem\">DATE</span>\n",
       "</mark>\n",
       ",he told \n",
       "<mark class=\"entity\" style=\"background: #7aecec; padding: 0.45em 0.6em; margin: 0 0.25em; line-height: 1; border-radius: 0.35em; box-decoration-break: clone; -webkit-box-decoration-break: clone\">\n",
       "    Parliament\n",
       "    <span style=\"font-size: 0.8em; font-weight: bold; line-height: 1; border-radius: 0.35em; text-transform: uppercase; vertical-align: middle; margin-left: 0.5rem\">ORG</span>\n",
       "</mark>\n",
       ".Terms of trade are the difference between import and export price indexes.Despite the figures,the budget forecast of \n",
       "<mark class=\"entity\" style=\"background: #e4e7d2; padding: 0.45em 0.6em; margin: 0 0.25em; line-height: 1; border-radius: 0.35em; box-decoration-break: clone; -webkit-box-decoration-break: clone\">\n",
       "    about 1.75 %\n",
       "    <span style=\"font-size: 0.8em; font-weight: bold; line-height: 1; border-radius: 0.35em; text-transform: uppercase; vertical-align: middle; margin-left: 0.5rem\">PERCENT</span>\n",
       "</mark>\n",
       " \n",
       "<mark class=\"entity\" style=\"background: #bfe1d9; padding: 0.45em 0.6em; margin: 0 0.25em; line-height: 1; border-radius: 0.35em; box-decoration-break: clone; -webkit-box-decoration-break: clone\">\n",
       "    annual\n",
       "    <span style=\"font-size: 0.8em; font-weight: bold; line-height: 1; border-radius: 0.35em; text-transform: uppercase; vertical-align: middle; margin-left: 0.5rem\">DATE</span>\n",
       "</mark>\n",
       " growth in employment would be met,\n",
       "<mark class=\"entity\" style=\"background: #aa9cfc; padding: 0.45em 0.6em; margin: 0 0.25em; line-height: 1; border-radius: 0.35em; box-decoration-break: clone; -webkit-box-decoration-break: clone\">\n",
       "    Keating\n",
       "    <span style=\"font-size: 0.8em; font-weight: bold; line-height: 1; border-radius: 0.35em; text-transform: uppercase; vertical-align: middle; margin-left: 0.5rem\">PERSON</span>\n",
       "</mark>\n",
       " said.Unemployment is currently at \n",
       "<mark class=\"entity\" style=\"background: #e4e7d2; padding: 0.45em 0.6em; margin: 0 0.25em; line-height: 1; border-radius: 0.35em; box-decoration-break: clone; -webkit-box-decoration-break: clone\">\n",
       "    8.2 %\n",
       "    <span style=\"font-size: 0.8em; font-weight: bold; line-height: 1; border-radius: 0.35em; text-transform: uppercase; vertical-align: middle; margin-left: 0.5rem\">PERCENT</span>\n",
       "</mark>\n",
       " of the workforce.&quot; This government is dragging \n",
       "<mark class=\"entity\" style=\"background: #feca74; padding: 0.45em 0.6em; margin: 0 0.25em; line-height: 1; border-radius: 0.35em; box-decoration-break: clone; -webkit-box-decoration-break: clone\">\n",
       "    Australia\n",
       "    <span style=\"font-size: 0.8em; font-weight: bold; line-height: 1; border-radius: 0.35em; text-transform: uppercase; vertical-align: middle; margin-left: 0.5rem\">GPE</span>\n",
       "</mark>\n",
       " through a trading holocaust the kind of which we have not seen since \n",
       "<mark class=\"entity\" style=\"background: #ffeb80; padding: 0.45em 0.6em; margin: 0 0.25em; line-height: 1; border-radius: 0.35em; box-decoration-break: clone; -webkit-box-decoration-break: clone\">\n",
       "    the Second World War\n",
       "    <span style=\"font-size: 0.8em; font-weight: bold; line-height: 1; border-radius: 0.35em; text-transform: uppercase; vertical-align: middle; margin-left: 0.5rem\">EVENT</span>\n",
       "</mark>\n",
       " ,&quot; \n",
       "<mark class=\"entity\" style=\"background: #aa9cfc; padding: 0.45em 0.6em; margin: 0 0.25em; line-height: 1; border-radius: 0.35em; box-decoration-break: clone; -webkit-box-decoration-break: clone\">\n",
       "    Keating\n",
       "    <span style=\"font-size: 0.8em; font-weight: bold; line-height: 1; border-radius: 0.35em; text-transform: uppercase; vertical-align: middle; margin-left: 0.5rem\">PERSON</span>\n",
       "</mark>\n",
       " said.&quot; We are not pushing this place into a recession.We are not only holding our gains on unemployment,we are bringing unemployment down ,&quot; he said,adding that the government had help the country avoid recession .</div>"
      ],
      "text/plain": [
       "<IPython.core.display.HTML object>"
      ]
     },
     "metadata": {},
     "output_type": "display_data"
    }
   ],
   "source": [
    "# Without neuralcoref visualization.\n",
    "doc = nlp(text)\n",
    "displacy.render(doc, jupyter=True, style='ent') "
   ]
  },
  {
   "cell_type": "code",
   "execution_count": 19,
   "id": "556f3451",
   "metadata": {},
   "outputs": [
    {
     "data": {
      "text/html": [
       "<div>\n",
       "<style scoped>\n",
       "    .dataframe tbody tr th:only-of-type {\n",
       "        vertical-align: middle;\n",
       "    }\n",
       "\n",
       "    .dataframe tbody tr th {\n",
       "        vertical-align: top;\n",
       "    }\n",
       "\n",
       "    .dataframe thead th {\n",
       "        text-align: right;\n",
       "    }\n",
       "</style>\n",
       "<table border=\"1\" class=\"dataframe\">\n",
       "  <thead>\n",
       "    <tr style=\"text-align: right;\">\n",
       "      <th></th>\n",
       "      <th>Entities</th>\n",
       "      <th>Labels</th>\n",
       "    </tr>\n",
       "  </thead>\n",
       "  <tbody>\n",
       "    <tr>\n",
       "      <th>0</th>\n",
       "      <td>(Paul, Keating)</td>\n",
       "      <td>PERSON</td>\n",
       "    </tr>\n",
       "    <tr>\n",
       "      <th>1</th>\n",
       "      <td>(two, %)</td>\n",
       "      <td>PERCENT</td>\n",
       "    </tr>\n",
       "    <tr>\n",
       "      <th>2</th>\n",
       "      <td>(the, financial, year, ending, June, this, year)</td>\n",
       "      <td>DATE</td>\n",
       "    </tr>\n",
       "    <tr>\n",
       "      <th>3</th>\n",
       "      <td>(2.25, %)</td>\n",
       "      <td>PERCENT</td>\n",
       "    </tr>\n",
       "    <tr>\n",
       "      <th>4</th>\n",
       "      <td>(1986, /, 87)</td>\n",
       "      <td>DATE</td>\n",
       "    </tr>\n",
       "    <tr>\n",
       "      <th>5</th>\n",
       "      <td>(last, August)</td>\n",
       "      <td>DATE</td>\n",
       "    </tr>\n",
       "    <tr>\n",
       "      <th>6</th>\n",
       "      <td>(Australia)</td>\n",
       "      <td>GPE</td>\n",
       "    </tr>\n",
       "    <tr>\n",
       "      <th>7</th>\n",
       "      <td>(18, %)</td>\n",
       "      <td>PERCENT</td>\n",
       "    </tr>\n",
       "    <tr>\n",
       "      <th>8</th>\n",
       "      <td>(the, past, two, years)</td>\n",
       "      <td>DATE</td>\n",
       "    </tr>\n",
       "    <tr>\n",
       "      <th>9</th>\n",
       "      <td>(Paul, Keating)</td>\n",
       "      <td>PERSON</td>\n",
       "    </tr>\n",
       "    <tr>\n",
       "      <th>10</th>\n",
       "      <td>(Parliament)</td>\n",
       "      <td>ORG</td>\n",
       "    </tr>\n",
       "    <tr>\n",
       "      <th>11</th>\n",
       "      <td>(about, 1.75, %)</td>\n",
       "      <td>PERCENT</td>\n",
       "    </tr>\n",
       "    <tr>\n",
       "      <th>12</th>\n",
       "      <td>(annual)</td>\n",
       "      <td>DATE</td>\n",
       "    </tr>\n",
       "    <tr>\n",
       "      <th>13</th>\n",
       "      <td>(Paul, Keating)</td>\n",
       "      <td>PERSON</td>\n",
       "    </tr>\n",
       "    <tr>\n",
       "      <th>14</th>\n",
       "      <td>(8.2, %)</td>\n",
       "      <td>PERCENT</td>\n",
       "    </tr>\n",
       "    <tr>\n",
       "      <th>15</th>\n",
       "      <td>(Australia)</td>\n",
       "      <td>GPE</td>\n",
       "    </tr>\n",
       "    <tr>\n",
       "      <th>16</th>\n",
       "      <td>(the, Second, World, War)</td>\n",
       "      <td>EVENT</td>\n",
       "    </tr>\n",
       "    <tr>\n",
       "      <th>17</th>\n",
       "      <td>(Paul, Keating)</td>\n",
       "      <td>PERSON</td>\n",
       "    </tr>\n",
       "    <tr>\n",
       "      <th>18</th>\n",
       "      <td>(Paul, Keating)</td>\n",
       "      <td>PERSON</td>\n",
       "    </tr>\n",
       "    <tr>\n",
       "      <th>19</th>\n",
       "      <td>(Paul, Keating)</td>\n",
       "      <td>PERSON</td>\n",
       "    </tr>\n",
       "    <tr>\n",
       "      <th>20</th>\n",
       "      <td>(Australia)</td>\n",
       "      <td>GPE</td>\n",
       "    </tr>\n",
       "  </tbody>\n",
       "</table>\n",
       "</div>"
      ],
      "text/plain": [
       "                                            Entities   Labels\n",
       "0                                    (Paul, Keating)   PERSON\n",
       "1                                           (two, %)  PERCENT\n",
       "2   (the, financial, year, ending, June, this, year)     DATE\n",
       "3                                          (2.25, %)  PERCENT\n",
       "4                                      (1986, /, 87)     DATE\n",
       "5                                     (last, August)     DATE\n",
       "6                                        (Australia)      GPE\n",
       "7                                            (18, %)  PERCENT\n",
       "8                            (the, past, two, years)     DATE\n",
       "9                                    (Paul, Keating)   PERSON\n",
       "10                                      (Parliament)      ORG\n",
       "11                                  (about, 1.75, %)  PERCENT\n",
       "12                                          (annual)     DATE\n",
       "13                                   (Paul, Keating)   PERSON\n",
       "14                                          (8.2, %)  PERCENT\n",
       "15                                       (Australia)      GPE\n",
       "16                         (the, Second, World, War)    EVENT\n",
       "17                                   (Paul, Keating)   PERSON\n",
       "18                                   (Paul, Keating)   PERSON\n",
       "19                                   (Paul, Keating)   PERSON\n",
       "20                                       (Australia)      GPE"
      ]
     },
     "execution_count": 19,
     "metadata": {},
     "output_type": "execute_result"
    }
   ],
   "source": [
    "import pandas as pd\n",
    "doc = nlp(x)\n",
    "\n",
    "entities = []\n",
    "labels = []\n",
    "\n",
    "for ent in doc.ents:\n",
    "    entities.append(ent)\n",
    "    labels.append(ent.label_)\n",
    "    \n",
    "df = pd.DataFrame({'Entities':entities,'Labels':labels})\n",
    "df"
   ]
  },
  {
   "cell_type": "markdown",
   "id": "a4c852b1",
   "metadata": {},
   "source": [
    "#### Splitting the text document into sentences"
   ]
  },
  {
   "cell_type": "code",
   "execution_count": 132,
   "id": "5ccecc56",
   "metadata": {},
   "outputs": [
    {
     "data": {
      "text/plain": [
       "['Half of all people living in Belgium has now received a coronavirus booster dose, as new cases continue to rapidly increase as a result of the Omicron variant.',\n",
       " 'As of Sunday, some 5.87 million people have received a booster dose of a coronavirus vaccine, representing 63% of over -18s and 51% of the entire population, according to the figures published by the Sciensano Public Health Institute on Tuesday morning.']"
      ]
     },
     "execution_count": 132,
     "metadata": {},
     "output_type": "execute_result"
    }
   ],
   "source": [
    "from spacy.lang.en import English\n",
    "\n",
    "nlp = English()  # just the language with no model\n",
    "sentencizer = nlp.create_pipe(\"sentencizer\")\n",
    "nlp.add_pipe(sentencizer)\n",
    "sent = [sent.text for sent in nlp(ss).sents]\n",
    "sent"
   ]
  },
  {
   "cell_type": "code",
   "execution_count": 136,
   "id": "65c95bb7",
   "metadata": {},
   "outputs": [],
   "source": [
    "stop_words = stopwords.words('english')\n",
    "ss = \"From the end of February, Belgium will start offering the Novavax coronavirus vaccine – called Nuvaxovid – to people who are allergic to the other available vaccines or had proven side effects after a first dose of Pfizer or Moderna.On Wednesday, the Interministerial Conference (IMC) on Public Health decided to purchase 510,000 doses of vaccine – approved by the European Medicines Agency (EMA) in December – which will be delivered at the end of February or beginning of March. As for Moderna and Pfizer, the Novavax vaccine requires two doses that are administered at an interval of at least three weeks.\\“Currently, the vaccine has not yet been approved by the EMA as a booster shot. That is not on the agenda for right now, but it can happen soon,\\” Gudrun Briat, spokesperson for the Vaccination Taskforce, told The Brussels Times.\"\n",
    "def remove_stopwords(text):\n",
    "    text = ' '.join(word for word in text.split(' ') if word not in stop_words)\n",
    "    return text\n",
    "    \n",
    "#article= remove_stopwords(ss)"
   ]
  },
  {
   "cell_type": "code",
   "execution_count": 137,
   "id": "af08e8a6",
   "metadata": {
    "scrolled": true
   },
   "outputs": [
    {
     "data": {
      "text/html": [
       "<div>\n",
       "<style scoped>\n",
       "    .dataframe tbody tr th:only-of-type {\n",
       "        vertical-align: middle;\n",
       "    }\n",
       "\n",
       "    .dataframe tbody tr th {\n",
       "        vertical-align: top;\n",
       "    }\n",
       "\n",
       "    .dataframe thead th {\n",
       "        text-align: right;\n",
       "    }\n",
       "</style>\n",
       "<table border=\"1\" class=\"dataframe\">\n",
       "  <thead>\n",
       "    <tr style=\"text-align: right;\">\n",
       "      <th></th>\n",
       "      <th>sentence</th>\n",
       "    </tr>\n",
       "  </thead>\n",
       "  <tbody>\n",
       "    <tr>\n",
       "      <th>0</th>\n",
       "      <td>From the end of February, Belgium will start o...</td>\n",
       "    </tr>\n",
       "    <tr>\n",
       "      <th>1</th>\n",
       "      <td>On Wednesday, the Interministerial Conference ...</td>\n",
       "    </tr>\n",
       "    <tr>\n",
       "      <th>2</th>\n",
       "      <td>As for Moderna and Pfizer, the Novavax vaccine...</td>\n",
       "    </tr>\n",
       "    <tr>\n",
       "      <th>3</th>\n",
       "      <td>That is not on the agenda for right now, but i...</td>\n",
       "    </tr>\n",
       "  </tbody>\n",
       "</table>\n",
       "</div>"
      ],
      "text/plain": [
       "                                            sentence\n",
       "0  From the end of February, Belgium will start o...\n",
       "1  On Wednesday, the Interministerial Conference ...\n",
       "2  As for Moderna and Pfizer, the Novavax vaccine...\n",
       "3  That is not on the agenda for right now, but i..."
      ]
     },
     "execution_count": 137,
     "metadata": {},
     "output_type": "execute_result"
    }
   ],
   "source": [
    "import pandas as pd\n",
    "\n",
    "df1= pd.DataFrame(columns=[\"sentence\"])\n",
    "\n",
    "df1 = df1.append(\n",
    "        [{'sentence' : sent.text} for sent in nlp(ss).sents],\n",
    "        ignore_index=True\n",
    "    )\n",
    "df1"
   ]
  },
  {
   "cell_type": "code",
   "execution_count": 138,
   "id": "2f11bae4",
   "metadata": {},
   "outputs": [],
   "source": [
    "df1.to_csv(\"brusselsdata.csv\")\n"
   ]
  },
  {
   "cell_type": "code",
   "execution_count": 24,
   "id": "521ded2f",
   "metadata": {},
   "outputs": [
    {
     "data": {
      "text/plain": [
       "[]"
      ]
     },
     "execution_count": 24,
     "metadata": {},
     "output_type": "execute_result"
    }
   ],
   "source": [
    "import nltk\n",
    "from nltk import word_tokenize, pos_tag\n",
    "from nltk.corpus import wordnet\n",
    "\n",
    "from IPython.display import display\n",
    "lemmatizer = nltk.WordNetLemmatizer()\n",
    "\n",
    "#word tokenizeing and part-of-speech tagger\n",
    "document = result\n",
    "tokens = [nltk.word_tokenize(sent) for sent in [document]]\n",
    "postag = [nltk.pos_tag(sent) for sent in tokens][0]\n",
    "\n",
    "# Rule for NP chunk and VB Chunk\n",
    "grammar = r\"\"\"\n",
    "    NBAR:\n",
    "        {<NN.*|JJ>*<NN.*>}  # Nouns and Adjectives, terminated with Nouns\n",
    "        {<RB.?>*<VB.?>*<JJ>*<VB.?>+<VB>?} # Verbs and Verb Phrases\n",
    "        \n",
    "    NP:\n",
    "        {<NBAR>}\n",
    "        {<NBAR><IN><NBAR>}  # Above, connected with in/of/etc...\n",
    "        \n",
    "\"\"\"\n",
    "#Chunking\n",
    "cp = nltk.RegexpParser(grammar)\n",
    "\n",
    "# the result is a tree\n",
    "tree = cp.parse(postag)\n",
    "\n",
    "def leaves(tree):\n",
    "    \"\"\"Finds NP (nounphrase) leaf nodes of a chunk tree.\"\"\"\n",
    "    for subtree in tree.subtrees(filter = lambda t: t.label() =='NNP'):\n",
    "        yield subtree.leaves()\n",
    "        \n",
    "def get_word_postag(word):\n",
    "    if pos_tag([word])[0][1].startswith('J'):\n",
    "        return wordnet.ADJ\n",
    "    if pos_tag([word])[0][1].startswith('V'):\n",
    "        return wordnet.VERB\n",
    "    if pos_tag([word])[0][1].startswith('N'):\n",
    "        return wordnet.NOUN\n",
    "    else:\n",
    "        return wordnet.NOUN\n",
    "    \n",
    "def normalise(word):\n",
    "    \"\"\"Normalises words to lowercase and stems and lemmatizes it.\"\"\"\n",
    "    word = word.lower()\n",
    "    postag = get_word_postag(word)\n",
    "    word = lemmatizer.lemmatize(word,postag)\n",
    "    return word\n",
    "\n",
    "def get_terms(tree):    \n",
    "    for leaf in leaves(tree):\n",
    "        terms = [normalise(w) for w,t in leaf]\n",
    "        yield terms\n",
    "\n",
    "terms = get_terms(tree)\n",
    "\n",
    "features = []\n",
    "for term in terms:\n",
    "    _term = ''\n",
    "    for word in term:\n",
    "        _term += ' ' + word\n",
    "    features.append(_term.strip())\n",
    "features"
   ]
  },
  {
   "cell_type": "code",
   "execution_count": 35,
   "id": "323cf869",
   "metadata": {},
   "outputs": [
    {
     "name": "stdout",
     "output_type": "stream",
     "text": [
      "KEATING REVISES DOWN AUSTRALIAN GROWTH FORECAST Treasurer Paul Keating forecast economic growth at slightly under two % in the financial year ending June this year,down from the 2.25 % forecast contained in the 1986 / 87 budget delivered last August.\n",
      "\n",
      "Australia ' s terms of trade also fell,by 18 %,over the past two years,Paul Keating told Parliament.\n",
      "\n",
      "Terms of trade are the difference between import and export price indexes.\n",
      "\n",
      "Despite the figures,the budget forecast of about 1.75 % annual growth in employment would be met,Keating said.\n",
      "\n",
      "Unemployment is currently at 8.2 % of the workforce.\"\n",
      "\n",
      "This government is dragging Australia through a trading holocaust the kind of which we have not seen since the Second World War ,\" Keating said.\"\n",
      "\n",
      "we are not pushing this place into a recession.we are not only holding we gains on unemployment,we are bringing unemployment down ,\" Paul Keating said,adding that the government had help Australia avoid recession .\n",
      "\n"
     ]
    }
   ],
   "source": [
    "# for loop to separate the document into sentences\n",
    "for i in range(0,7):\n",
    "    x = df1.iloc[i][0]\n",
    "    doc = nlp(x)\n",
    "    print(x)\n",
    "    print(\"\")"
   ]
  },
  {
   "cell_type": "code",
   "execution_count": 28,
   "id": "a8875b2e",
   "metadata": {},
   "outputs": [],
   "source": [
    "from spacy.matcher import Matcher\n",
    "matcher = Matcher(nlp.vocab)\n",
    "subs_synonyms = ['subsidiary', 'unit']\n",
    "pattern1 = [{'_': {'ref_t': 'ORG'}}, # subject\n",
    "           {'_': {'ref_t': {'NOT_IN': ['ORG']}},\n",
    "            'POS': {'NOT_IN': ['VERB']}, 'OP': '*'},\n",
    "           {'LOWER': {'IN': subs_synonyms}}, {'TEXT': 'of'},\n",
    "           {'_': {'ref_t': {'NOT_IN': ['ORG']}},\n",
    "            'POS': {'NOT_IN': ['VERB']}, 'OP': '*'},\n",
    "           {'_': {'ref_t': 'ORG'}}]  # object\n",
    "pattern2 = [{'_': {'ref_t': 'ORG'}}, # subject\n",
    "           {'LOWER': {'IN': subs_synonyms}}, # predicate\n",
    "           {'_': {'ref_t': 'ORG'}}] # object\n",
    "matcher.add('subsidiary-of',[pattern1, pattern2])\n",
    "def extract_rel_match(doc, matcher):\n",
    "    for sent in doc.sents:\n",
    "        for match_id, start, end in matcher(sent):\n",
    "            span = sent[start:end]  # matched span\n",
    "            pred = nlp.vocab.strings[match_id] # rule name\n",
    "            subj, obj = span[0], span[-1]\n",
    "            if pred.startswith('rev-'): # reversed relation\n",
    "                subj, obj = obj, subj\n",
    "                pred = pred[4:]\n",
    "            yield ((subj._.ref_n, subj._.ref_t), pred, \n",
    "                   (obj._.ref_n, obj._.ref_t))\n",
    "def extract_rels(doc):\n",
    "    yield from extract_rel_match(doc, matcher)\n",
    "    yield from extract_rel_dep(doc, 'acquires', acq_synonyms, ['to', 'from'])\n",
    "    yield from extract_rel_dep(doc, 'sells', ['sell'], ['to', 'from'])"
   ]
  },
  {
   "cell_type": "code",
   "execution_count": 36,
   "id": "a50eae6d",
   "metadata": {},
   "outputs": [
    {
     "data": {
      "text/plain": [
       "'doc = nlp(result)\\n\\nrels = []\\nfor r in extract_rels(doc):   \\n    rels.append(r)\\n    print(r)'"
      ]
     },
     "execution_count": 36,
     "metadata": {},
     "output_type": "execute_result"
    }
   ],
   "source": [
    "\"\"\"doc = nlp(result)\n",
    "\n",
    "rels = []\n",
    "for r in extract_rels(doc):   \n",
    "    rels.append(r)\n",
    "    print(r)\"\"\""
   ]
  },
  {
   "cell_type": "code",
   "execution_count": 37,
   "id": "411f1bf9",
   "metadata": {},
   "outputs": [
    {
     "data": {
      "text/plain": [
       "'import nltk\\nsentence = sent[1]\\nprint(sentence)\\n\\nprint(nltk.ne_chunk(sentence, binary=True))'"
      ]
     },
     "execution_count": 37,
     "metadata": {},
     "output_type": "execute_result"
    }
   ],
   "source": [
    "\"\"\"import nltk\n",
    "sentence = sent[1]\n",
    "print(sentence)\n",
    "\n",
    "print(nltk.ne_chunk(sentence, binary=True))\"\"\""
   ]
  },
  {
   "cell_type": "code",
   "execution_count": 38,
   "id": "b1962134",
   "metadata": {},
   "outputs": [
    {
     "name": "stdout",
     "output_type": "stream",
     "text": [
      "China is in Asia\n"
     ]
    },
    {
     "data": {
      "image/svg+xml": [
       "<svg baseProfile=\"full\" height=\"168px\" preserveAspectRatio=\"xMidYMid meet\" style=\"font-family: times, serif; font-weight:normal; font-style: normal; font-size: 16px;\" version=\"1.1\" viewBox=\"0,0,176.0,168.0\" width=\"176px\" xmlns=\"http://www.w3.org/2000/svg\" xmlns:ev=\"http://www.w3.org/2001/xml-events\" xmlns:xlink=\"http://www.w3.org/1999/xlink\"><defs /><svg width=\"100%\" x=\"0\" y=\"0em\"><defs /><text text-anchor=\"middle\" x=\"50%\" y=\"1em\">S</text></svg><svg width=\"31.8182%\" x=\"0%\" y=\"3em\"><defs /><svg width=\"100%\" x=\"0\" y=\"0em\"><defs /><text text-anchor=\"middle\" x=\"50%\" y=\"1em\">GPE</text></svg><svg width=\"100%\" x=\"0%\" y=\"3em\"><defs /><svg width=\"100%\" x=\"0\" y=\"0em\"><defs /><text text-anchor=\"middle\" x=\"50%\" y=\"1em\">China</text></svg><svg width=\"100%\" x=\"0%\" y=\"3em\"><defs /><svg width=\"100%\" x=\"0\" y=\"0em\"><defs /><text text-anchor=\"middle\" x=\"50%\" y=\"1em\">NNP</text></svg></svg><line stroke=\"black\" x1=\"50%\" x2=\"50%\" y1=\"1.2em\" y2=\"3em\" /></svg><line stroke=\"black\" x1=\"50%\" x2=\"50%\" y1=\"1.2em\" y2=\"3em\" /></svg><line stroke=\"black\" x1=\"50%\" x2=\"15.9091%\" y1=\"1.2em\" y2=\"3em\" /><svg width=\"22.7273%\" x=\"31.8182%\" y=\"3em\"><defs /><svg width=\"100%\" x=\"0\" y=\"0em\"><defs /><text text-anchor=\"middle\" x=\"50%\" y=\"1em\">is</text></svg><svg width=\"100%\" x=\"0%\" y=\"3em\"><defs /><svg width=\"100%\" x=\"0\" y=\"0em\"><defs /><text text-anchor=\"middle\" x=\"50%\" y=\"1em\">VBZ</text></svg></svg><line stroke=\"black\" x1=\"50%\" x2=\"50%\" y1=\"1.2em\" y2=\"3em\" /></svg><line stroke=\"black\" x1=\"50%\" x2=\"43.1818%\" y1=\"1.2em\" y2=\"3em\" /><svg width=\"18.1818%\" x=\"54.5455%\" y=\"3em\"><defs /><svg width=\"100%\" x=\"0\" y=\"0em\"><defs /><text text-anchor=\"middle\" x=\"50%\" y=\"1em\">in</text></svg><svg width=\"100%\" x=\"0%\" y=\"3em\"><defs /><svg width=\"100%\" x=\"0\" y=\"0em\"><defs /><text text-anchor=\"middle\" x=\"50%\" y=\"1em\">IN</text></svg></svg><line stroke=\"black\" x1=\"50%\" x2=\"50%\" y1=\"1.2em\" y2=\"3em\" /></svg><line stroke=\"black\" x1=\"50%\" x2=\"63.6364%\" y1=\"1.2em\" y2=\"3em\" /><svg width=\"27.2727%\" x=\"72.7273%\" y=\"3em\"><defs /><svg width=\"100%\" x=\"0\" y=\"0em\"><defs /><text text-anchor=\"middle\" x=\"50%\" y=\"1em\">GPE</text></svg><svg width=\"100%\" x=\"0%\" y=\"3em\"><defs /><svg width=\"100%\" x=\"0\" y=\"0em\"><defs /><text text-anchor=\"middle\" x=\"50%\" y=\"1em\">Asia</text></svg><svg width=\"100%\" x=\"0%\" y=\"3em\"><defs /><svg width=\"100%\" x=\"0\" y=\"0em\"><defs /><text text-anchor=\"middle\" x=\"50%\" y=\"1em\">NNP</text></svg></svg><line stroke=\"black\" x1=\"50%\" x2=\"50%\" y1=\"1.2em\" y2=\"3em\" /></svg><line stroke=\"black\" x1=\"50%\" x2=\"50%\" y1=\"1.2em\" y2=\"3em\" /></svg><line stroke=\"black\" x1=\"50%\" x2=\"86.3636%\" y1=\"1.2em\" y2=\"3em\" /></svg>"
      ],
      "text/plain": [
       "Tree('S', [Tree('GPE', [('China', 'NNP')]), ('is', 'VBZ'), ('in', 'IN'), Tree('GPE', [('Asia', 'NNP')])])"
      ]
     },
     "execution_count": 38,
     "metadata": {},
     "output_type": "execute_result"
    }
   ],
   "source": [
    "import nltk\n",
    "sent = \"China is in Asia\"\n",
    "print(sent)\n",
    "s = nltk.ne_chunk((nltk.pos_tag(sent.split()))) \n",
    "s"
   ]
  },
  {
   "cell_type": "code",
   "execution_count": 39,
   "id": "c15f7b0c",
   "metadata": {},
   "outputs": [],
   "source": [
    "from nltk.tokenize import word_tokenize\n",
    "text = word_tokenize(\"Paul works for Microsoft\")\n",
    "x = nltk.pos_tag(text)\n",
    "x1 = nltk.ne_chunk(x,binary=True)"
   ]
  },
  {
   "cell_type": "code",
   "execution_count": 40,
   "id": "d70c129b",
   "metadata": {
    "scrolled": false
   },
   "outputs": [
    {
     "name": "stdout",
     "output_type": "stream",
     "text": [
      "[ORG: 'WHYY'] 'in' [LOC: 'Philadelphia']\n",
      "[ORG: 'McGlashan &AMP; Sarrail'] 'firm in' [LOC: 'San Mateo']\n",
      "[ORG: 'Freedom Forum'] 'in' [LOC: 'Arlington']\n",
      "[ORG: 'Brookings Institution'] ', the research group in' [LOC: 'Washington']\n",
      "[ORG: 'Idealab'] ', a self-described business incubator based in' [LOC: 'Los Angeles']\n",
      "[ORG: 'Open Text'] ', based in' [LOC: 'Waterloo']\n",
      "[ORG: 'WGBH'] 'in' [LOC: 'Boston']\n",
      "[ORG: 'Bastille Opera'] 'in' [LOC: 'Paris']\n",
      "[ORG: 'Omnicom'] 'in' [LOC: 'New York']\n",
      "[ORG: 'DDB Needham'] 'in' [LOC: 'New York']\n",
      "[ORG: 'Kaplan Thaler Group'] 'in' [LOC: 'New York']\n",
      "[ORG: 'BBDO South'] 'in' [LOC: 'Atlanta']\n",
      "[ORG: 'Georgia-Pacific'] 'in' [LOC: 'Atlanta']\n"
     ]
    }
   ],
   "source": [
    "import re\n",
    "\n",
    "X = re.compile(r'.*\\bin\\b(?!\\b.+ing)')\n",
    "\n",
    "for doc in nltk.corpus.ieer.parsed_docs('NYT_19980315'):\n",
    "    #print(doc)\n",
    "    for rel in nltk.sem.extract_rels('ORG', 'LOC', doc,corpus='ieer', pattern = X):\n",
    "\n",
    "        print(nltk.sem.rtuple(rel))\n",
    "#nltk.corpus.ieer.parsed_docs('NYT_19980315'):"
   ]
  },
  {
   "cell_type": "code",
   "execution_count": 41,
   "id": "fe2973db",
   "metadata": {
    "scrolled": true
   },
   "outputs": [
    {
     "name": "stdout",
     "output_type": "stream",
     "text": [
      "test/14867\n",
      "test/14974\n",
      "test/15045\n",
      "test/15365\n",
      "test/15485\n",
      "test/16100\n",
      "test/16158\n",
      "test/17633\n",
      "test/18533\n",
      "test/18539\n",
      "test/18616\n",
      "test/18672\n",
      "test/18987\n",
      "test/18990\n",
      "test/18993\n",
      "test/18996\n",
      "test/19000\n",
      "test/19985\n",
      "test/19986\n",
      "test/20248\n",
      "test/21525\n",
      "training/10135\n",
      "training/1040\n",
      "training/11159\n",
      "training/11160\n",
      "training/11276\n",
      "training/12507\n",
      "training/12534\n",
      "training/12555\n",
      "training/12743\n",
      "training/12752\n",
      "training/12818\n",
      "training/14771\n",
      "training/2000\n",
      "training/2197\n",
      "training/2618\n",
      "training/2746\n",
      "training/3024\n",
      "training/3472\n",
      "training/3520\n",
      "training/3717\n",
      "training/4036\n",
      "training/4091\n",
      "training/4306\n",
      "training/4698\n",
      "training/4700\n",
      "training/5215\n",
      "training/5392\n",
      "training/6158\n",
      "training/6603\n",
      "training/6951\n",
      "training/7004\n",
      "training/7010\n",
      "training/7013\n",
      "training/7070\n",
      "training/8173\n",
      "training/867\n",
      "training/8681\n",
      "training/8746\n",
      "training/889\n",
      "training/895\n",
      "training/955\n",
      "training/9751\n",
      "training/9805\n",
      "training/9812\n",
      "training/9834\n",
      "training/9897\n"
     ]
    }
   ],
   "source": [
    "import re\n",
    "X = re.compile(r'.*\\bin\\b(?!\\b.+ing)')\n",
    "for doc in nltk.corpus.reuters.fileids('jobs'):\n",
    "    print(doc)\n",
    "    text = reuters.paras(doc)\n",
    "    for rel in nltk.sem.extract_rels('ORG','LOC',x,pattern=X):\n",
    "        print(\"1\")\n",
    "        print(nltk.sem.rtuple(rel))"
   ]
  },
  {
   "cell_type": "code",
   "execution_count": 42,
   "id": "9372c15e",
   "metadata": {},
   "outputs": [],
   "source": [
    "import re\n",
    "import nltk\n",
    "from nltk.sem import relextract\n",
    "from nltk.sem.relextract import extract_rels, rtuple\n",
    "IN = re.compile(r'.*\\bin\\b(?!\\b.+ing\\b)')\n",
    "for fileid in reuters.fileids():\n",
    "    for doc in reuters.fileids(categories=['jobs']):\n",
    "        text1 = reuters.paras(fileids=['training/9751'])\n",
    "        for rel in relextract.extract_rels('ORG', 'LOC', x1, corpus='conll2002', pattern = IN):\n",
    "            print(relextract.rtuple(rel))"
   ]
  },
  {
   "cell_type": "code",
   "execution_count": 43,
   "id": "a698b56d",
   "metadata": {
    "scrolled": true
   },
   "outputs": [],
   "source": [
    "IN = re.compile(r'.*\\bin\\b(?!\\b.+ing\\b)')\n",
    "text1 = \"China is in Asia\"\n",
    "for rel in nltk.sem.extract_rels('PER', 'ORG',text1 , corpus='conll2002', pattern = IN):\n",
    "    print(\"1\")\n",
    "    print(relextract.rtuple(rel))\n",
    "    print(nltk.sem.rtuple(rel))"
   ]
  },
  {
   "cell_type": "code",
   "execution_count": 44,
   "id": "50a32570",
   "metadata": {},
   "outputs": [],
   "source": [
    "tagged_sentences = [ nltk.pos_tag(token) for token in tokens]\n",
    "class doc():\n",
    "    pass\n",
    "IN = re.compile(r'.*\\bin\\b(?!\\b.+ing)')\n",
    "doc.headline=[\"test headline for sentence\"]\n",
    "for i,sent in enumerate(tagged_sentences):\n",
    "    doc.text = nltk.ne_chunk(sent)\n",
    "    for rel in nltk.sem.relextract.extract_rels('ORG', 'LOC', doc, corpus='ieer', pattern=IN):\n",
    "        print(nltk.sem.rtuple(rel))"
   ]
  },
  {
   "cell_type": "code",
   "execution_count": 52,
   "id": "f6746633",
   "metadata": {
    "scrolled": true
   },
   "outputs": [
    {
     "ename": "AttributeError",
     "evalue": "'StreamBackedCorpusView' object has no attribute 'split'",
     "output_type": "error",
     "traceback": [
      "\u001b[0;31m---------------------------------------------------------------------------\u001b[0m",
      "\u001b[0;31mAttributeError\u001b[0m                            Traceback (most recent call last)",
      "\u001b[0;32m/tmp/ipykernel_164435/2042557413.py\u001b[0m in \u001b[0;36m<module>\u001b[0;34m\u001b[0m\n\u001b[1;32m      4\u001b[0m \u001b[0;32mfrom\u001b[0m \u001b[0mnltk\u001b[0m\u001b[0;34m.\u001b[0m\u001b[0msem\u001b[0m \u001b[0;32mimport\u001b[0m \u001b[0mrelextract\u001b[0m\u001b[0;34m\u001b[0m\u001b[0;34m\u001b[0m\u001b[0m\n\u001b[1;32m      5\u001b[0m \u001b[0msent\u001b[0m \u001b[0;34m=\u001b[0m \u001b[0;34m\"Half of all people living in Belgium has now received a coronavirus booster dose, as new cases continue to rapidly increase as a result of the Omicron variant. As of Sunday, some 5.87 million people have received a booster dose of a coronavirus vaccine, representing 63% of over -18s and 51% of the entire population, according to the figures published by the Sciensano Public Health Institute on Tuesday morning.\"\u001b[0m\u001b[0;34m\u001b[0m\u001b[0;34m\u001b[0m\u001b[0m\n\u001b[0;32m----> 6\u001b[0;31m \u001b[0msent\u001b[0m \u001b[0;34m=\u001b[0m \u001b[0mnltk\u001b[0m\u001b[0;34m.\u001b[0m\u001b[0mne_chunk\u001b[0m\u001b[0;34m(\u001b[0m\u001b[0;34m(\u001b[0m\u001b[0mnltk\u001b[0m\u001b[0;34m.\u001b[0m\u001b[0mpos_tag\u001b[0m\u001b[0;34m(\u001b[0m\u001b[0mtext\u001b[0m\u001b[0;34m.\u001b[0m\u001b[0msplit\u001b[0m\u001b[0;34m(\u001b[0m\u001b[0;34m)\u001b[0m\u001b[0;34m)\u001b[0m\u001b[0;34m)\u001b[0m\u001b[0;34m)\u001b[0m\u001b[0;34m\u001b[0m\u001b[0;34m\u001b[0m\u001b[0m\n\u001b[0m\u001b[1;32m      7\u001b[0m \u001b[0;32mfor\u001b[0m \u001b[0ms\u001b[0m \u001b[0;32min\u001b[0m \u001b[0msent\u001b[0m\u001b[0;34m:\u001b[0m\u001b[0;34m\u001b[0m\u001b[0;34m\u001b[0m\u001b[0m\n\u001b[1;32m      8\u001b[0m \u001b[0;34m\u001b[0m\u001b[0m\n",
      "\u001b[0;31mAttributeError\u001b[0m: 'StreamBackedCorpusView' object has no attribute 'split'"
     ]
    }
   ],
   "source": [
    "import nltk\n",
    "import re \n",
    "from nltk.chunk import ne_chunk_sents\n",
    "from nltk.sem import relextract\n",
    "sent = \"Half of all people living in Belgium has now received a coronavirus booster dose, as new cases continue to rapidly increase as a result of the Omicron variant. As of Sunday, some 5.87 million people have received a booster dose of a coronavirus vaccine, representing 63% of over -18s and 51% of the entire population, according to the figures published by the Sciensano Public Health Institute on Tuesday morning.\"\n",
    "sent = nltk.ne_chunk((nltk.pos_tag(text.split()))) \n",
    "for s in sent:\n",
    "    \n",
    "    print(s)\n",
    "    print(\"\")"
   ]
  },
  {
   "cell_type": "code",
   "execution_count": 51,
   "id": "d5ee66a4",
   "metadata": {},
   "outputs": [
    {
     "name": "stderr",
     "output_type": "stream",
     "text": [
      "[nltk_data] Downloading package stopwords to /home/arfa/nltk_data...\n",
      "[nltk_data]   Package stopwords is already up-to-date!\n"
     ]
    },
    {
     "data": {
      "text/plain": [
       "True"
      ]
     },
     "execution_count": 51,
     "metadata": {},
     "output_type": "execute_result"
    }
   ],
   "source": [
    "import nltk\n",
    "from nltk.corpus import stopwords\n",
    "nltk.download('stopwords')"
   ]
  },
  {
   "cell_type": "code",
   "execution_count": 74,
   "id": "ff36d476",
   "metadata": {},
   "outputs": [],
   "source": [
    "stop_words = stopwords.words('english')\n",
    "sent = \"Half of all people living in Belgium has now received a coronavirus booster dose, as new cases continue to rapidly increase as a result of the Omicron variant. As of Sunday, some 5.87 million people have received a booster dose of a coronavirus vaccine, representing 63% of over -18s and 51% of the entire population, according to the figures published by the Sciensano Public Health Institute on Tuesday morning.\"\n",
    "\n",
    "def remove_stopwords(text):\n",
    "    text = ' '.join(word for word in text.split(' ') if word not in stop_words)\n",
    "    return text\n",
    "    \n",
    "article= remove_stopwords(result)"
   ]
  },
  {
   "cell_type": "code",
   "execution_count": 75,
   "id": "41ba8a31",
   "metadata": {},
   "outputs": [
    {
     "name": "stdout",
     "output_type": "stream",
     "text": [
      "['ORGANIZATION', 'REVISES']\n",
      "['PERSON', 'Paul Keating']\n",
      "['PERSON', 'Paul Keating']\n",
      "['GPE', 'Keating']\n",
      "['GPE', 'Australia']\n",
      "['ORGANIZATION', 'Second']\n",
      "['PERSON', 'Keating']\n",
      "['PERSON', 'Paul Keating']\n",
      "['GPE', 'Australia']\n"
     ]
    },
    {
     "data": {
      "text/plain": [
       "[['ORGANIZATION', 'REVISES'],\n",
       " ['PERSON', 'Paul Keating'],\n",
       " ['PERSON', 'Paul Keating'],\n",
       " ['GPE', 'Keating'],\n",
       " ['GPE', 'Australia'],\n",
       " ['ORGANIZATION', 'Second'],\n",
       " ['PERSON', 'Keating'],\n",
       " ['PERSON', 'Paul Keating'],\n",
       " ['GPE', 'Australia']]"
      ]
     },
     "execution_count": 75,
     "metadata": {},
     "output_type": "execute_result"
    }
   ],
   "source": [
    "import nltk\n",
    "#sent = \"Half of all people living in Belgium has now received a coronavirus booster dose, as new cases continue to rapidly increase as a result of the Omicron variant. As of Sunday, some 5.87 million people have received a booster dose of a coronavirus vaccine, representing 63% of over -18s and 51% of the entire population, according to the figures published by the Sciensano Public Health Institute on Tuesday morning.\"\n",
    "entity_df =[]\n",
    "\n",
    "\n",
    "for sent in nltk.sent_tokenize(article):\n",
    "    for chunk in nltk.ne_chunk(nltk.pos_tag(nltk.word_tokenize(sent))):\n",
    "        if hasattr(chunk, 'label'):\n",
    "            print([chunk.label(), ' '.join(c[0] for c in chunk)])\n",
    "            entity_df.append([chunk.label(), ' '.join(c[0] for c in chunk)])\n",
    "        if hasattr(chunk, 'VB'):\n",
    "            print(chunk)   \n",
    "entity_df"
   ]
  },
  {
   "cell_type": "code",
   "execution_count": 76,
   "id": "65a98aef",
   "metadata": {
    "scrolled": true
   },
   "outputs": [
    {
     "data": {
      "text/plain": [
       "[('KEATING', 'NN'),\n",
       " Tree('ORGANIZATION', [('REVISES', 'NNP')]),\n",
       " ('DOWN', 'NNP'),\n",
       " ('AUSTRALIAN', 'NNP'),\n",
       " ('GROWTH', 'NNP'),\n",
       " ('FORECAST', 'NNP'),\n",
       " ('Treasurer', 'NNP'),\n",
       " Tree('PERSON', [('Paul', 'NNP'), ('Keating', 'NNP')]),\n",
       " ('forecast', 'JJ'),\n",
       " ('economic', 'JJ'),\n",
       " ('growth', 'NN'),\n",
       " ('slightly', 'RB'),\n",
       " ('two', 'CD'),\n",
       " ('%', 'NN'),\n",
       " ('financial', 'JJ'),\n",
       " ('year', 'NN'),\n",
       " ('ending', 'VBG'),\n",
       " ('June', 'NNP'),\n",
       " ('year,down', 'RB'),\n",
       " ('2.25', 'CD'),\n",
       " ('%', 'NN'),\n",
       " ('forecast', 'NN'),\n",
       " ('contained', 'JJ'),\n",
       " ('1986', 'CD'),\n",
       " ('/', 'JJ'),\n",
       " ('87', 'CD'),\n",
       " ('budget', 'NN'),\n",
       " ('delivered', 'VBN'),\n",
       " ('last', 'JJ'),\n",
       " ('August.Australia', 'NNP'),\n",
       " (\"'\", 'POS'),\n",
       " ('terms', 'NNS'),\n",
       " ('trade', 'NN'),\n",
       " ('also', 'RB'),\n",
       " ('fell,by', 'VBD'),\n",
       " ('18', 'CD'),\n",
       " ('%,over', 'RB'),\n",
       " ('past', 'JJ'),\n",
       " ('two', 'CD'),\n",
       " ('years,Paul', 'NN'),\n",
       " Tree('PERSON', [('Keating', 'NNP')]),\n",
       " ('told', 'VBD'),\n",
       " ('Parliament.Terms', 'NNP'),\n",
       " ('trade', 'NN'),\n",
       " ('difference', 'NN'),\n",
       " ('import', 'NN'),\n",
       " ('export', 'NN'),\n",
       " ('price', 'NN'),\n",
       " ('indexes.Despite', 'JJ'),\n",
       " ('figures,the', 'JJ'),\n",
       " ('budget', 'NN'),\n",
       " ('forecast', 'NN'),\n",
       " ('1.75', 'CD'),\n",
       " ('%', 'NN'),\n",
       " ('annual', 'JJ'),\n",
       " ('growth', 'NN'),\n",
       " ('employment', 'NN'),\n",
       " ('would', 'MD'),\n",
       " ('met,Keating', 'VB'),\n",
       " ('said.Unemployment', 'NN'),\n",
       " ('currently', 'RB'),\n",
       " ('8.2', 'CD'),\n",
       " ('%', 'NN'),\n",
       " ('workforce.\"', 'NN'),\n",
       " ('This', 'DT'),\n",
       " ('government', 'NN'),\n",
       " ('dragging', 'VBG'),\n",
       " Tree('GPE', [('Australia', 'NNP')]),\n",
       " ('trading', 'NN'),\n",
       " ('holocaust', 'NN'),\n",
       " ('kind', 'NN'),\n",
       " ('seen', 'VBN'),\n",
       " ('since', 'IN'),\n",
       " Tree('ORGANIZATION', [('Second', 'JJ')]),\n",
       " ('World', 'NNP'),\n",
       " ('War', 'NNP'),\n",
       " (',\"', 'NNP'),\n",
       " ('Keating', 'NNP'),\n",
       " ('said.\"', 'NN'),\n",
       " ('pushing', 'VBG'),\n",
       " ('place', 'NN'),\n",
       " ('recession.we', 'NN'),\n",
       " ('holding', 'VBG'),\n",
       " ('gains', 'NNS'),\n",
       " ('unemployment,we', 'JJ'),\n",
       " ('bringing', 'VBG'),\n",
       " ('unemployment', 'NN'),\n",
       " (',\"', 'NN'),\n",
       " Tree('PERSON', [('Paul', 'NNP'), ('Keating', 'NNP')]),\n",
       " ('said,adding', 'VBG'),\n",
       " ('government', 'NN'),\n",
       " ('help', 'NN'),\n",
       " Tree('GPE', [('Australia', 'NNP')]),\n",
       " ('avoid', 'JJ'),\n",
       " ('recession', 'NN'),\n",
       " ('.', '.')]"
      ]
     },
     "execution_count": 76,
     "metadata": {},
     "output_type": "execute_result"
    }
   ],
   "source": [
    "new_sent = nltk.ne_chunk((nltk.pos_tag(article.split()))) \n",
    "#print(new_sent)\n",
    "data1 = []\n",
    "for s in new_sent:\n",
    "    data1.append(s)\n",
    "data1"
   ]
  },
  {
   "cell_type": "code",
   "execution_count": 77,
   "id": "7cc47ffc",
   "metadata": {},
   "outputs": [],
   "source": [
    "import pandas as pd\n",
    "df = pd.DataFrame(data1)\n",
    "#df=df.drop(['col1','col2'],axis=1)"
   ]
  },
  {
   "cell_type": "code",
   "execution_count": 78,
   "id": "eb0d3381",
   "metadata": {},
   "outputs": [
    {
     "data": {
      "text/html": [
       "<div>\n",
       "<style scoped>\n",
       "    .dataframe tbody tr th:only-of-type {\n",
       "        vertical-align: middle;\n",
       "    }\n",
       "\n",
       "    .dataframe tbody tr th {\n",
       "        vertical-align: top;\n",
       "    }\n",
       "\n",
       "    .dataframe thead th {\n",
       "        text-align: right;\n",
       "    }\n",
       "</style>\n",
       "<table border=\"1\" class=\"dataframe\">\n",
       "  <thead>\n",
       "    <tr style=\"text-align: right;\">\n",
       "      <th></th>\n",
       "      <th>0</th>\n",
       "      <th>1</th>\n",
       "    </tr>\n",
       "  </thead>\n",
       "  <tbody>\n",
       "    <tr>\n",
       "      <th>16</th>\n",
       "      <td>ending</td>\n",
       "      <td>VBG</td>\n",
       "    </tr>\n",
       "    <tr>\n",
       "      <th>27</th>\n",
       "      <td>delivered</td>\n",
       "      <td>VBN</td>\n",
       "    </tr>\n",
       "    <tr>\n",
       "      <th>34</th>\n",
       "      <td>fell,by</td>\n",
       "      <td>VBD</td>\n",
       "    </tr>\n",
       "    <tr>\n",
       "      <th>41</th>\n",
       "      <td>told</td>\n",
       "      <td>VBD</td>\n",
       "    </tr>\n",
       "    <tr>\n",
       "      <th>58</th>\n",
       "      <td>met,Keating</td>\n",
       "      <td>VB</td>\n",
       "    </tr>\n",
       "    <tr>\n",
       "      <th>66</th>\n",
       "      <td>dragging</td>\n",
       "      <td>VBG</td>\n",
       "    </tr>\n",
       "    <tr>\n",
       "      <th>71</th>\n",
       "      <td>seen</td>\n",
       "      <td>VBN</td>\n",
       "    </tr>\n",
       "    <tr>\n",
       "      <th>79</th>\n",
       "      <td>pushing</td>\n",
       "      <td>VBG</td>\n",
       "    </tr>\n",
       "    <tr>\n",
       "      <th>82</th>\n",
       "      <td>holding</td>\n",
       "      <td>VBG</td>\n",
       "    </tr>\n",
       "    <tr>\n",
       "      <th>85</th>\n",
       "      <td>bringing</td>\n",
       "      <td>VBG</td>\n",
       "    </tr>\n",
       "    <tr>\n",
       "      <th>89</th>\n",
       "      <td>said,adding</td>\n",
       "      <td>VBG</td>\n",
       "    </tr>\n",
       "  </tbody>\n",
       "</table>\n",
       "</div>"
      ],
      "text/plain": [
       "              0    1\n",
       "16       ending  VBG\n",
       "27    delivered  VBN\n",
       "34      fell,by  VBD\n",
       "41         told  VBD\n",
       "58  met,Keating   VB\n",
       "66     dragging  VBG\n",
       "71         seen  VBN\n",
       "79      pushing  VBG\n",
       "82      holding  VBG\n",
       "85     bringing  VBG\n",
       "89  said,adding  VBG"
      ]
     },
     "execution_count": 78,
     "metadata": {},
     "output_type": "execute_result"
    }
   ],
   "source": [
    "verbs_df = df.loc[df[1].isin(['VB','VBG','VBP','VBD','VBN'])]\n",
    "verbs_df"
   ]
  },
  {
   "cell_type": "code",
   "execution_count": 79,
   "id": "0180c005",
   "metadata": {},
   "outputs": [
    {
     "data": {
      "text/html": [
       "<div>\n",
       "<style scoped>\n",
       "    .dataframe tbody tr th:only-of-type {\n",
       "        vertical-align: middle;\n",
       "    }\n",
       "\n",
       "    .dataframe tbody tr th {\n",
       "        vertical-align: top;\n",
       "    }\n",
       "\n",
       "    .dataframe thead th {\n",
       "        text-align: right;\n",
       "    }\n",
       "</style>\n",
       "<table border=\"1\" class=\"dataframe\">\n",
       "  <thead>\n",
       "    <tr style=\"text-align: right;\">\n",
       "      <th></th>\n",
       "      <th>0</th>\n",
       "      <th>1</th>\n",
       "    </tr>\n",
       "  </thead>\n",
       "  <tbody>\n",
       "    <tr>\n",
       "      <th>0</th>\n",
       "      <td>KEATING</td>\n",
       "      <td>NN</td>\n",
       "    </tr>\n",
       "    <tr>\n",
       "      <th>2</th>\n",
       "      <td>DOWN</td>\n",
       "      <td>NNP</td>\n",
       "    </tr>\n",
       "    <tr>\n",
       "      <th>3</th>\n",
       "      <td>AUSTRALIAN</td>\n",
       "      <td>NNP</td>\n",
       "    </tr>\n",
       "    <tr>\n",
       "      <th>4</th>\n",
       "      <td>GROWTH</td>\n",
       "      <td>NNP</td>\n",
       "    </tr>\n",
       "    <tr>\n",
       "      <th>5</th>\n",
       "      <td>FORECAST</td>\n",
       "      <td>NNP</td>\n",
       "    </tr>\n",
       "    <tr>\n",
       "      <th>6</th>\n",
       "      <td>Treasurer</td>\n",
       "      <td>NNP</td>\n",
       "    </tr>\n",
       "    <tr>\n",
       "      <th>10</th>\n",
       "      <td>growth</td>\n",
       "      <td>NN</td>\n",
       "    </tr>\n",
       "    <tr>\n",
       "      <th>13</th>\n",
       "      <td>%</td>\n",
       "      <td>NN</td>\n",
       "    </tr>\n",
       "    <tr>\n",
       "      <th>15</th>\n",
       "      <td>year</td>\n",
       "      <td>NN</td>\n",
       "    </tr>\n",
       "    <tr>\n",
       "      <th>17</th>\n",
       "      <td>June</td>\n",
       "      <td>NNP</td>\n",
       "    </tr>\n",
       "    <tr>\n",
       "      <th>20</th>\n",
       "      <td>%</td>\n",
       "      <td>NN</td>\n",
       "    </tr>\n",
       "    <tr>\n",
       "      <th>21</th>\n",
       "      <td>forecast</td>\n",
       "      <td>NN</td>\n",
       "    </tr>\n",
       "    <tr>\n",
       "      <th>26</th>\n",
       "      <td>budget</td>\n",
       "      <td>NN</td>\n",
       "    </tr>\n",
       "    <tr>\n",
       "      <th>29</th>\n",
       "      <td>August.Australia</td>\n",
       "      <td>NNP</td>\n",
       "    </tr>\n",
       "    <tr>\n",
       "      <th>31</th>\n",
       "      <td>terms</td>\n",
       "      <td>NNS</td>\n",
       "    </tr>\n",
       "    <tr>\n",
       "      <th>32</th>\n",
       "      <td>trade</td>\n",
       "      <td>NN</td>\n",
       "    </tr>\n",
       "    <tr>\n",
       "      <th>39</th>\n",
       "      <td>years,Paul</td>\n",
       "      <td>NN</td>\n",
       "    </tr>\n",
       "    <tr>\n",
       "      <th>42</th>\n",
       "      <td>Parliament.Terms</td>\n",
       "      <td>NNP</td>\n",
       "    </tr>\n",
       "    <tr>\n",
       "      <th>43</th>\n",
       "      <td>trade</td>\n",
       "      <td>NN</td>\n",
       "    </tr>\n",
       "    <tr>\n",
       "      <th>44</th>\n",
       "      <td>difference</td>\n",
       "      <td>NN</td>\n",
       "    </tr>\n",
       "    <tr>\n",
       "      <th>45</th>\n",
       "      <td>import</td>\n",
       "      <td>NN</td>\n",
       "    </tr>\n",
       "    <tr>\n",
       "      <th>46</th>\n",
       "      <td>export</td>\n",
       "      <td>NN</td>\n",
       "    </tr>\n",
       "    <tr>\n",
       "      <th>47</th>\n",
       "      <td>price</td>\n",
       "      <td>NN</td>\n",
       "    </tr>\n",
       "    <tr>\n",
       "      <th>50</th>\n",
       "      <td>budget</td>\n",
       "      <td>NN</td>\n",
       "    </tr>\n",
       "    <tr>\n",
       "      <th>51</th>\n",
       "      <td>forecast</td>\n",
       "      <td>NN</td>\n",
       "    </tr>\n",
       "    <tr>\n",
       "      <th>53</th>\n",
       "      <td>%</td>\n",
       "      <td>NN</td>\n",
       "    </tr>\n",
       "    <tr>\n",
       "      <th>55</th>\n",
       "      <td>growth</td>\n",
       "      <td>NN</td>\n",
       "    </tr>\n",
       "    <tr>\n",
       "      <th>56</th>\n",
       "      <td>employment</td>\n",
       "      <td>NN</td>\n",
       "    </tr>\n",
       "    <tr>\n",
       "      <th>59</th>\n",
       "      <td>said.Unemployment</td>\n",
       "      <td>NN</td>\n",
       "    </tr>\n",
       "    <tr>\n",
       "      <th>62</th>\n",
       "      <td>%</td>\n",
       "      <td>NN</td>\n",
       "    </tr>\n",
       "    <tr>\n",
       "      <th>63</th>\n",
       "      <td>workforce.\"</td>\n",
       "      <td>NN</td>\n",
       "    </tr>\n",
       "    <tr>\n",
       "      <th>65</th>\n",
       "      <td>government</td>\n",
       "      <td>NN</td>\n",
       "    </tr>\n",
       "    <tr>\n",
       "      <th>68</th>\n",
       "      <td>trading</td>\n",
       "      <td>NN</td>\n",
       "    </tr>\n",
       "    <tr>\n",
       "      <th>69</th>\n",
       "      <td>holocaust</td>\n",
       "      <td>NN</td>\n",
       "    </tr>\n",
       "    <tr>\n",
       "      <th>70</th>\n",
       "      <td>kind</td>\n",
       "      <td>NN</td>\n",
       "    </tr>\n",
       "    <tr>\n",
       "      <th>74</th>\n",
       "      <td>World</td>\n",
       "      <td>NNP</td>\n",
       "    </tr>\n",
       "    <tr>\n",
       "      <th>75</th>\n",
       "      <td>War</td>\n",
       "      <td>NNP</td>\n",
       "    </tr>\n",
       "    <tr>\n",
       "      <th>76</th>\n",
       "      <td>,\"</td>\n",
       "      <td>NNP</td>\n",
       "    </tr>\n",
       "    <tr>\n",
       "      <th>77</th>\n",
       "      <td>Keating</td>\n",
       "      <td>NNP</td>\n",
       "    </tr>\n",
       "    <tr>\n",
       "      <th>78</th>\n",
       "      <td>said.\"</td>\n",
       "      <td>NN</td>\n",
       "    </tr>\n",
       "    <tr>\n",
       "      <th>80</th>\n",
       "      <td>place</td>\n",
       "      <td>NN</td>\n",
       "    </tr>\n",
       "    <tr>\n",
       "      <th>81</th>\n",
       "      <td>recession.we</td>\n",
       "      <td>NN</td>\n",
       "    </tr>\n",
       "    <tr>\n",
       "      <th>83</th>\n",
       "      <td>gains</td>\n",
       "      <td>NNS</td>\n",
       "    </tr>\n",
       "    <tr>\n",
       "      <th>86</th>\n",
       "      <td>unemployment</td>\n",
       "      <td>NN</td>\n",
       "    </tr>\n",
       "    <tr>\n",
       "      <th>87</th>\n",
       "      <td>,\"</td>\n",
       "      <td>NN</td>\n",
       "    </tr>\n",
       "    <tr>\n",
       "      <th>90</th>\n",
       "      <td>government</td>\n",
       "      <td>NN</td>\n",
       "    </tr>\n",
       "    <tr>\n",
       "      <th>91</th>\n",
       "      <td>help</td>\n",
       "      <td>NN</td>\n",
       "    </tr>\n",
       "    <tr>\n",
       "      <th>94</th>\n",
       "      <td>recession</td>\n",
       "      <td>NN</td>\n",
       "    </tr>\n",
       "  </tbody>\n",
       "</table>\n",
       "</div>"
      ],
      "text/plain": [
       "                    0    1\n",
       "0             KEATING   NN\n",
       "2                DOWN  NNP\n",
       "3          AUSTRALIAN  NNP\n",
       "4              GROWTH  NNP\n",
       "5            FORECAST  NNP\n",
       "6           Treasurer  NNP\n",
       "10             growth   NN\n",
       "13                  %   NN\n",
       "15               year   NN\n",
       "17               June  NNP\n",
       "20                  %   NN\n",
       "21           forecast   NN\n",
       "26             budget   NN\n",
       "29   August.Australia  NNP\n",
       "31              terms  NNS\n",
       "32              trade   NN\n",
       "39         years,Paul   NN\n",
       "42   Parliament.Terms  NNP\n",
       "43              trade   NN\n",
       "44         difference   NN\n",
       "45             import   NN\n",
       "46             export   NN\n",
       "47              price   NN\n",
       "50             budget   NN\n",
       "51           forecast   NN\n",
       "53                  %   NN\n",
       "55             growth   NN\n",
       "56         employment   NN\n",
       "59  said.Unemployment   NN\n",
       "62                  %   NN\n",
       "63        workforce.\"   NN\n",
       "65         government   NN\n",
       "68            trading   NN\n",
       "69          holocaust   NN\n",
       "70               kind   NN\n",
       "74              World  NNP\n",
       "75                War  NNP\n",
       "76                 ,\"  NNP\n",
       "77            Keating  NNP\n",
       "78             said.\"   NN\n",
       "80              place   NN\n",
       "81       recession.we   NN\n",
       "83              gains  NNS\n",
       "86       unemployment   NN\n",
       "87                 ,\"   NN\n",
       "90         government   NN\n",
       "91               help   NN\n",
       "94          recession   NN"
      ]
     },
     "execution_count": 79,
     "metadata": {},
     "output_type": "execute_result"
    }
   ],
   "source": [
    "noun_df = df.loc[df[1].isin(['NN', 'NNP','NNS'])]\n",
    "noun_df"
   ]
  },
  {
   "cell_type": "code",
   "execution_count": 80,
   "id": "cef02059",
   "metadata": {},
   "outputs": [
    {
     "data": {
      "text/html": [
       "<div>\n",
       "<style scoped>\n",
       "    .dataframe tbody tr th:only-of-type {\n",
       "        vertical-align: middle;\n",
       "    }\n",
       "\n",
       "    .dataframe tbody tr th {\n",
       "        vertical-align: top;\n",
       "    }\n",
       "\n",
       "    .dataframe thead th {\n",
       "        text-align: right;\n",
       "    }\n",
       "</style>\n",
       "<table border=\"1\" class=\"dataframe\">\n",
       "  <thead>\n",
       "    <tr style=\"text-align: right;\">\n",
       "      <th></th>\n",
       "      <th>0</th>\n",
       "      <th>1</th>\n",
       "    </tr>\n",
       "  </thead>\n",
       "  <tbody>\n",
       "    <tr>\n",
       "      <th>0</th>\n",
       "      <td>ORGANIZATION</td>\n",
       "      <td>REVISES</td>\n",
       "    </tr>\n",
       "    <tr>\n",
       "      <th>1</th>\n",
       "      <td>PERSON</td>\n",
       "      <td>Paul Keating</td>\n",
       "    </tr>\n",
       "    <tr>\n",
       "      <th>2</th>\n",
       "      <td>PERSON</td>\n",
       "      <td>Paul Keating</td>\n",
       "    </tr>\n",
       "    <tr>\n",
       "      <th>3</th>\n",
       "      <td>GPE</td>\n",
       "      <td>Keating</td>\n",
       "    </tr>\n",
       "    <tr>\n",
       "      <th>4</th>\n",
       "      <td>GPE</td>\n",
       "      <td>Australia</td>\n",
       "    </tr>\n",
       "    <tr>\n",
       "      <th>5</th>\n",
       "      <td>ORGANIZATION</td>\n",
       "      <td>Second</td>\n",
       "    </tr>\n",
       "    <tr>\n",
       "      <th>6</th>\n",
       "      <td>PERSON</td>\n",
       "      <td>Keating</td>\n",
       "    </tr>\n",
       "    <tr>\n",
       "      <th>7</th>\n",
       "      <td>PERSON</td>\n",
       "      <td>Paul Keating</td>\n",
       "    </tr>\n",
       "    <tr>\n",
       "      <th>8</th>\n",
       "      <td>GPE</td>\n",
       "      <td>Australia</td>\n",
       "    </tr>\n",
       "  </tbody>\n",
       "</table>\n",
       "</div>"
      ],
      "text/plain": [
       "              0             1\n",
       "0  ORGANIZATION       REVISES\n",
       "1        PERSON  Paul Keating\n",
       "2        PERSON  Paul Keating\n",
       "3           GPE       Keating\n",
       "4           GPE     Australia\n",
       "5  ORGANIZATION        Second\n",
       "6        PERSON       Keating\n",
       "7        PERSON  Paul Keating\n",
       "8           GPE     Australia"
      ]
     },
     "execution_count": 80,
     "metadata": {},
     "output_type": "execute_result"
    }
   ],
   "source": [
    "df = pd.DataFrame.from_records(entity_df)\n",
    "df"
   ]
  },
  {
   "cell_type": "code",
   "execution_count": null,
   "id": "22af4d31",
   "metadata": {},
   "outputs": [],
   "source": []
  },
  {
   "cell_type": "code",
   "execution_count": 83,
   "id": "3b4a544f",
   "metadata": {},
   "outputs": [
    {
     "ename": "AttributeError",
     "evalue": "module 'nltk.sem.relextract' has no attribute 'show_raw_rtuple'",
     "output_type": "error",
     "traceback": [
      "\u001b[0;31m---------------------------------------------------------------------------\u001b[0m",
      "\u001b[0;31mAttributeError\u001b[0m                            Traceback (most recent call last)",
      "\u001b[0;32m/tmp/ipykernel_164435/4155054494.py\u001b[0m in \u001b[0;36m<module>\u001b[0;34m\u001b[0m\n\u001b[1;32m     11\u001b[0m \u001b[0;34m\u001b[0m\u001b[0m\n\u001b[1;32m     12\u001b[0m \u001b[0;32mfor\u001b[0m \u001b[0mrel\u001b[0m \u001b[0;32min\u001b[0m  \u001b[0mnltk\u001b[0m\u001b[0;34m.\u001b[0m\u001b[0msem\u001b[0m\u001b[0;34m.\u001b[0m\u001b[0mextract_rels\u001b[0m\u001b[0;34m(\u001b[0m\u001b[0;34m'ORG'\u001b[0m\u001b[0;34m,\u001b[0m\u001b[0;34m'LOC'\u001b[0m\u001b[0;34m,\u001b[0m\u001b[0mdoc\u001b[0m\u001b[0;34m,\u001b[0m\u001b[0mcorpus\u001b[0m\u001b[0;34m=\u001b[0m\u001b[0;34m'ieer'\u001b[0m\u001b[0;34m,\u001b[0m\u001b[0mpattern\u001b[0m\u001b[0;34m=\u001b[0m\u001b[0mIN\u001b[0m\u001b[0;34m)\u001b[0m\u001b[0;34m:\u001b[0m\u001b[0;34m\u001b[0m\u001b[0;34m\u001b[0m\u001b[0m\n\u001b[0;32m---> 13\u001b[0;31m     \u001b[0mprint\u001b[0m\u001b[0;34m(\u001b[0m\u001b[0mnltk\u001b[0m\u001b[0;34m.\u001b[0m\u001b[0msem\u001b[0m\u001b[0;34m.\u001b[0m\u001b[0mrelextract\u001b[0m\u001b[0;34m.\u001b[0m\u001b[0mshow_raw_rtuple\u001b[0m\u001b[0;34m(\u001b[0m\u001b[0mrel\u001b[0m\u001b[0;34m)\u001b[0m\u001b[0;34m)\u001b[0m\u001b[0;34m\u001b[0m\u001b[0;34m\u001b[0m\u001b[0m\n\u001b[0m",
      "\u001b[0;31mAttributeError\u001b[0m: module 'nltk.sem.relextract' has no attribute 'show_raw_rtuple'"
     ]
    }
   ],
   "source": [
    "import nltk\n",
    "import re\n",
    "\n",
    "IN = re.compile (r'.*\\bin\\b(?!\\b.+ing)')\n",
    "\n",
    "class doc():\n",
    "    pass\n",
    "\n",
    "doc.headline=['foo']\n",
    "doc.text=[nltk.Tree('ORGANIZATION', ['WHYY']), 'in', nltk.Tree('LOCATION',['Philadelphia']), '.', 'Ms.', nltk.Tree('PERSON', ['Gross']), ',']\n",
    "\n",
    "for rel in  nltk.sem.extract_rels('ORG','LOC',doc,corpus='ieer',pattern=IN):\n",
    "    print(nltk.sem.relextract.show_raw_rtuple(rel))"
   ]
  },
  {
   "cell_type": "code",
   "execution_count": 100,
   "id": "5fc7a521",
   "metadata": {},
   "outputs": [],
   "source": [
    "df1.to_csv(\"Data.csv\")"
   ]
  },
  {
   "cell_type": "code",
   "execution_count": 101,
   "id": "e45f4f20",
   "metadata": {
    "scrolled": true
   },
   "outputs": [
    {
     "data": {
      "text/html": [
       "<div>\n",
       "<style scoped>\n",
       "    .dataframe tbody tr th:only-of-type {\n",
       "        vertical-align: middle;\n",
       "    }\n",
       "\n",
       "    .dataframe tbody tr th {\n",
       "        vertical-align: top;\n",
       "    }\n",
       "\n",
       "    .dataframe thead th {\n",
       "        text-align: right;\n",
       "    }\n",
       "</style>\n",
       "<table border=\"1\" class=\"dataframe\">\n",
       "  <thead>\n",
       "    <tr style=\"text-align: right;\">\n",
       "      <th></th>\n",
       "      <th>Unnamed: 0</th>\n",
       "      <th>sentence</th>\n",
       "    </tr>\n",
       "  </thead>\n",
       "  <tbody>\n",
       "    <tr>\n",
       "      <th>0</th>\n",
       "      <td>0</td>\n",
       "      <td>KEATING REVISES DOWN AUSTRALIAN GROWTH FORECAS...</td>\n",
       "    </tr>\n",
       "    <tr>\n",
       "      <th>1</th>\n",
       "      <td>1</td>\n",
       "      <td>Australia ' s terms of trade also fell,by 18 %...</td>\n",
       "    </tr>\n",
       "    <tr>\n",
       "      <th>2</th>\n",
       "      <td>2</td>\n",
       "      <td>Terms of trade are the difference between impo...</td>\n",
       "    </tr>\n",
       "    <tr>\n",
       "      <th>3</th>\n",
       "      <td>3</td>\n",
       "      <td>Despite the figures,the budget forecast of abo...</td>\n",
       "    </tr>\n",
       "    <tr>\n",
       "      <th>4</th>\n",
       "      <td>4</td>\n",
       "      <td>Unemployment is currently at 8.2 % of the work...</td>\n",
       "    </tr>\n",
       "    <tr>\n",
       "      <th>5</th>\n",
       "      <td>5</td>\n",
       "      <td>This government is dragging Australia through ...</td>\n",
       "    </tr>\n",
       "    <tr>\n",
       "      <th>6</th>\n",
       "      <td>6</td>\n",
       "      <td>we are not pushing this place into a recession...</td>\n",
       "    </tr>\n",
       "  </tbody>\n",
       "</table>\n",
       "</div>"
      ],
      "text/plain": [
       "   Unnamed: 0                                           sentence\n",
       "0           0  KEATING REVISES DOWN AUSTRALIAN GROWTH FORECAS...\n",
       "1           1  Australia ' s terms of trade also fell,by 18 %...\n",
       "2           2  Terms of trade are the difference between impo...\n",
       "3           3  Despite the figures,the budget forecast of abo...\n",
       "4           4  Unemployment is currently at 8.2 % of the work...\n",
       "5           5  This government is dragging Australia through ...\n",
       "6           6  we are not pushing this place into a recession..."
      ]
     },
     "execution_count": 101,
     "metadata": {},
     "output_type": "execute_result"
    }
   ],
   "source": [
    "df = pd.read_csv(\"Data.csv\")\n",
    "df"
   ]
  },
  {
   "cell_type": "code",
   "execution_count": 103,
   "id": "aac9fdae",
   "metadata": {},
   "outputs": [
    {
     "data": {
      "text/html": [
       "<div>\n",
       "<style scoped>\n",
       "    .dataframe tbody tr th:only-of-type {\n",
       "        vertical-align: middle;\n",
       "    }\n",
       "\n",
       "    .dataframe tbody tr th {\n",
       "        vertical-align: top;\n",
       "    }\n",
       "\n",
       "    .dataframe thead th {\n",
       "        text-align: right;\n",
       "    }\n",
       "</style>\n",
       "<table border=\"1\" class=\"dataframe\">\n",
       "  <thead>\n",
       "    <tr style=\"text-align: right;\">\n",
       "      <th></th>\n",
       "      <th>Unnamed: 0</th>\n",
       "      <th>sentence</th>\n",
       "    </tr>\n",
       "  </thead>\n",
       "  <tbody>\n",
       "    <tr>\n",
       "      <th>1</th>\n",
       "      <td>1</td>\n",
       "      <td>Australia ' s terms of trade also fell,by 18 %...</td>\n",
       "    </tr>\n",
       "    <tr>\n",
       "      <th>5</th>\n",
       "      <td>5</td>\n",
       "      <td>This government is dragging Australia through ...</td>\n",
       "    </tr>\n",
       "    <tr>\n",
       "      <th>6</th>\n",
       "      <td>6</td>\n",
       "      <td>we are not pushing this place into a recession...</td>\n",
       "    </tr>\n",
       "  </tbody>\n",
       "</table>\n",
       "</div>"
      ],
      "text/plain": [
       "   Unnamed: 0                                           sentence\n",
       "1           1  Australia ' s terms of trade also fell,by 18 %...\n",
       "5           5  This government is dragging Australia through ...\n",
       "6           6  we are not pushing this place into a recession..."
      ]
     },
     "execution_count": 103,
     "metadata": {},
     "output_type": "execute_result"
    }
   ],
   "source": [
    "df[df['sentence'].str.contains('keating' and 'Australia')]"
   ]
  },
  {
   "cell_type": "code",
   "execution_count": 107,
   "id": "c45dfb4a",
   "metadata": {},
   "outputs": [],
   "source": [
    "def get_entity(sent):\n",
    "    ent1 = \"\" #subject entity\n",
    "    ent2 = \"\" #object entity\n",
    "\n",
    "    prev_token_text = \"\" #text from previous token\n",
    "    prev_token_dep = \"\"  #depedency from previous token\n",
    "\n",
    "    prefix = \"\"\n",
    "    modifier = \"\"\n",
    "\n",
    "    for tok in nlp(sent):\n",
    "    #Go in only if it is not a punctuation, else next word\n",
    "        if tok.dep_ != \"punct\":\n",
    "        #Check if token is a compund word\n",
    "            if tok.dep_ == \"compound\":\n",
    "                prefix = tok.text\n",
    "        #Check if previous token is also a compound\n",
    "                if prev_token_dep == \"compound\":\n",
    "                    prefix = prev_token_text + \" \"+ prefix\n",
    "      #Check if token is a modifier or not\n",
    "            if tok.dep_.endswith(\"mod\")==True:\n",
    "                modifier = tok.text \n",
    "        #Check if previous token is a compound\n",
    "                if prev_token_dep == \"compound\":\n",
    "                    modifier = prev_token_text + \" \" + modifier\n",
    "\n",
    "      #Checking if subject\n",
    "            if tok.dep_.find(\"subj\") == True:\n",
    "                ent1 =modifier+ \" \" + prefix + \" \" + tok.text\n",
    "                prefix = \"\"\n",
    "                modifer = \"\"\n",
    "      #Checking if object\n",
    "            if tok.dep_.find(\"obj\") == True:\n",
    "                ent2 =modifier+ \" \" + prefix + \" \" + tok.text\n",
    "                prefix = \"\"\n",
    "                modifer = \"\"\n",
    "\n",
    "      #Update variables\n",
    "            prev_token_text = tok.text\n",
    "            prev_token_dep = tok.dep_\n",
    "\n",
    "      ############################\n",
    "    return [ent1.strip(), ent2.strip()]"
   ]
  },
  {
   "cell_type": "code",
   "execution_count": 117,
   "id": "89950d1f",
   "metadata": {
    "scrolled": true
   },
   "outputs": [
    {
     "name": "stdout",
     "output_type": "stream",
     "text": [
      "Subj : , obj : \n"
     ]
    },
    {
     "data": {
      "text/plain": [
       "['', '']"
      ]
     },
     "execution_count": 117,
     "metadata": {},
     "output_type": "execute_result"
    }
   ],
   "source": [
    "[ent1,ent2] = get_entity(\"the film had 200 patents\")\n",
    "print(\"Subj : {a}, obj : {b}\".format(a = ent1, b = ent2))\n",
    "get_entity(\"the film had 200 patents\")"
   ]
  },
  {
   "cell_type": "code",
   "execution_count": 115,
   "id": "cca92baf",
   "metadata": {
    "scrolled": true
   },
   "outputs": [
    {
     "name": "stderr",
     "output_type": "stream",
     "text": [
      "100%|████████████████████████████████████████████████████████████████████████████████| 7/7 [00:00<00:00, 1128.50it/s]\n"
     ]
    }
   ],
   "source": [
    "from tqdm import tqdm\n",
    "entity_pairs = []\n",
    "for i in tqdm(df['sentence']):\n",
    "    entity_pairs.append(get_entity(i))\n",
    "tqdm._instances.clear()"
   ]
  },
  {
   "cell_type": "code",
   "execution_count": 121,
   "id": "2f4a7d91",
   "metadata": {},
   "outputs": [],
   "source": [
    "subjects = []\n",
    "objects = []\n",
    "subjects = [x[0] for x in entity_pairs]\n",
    "objects = [x[1] for x in entity_pairs]"
   ]
  },
  {
   "cell_type": "code",
   "execution_count": 128,
   "id": "ae501033",
   "metadata": {},
   "outputs": [],
   "source": [
    "import re\n",
    "import pandas as pd\n",
    "import spacy\n",
    "from tqdm import tqdm\n",
    "# Load English tokenizer, tagger, parser, NER and word vectors\n",
    "nlp = spacy.load(\"en_core_web_sm\")\n",
    "from spacy.matcher import Matcher\n",
    "import networkx as nx\n",
    "import matplotlib.pyplot as plt\n",
    "import nltk\n",
    "from nltk.tokenize import word_tokenize\n",
    "from nltk.corpus import stopwords\n",
    "import re\n",
    "import string \n",
    "tqdm._instances.clear()"
   ]
  },
  {
   "cell_type": "code",
   "execution_count": 119,
   "id": "ab881f2e",
   "metadata": {},
   "outputs": [],
   "source": [
    "def get_entity1(sent):\n",
    "  ent1 = \"\" #subject entity\n",
    "  ent2 = \"\" #object entity\n",
    "\n",
    "  prev_token_text = \"\" #text from previous token\n",
    "  prev_token_dep = \"\"  #depedency from previous token\n",
    "\n",
    "  prefix = \"\"\n",
    "  modifier = \"\"\n",
    "\n",
    "  for tok in nlp(sent):\n",
    "    #Go in only if it is not a punctuation, else next word\n",
    "    if tok.dep_ != \"punct\":\n",
    "      #Check if token is a compund word\n",
    "      if tok.dep_ == \"compound\":\n",
    "        prefix = tok.text\n",
    "        #Check if previous token is also a compound\n",
    "        if prev_token_dep == \"compound\":\n",
    "          prefix = prev_token_text + \" \"+ prefix\n",
    "      #Check if token is a modifier or not\n",
    "      if tok.dep_.endswith(\"mod\")==True:\n",
    "        modifier = tok.text \n",
    "        #Check if previous token is a compound\n",
    "        if prev_token_dep == \"compound\":\n",
    "          modifier = prev_token_text + \" \" + modifier\n",
    "\n",
    "      #Checking if subject\n",
    "      if tok.dep_.find(\"subj\") == True:\n",
    "        ent1 =modifier+ \" \" + prefix + \" \" + tok.text\n",
    "        prefix = \"\"\n",
    "        modifer = \"\"\n",
    "      #Checking if object\n",
    "      if tok.dep_.find(\"obj\") == True:\n",
    "        ent2 =modifier+ \" \" + prefix + \" \" + tok.text\n",
    "        prefix = \"\"\n",
    "        modifer = \"\"\n",
    "\n",
    "      #Update variables\n",
    "      prev_token_text = tok.text\n",
    "      prev_token_dep = tok.dep_\n",
    "\n",
    "      ############################\n",
    "  return [ent1.strip(), ent2.strip()]    "
   ]
  },
  {
   "cell_type": "code",
   "execution_count": 120,
   "id": "147398b6",
   "metadata": {},
   "outputs": [
    {
     "name": "stdout",
     "output_type": "stream",
     "text": [
      "Subj : , obj : \n"
     ]
    },
    {
     "data": {
      "text/plain": [
       "['', '']"
      ]
     },
     "execution_count": 120,
     "metadata": {},
     "output_type": "execute_result"
    }
   ],
   "source": [
    "[ent1,ent2] = get_entity1(\"the film had 200 patents\")\n",
    "print(\"Subj : {a}, obj : {b}\".format(a = ent1, b = ent2))\n",
    "get_entity(\"the film had 200 patents\")"
   ]
  },
  {
   "cell_type": "code",
   "execution_count": 126,
   "id": "c2c9a4eb",
   "metadata": {},
   "outputs": [],
   "source": [
    "def get_relation(sent):\n",
    "  doc = nlp(sent)\n",
    "  #We initialise matcher with the vocab\n",
    "  matcher = Matcher(nlp.vocab)\n",
    "  #Defining the pattern\n",
    "  pattern = [{'DEP':'ROOT'},{'DEP':'prep','OP':'?'},{'DEP':'agent','OP':'?'},{'DEP':'ADJ','OP':'?'}]\n",
    "  #Adding the pattern to the matcher\n",
    "  matcher.add(\"matcher_1\",None,pattern)\n",
    "  #Applying the matcher to the doc\n",
    "  matches = matcher(doc)\n",
    "\n",
    "  #The matcher returns a list of (match_id, start, end). The start to end in our doc contains the relation. We capture that relation in a variable called span\n",
    "  span = doc[matches[0][1]:matches[0][2]]\n",
    "  return span.text"
   ]
  },
  {
   "cell_type": "code",
   "execution_count": 127,
   "id": "d8ba8191",
   "metadata": {},
   "outputs": [
    {
     "name": "stdout",
     "output_type": "stream",
     "text": [
      "['', '']\n"
     ]
    },
    {
     "ename": "IndexError",
     "evalue": "list index out of range",
     "output_type": "error",
     "traceback": [
      "\u001b[0;31m---------------------------------------------------------------------------\u001b[0m",
      "\u001b[0;31mIndexError\u001b[0m                                Traceback (most recent call last)",
      "\u001b[0;32m/tmp/ipykernel_164435/1774090255.py\u001b[0m in \u001b[0;36m<module>\u001b[0;34m\u001b[0m\n\u001b[1;32m      1\u001b[0m \u001b[0mprint\u001b[0m\u001b[0;34m(\u001b[0m\u001b[0mget_entity\u001b[0m\u001b[0;34m(\u001b[0m\u001b[0;34m\"John completed the task\"\u001b[0m\u001b[0;34m)\u001b[0m\u001b[0;34m)\u001b[0m\u001b[0;34m\u001b[0m\u001b[0;34m\u001b[0m\u001b[0m\n\u001b[0;32m----> 2\u001b[0;31m \u001b[0mprint\u001b[0m\u001b[0;34m(\u001b[0m\u001b[0mget_relation\u001b[0m\u001b[0;34m(\u001b[0m\u001b[0;34m\"John completed the task\"\u001b[0m\u001b[0;34m)\u001b[0m\u001b[0;34m)\u001b[0m\u001b[0;34m\u001b[0m\u001b[0;34m\u001b[0m\u001b[0m\n\u001b[0m",
      "\u001b[0;32m/tmp/ipykernel_164435/3512515621.py\u001b[0m in \u001b[0;36mget_relation\u001b[0;34m(sent)\u001b[0m\n\u001b[1;32m     11\u001b[0m \u001b[0;34m\u001b[0m\u001b[0m\n\u001b[1;32m     12\u001b[0m   \u001b[0;31m#The matcher returns a list of (match_id, start, end). The start to end in our doc contains the relation. We capture that relation in a variable called span\u001b[0m\u001b[0;34m\u001b[0m\u001b[0;34m\u001b[0m\u001b[0;34m\u001b[0m\u001b[0m\n\u001b[0;32m---> 13\u001b[0;31m   \u001b[0mspan\u001b[0m \u001b[0;34m=\u001b[0m \u001b[0mdoc\u001b[0m\u001b[0;34m[\u001b[0m\u001b[0mmatches\u001b[0m\u001b[0;34m[\u001b[0m\u001b[0;36m0\u001b[0m\u001b[0;34m]\u001b[0m\u001b[0;34m[\u001b[0m\u001b[0;36m1\u001b[0m\u001b[0;34m]\u001b[0m\u001b[0;34m:\u001b[0m\u001b[0mmatches\u001b[0m\u001b[0;34m[\u001b[0m\u001b[0;36m0\u001b[0m\u001b[0;34m]\u001b[0m\u001b[0;34m[\u001b[0m\u001b[0;36m2\u001b[0m\u001b[0;34m]\u001b[0m\u001b[0;34m]\u001b[0m\u001b[0;34m\u001b[0m\u001b[0;34m\u001b[0m\u001b[0m\n\u001b[0m\u001b[1;32m     14\u001b[0m   \u001b[0;32mreturn\u001b[0m \u001b[0mspan\u001b[0m\u001b[0;34m.\u001b[0m\u001b[0mtext\u001b[0m\u001b[0;34m\u001b[0m\u001b[0;34m\u001b[0m\u001b[0m\n",
      "\u001b[0;31mIndexError\u001b[0m: list index out of range"
     ]
    }
   ],
   "source": [
    "print(get_entity(\"John completed the task\"))\n",
    "print(get_relation(\"John completed the task\"))"
   ]
  },
  {
   "cell_type": "code",
   "execution_count": null,
   "id": "a508d8b2",
   "metadata": {},
   "outputs": [],
   "source": []
  },
  {
   "cell_type": "code",
   "execution_count": null,
   "id": "2de371b8",
   "metadata": {},
   "outputs": [],
   "source": []
  }
 ],
 "metadata": {
  "kernelspec": {
   "display_name": "Python 3 (ipykernel)",
   "language": "python",
   "name": "python3"
  },
  "language_info": {
   "codemirror_mode": {
    "name": "ipython",
    "version": 3
   },
   "file_extension": ".py",
   "mimetype": "text/x-python",
   "name": "python",
   "nbconvert_exporter": "python",
   "pygments_lexer": "ipython3",
   "version": "3.7.11"
  }
 },
 "nbformat": 4,
 "nbformat_minor": 5
}

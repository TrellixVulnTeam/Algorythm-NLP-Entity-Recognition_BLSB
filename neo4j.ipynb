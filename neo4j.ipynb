{
 "cells": [
  {
   "cell_type": "code",
   "execution_count": 17,
   "id": "9492a50d",
   "metadata": {},
   "outputs": [],
   "source": [
    "from neo4j import GraphDatabase\n",
    "import pandas as pd\n",
    "import numpy as np\n",
    "from py2neo import Graph, Node, Relationship"
   ]
  },
  {
   "cell_type": "code",
   "execution_count": 26,
   "id": "20feae42",
   "metadata": {},
   "outputs": [],
   "source": [
    "uri = 'bolt://3.239.243.19:7687'\n",
    "pwd = 'chances-jelly-adjective'"
   ]
  },
  {
   "cell_type": "code",
   "execution_count": 20,
   "id": "6d4b7129",
   "metadata": {},
   "outputs": [],
   "source": [
    "graph = Graph(url, auth=('neo4j', pwd))\n"
   ]
  },
  {
   "cell_type": "code",
   "execution_count": 23,
   "id": "f8ec5613",
   "metadata": {},
   "outputs": [
    {
     "data": {
      "text/html": [
       "<div>\n",
       "<style scoped>\n",
       "    .dataframe tbody tr th:only-of-type {\n",
       "        vertical-align: middle;\n",
       "    }\n",
       "\n",
       "    .dataframe tbody tr th {\n",
       "        vertical-align: top;\n",
       "    }\n",
       "\n",
       "    .dataframe thead th {\n",
       "        text-align: right;\n",
       "    }\n",
       "</style>\n",
       "<table border=\"1\" class=\"dataframe\">\n",
       "  <thead>\n",
       "    <tr style=\"text-align: right;\">\n",
       "      <th></th>\n",
       "      <th>attacker</th>\n",
       "      <th>battle</th>\n",
       "      <th>defender</th>\n",
       "    </tr>\n",
       "  </thead>\n",
       "  <tbody>\n",
       "    <tr>\n",
       "      <th>0</th>\n",
       "      <td>Jaime Lannister</td>\n",
       "      <td>Battle of the Golden Tooth</td>\n",
       "      <td>Vance</td>\n",
       "    </tr>\n",
       "    <tr>\n",
       "      <th>1</th>\n",
       "      <td>Jaime Lannister</td>\n",
       "      <td>Battle of the Golden Tooth</td>\n",
       "      <td>Clement Piper</td>\n",
       "    </tr>\n",
       "    <tr>\n",
       "      <th>2</th>\n",
       "      <td>Gregor Clegane</td>\n",
       "      <td>Battle at the Mummer's Ford</td>\n",
       "      <td>Beric Dondarrion</td>\n",
       "    </tr>\n",
       "    <tr>\n",
       "      <th>3</th>\n",
       "      <td>Andros Brax</td>\n",
       "      <td>Battle of Riverrun</td>\n",
       "      <td>Tytos Blackwood</td>\n",
       "    </tr>\n",
       "    <tr>\n",
       "      <th>4</th>\n",
       "      <td>Jaime Lannister</td>\n",
       "      <td>Battle of Riverrun</td>\n",
       "      <td>Tytos Blackwood</td>\n",
       "    </tr>\n",
       "    <tr>\n",
       "      <th>5</th>\n",
       "      <td>Andros Brax</td>\n",
       "      <td>Battle of Riverrun</td>\n",
       "      <td>Edmure Tully</td>\n",
       "    </tr>\n",
       "    <tr>\n",
       "      <th>6</th>\n",
       "      <td>Jaime Lannister</td>\n",
       "      <td>Battle of Riverrun</td>\n",
       "      <td>Edmure Tully</td>\n",
       "    </tr>\n",
       "    <tr>\n",
       "      <th>7</th>\n",
       "      <td>Harrion Karstark</td>\n",
       "      <td>Battle of the Green Fork</td>\n",
       "      <td>Tywin Lannister</td>\n",
       "    </tr>\n",
       "    <tr>\n",
       "      <th>8</th>\n",
       "      <td>Medger Cerwyn</td>\n",
       "      <td>Battle of the Green Fork</td>\n",
       "      <td>Tywin Lannister</td>\n",
       "    </tr>\n",
       "    <tr>\n",
       "      <th>9</th>\n",
       "      <td>Roose Bolton</td>\n",
       "      <td>Battle of the Green Fork</td>\n",
       "      <td>Tywin Lannister</td>\n",
       "    </tr>\n",
       "  </tbody>\n",
       "</table>\n",
       "</div>"
      ],
      "text/plain": [
       "           attacker                       battle          defender\n",
       "0   Jaime Lannister   Battle of the Golden Tooth             Vance\n",
       "1   Jaime Lannister   Battle of the Golden Tooth     Clement Piper\n",
       "2    Gregor Clegane  Battle at the Mummer's Ford  Beric Dondarrion\n",
       "3       Andros Brax           Battle of Riverrun   Tytos Blackwood\n",
       "4   Jaime Lannister           Battle of Riverrun   Tytos Blackwood\n",
       "5       Andros Brax           Battle of Riverrun      Edmure Tully\n",
       "6   Jaime Lannister           Battle of Riverrun      Edmure Tully\n",
       "7  Harrion Karstark     Battle of the Green Fork   Tywin Lannister\n",
       "8     Medger Cerwyn     Battle of the Green Fork   Tywin Lannister\n",
       "9      Roose Bolton     Battle of the Green Fork   Tywin Lannister"
      ]
     },
     "execution_count": 23,
     "metadata": {},
     "output_type": "execute_result"
    }
   ],
   "source": [
    "query = \"\"\"\n",
    "    MATCH (p1:Person)-[:DEFENDER_COMMANDER]->(b:Battle)<-[:ATTACKER_COMMANDER]-(p2:Person)\n",
    "    RETURN p2.name AS attacker, b.name AS battle, p1.name AS defender LIMIT 10\n",
    "\"\"\"\n",
    "\n",
    "result_df = graph.query(query).to_data_frame()\n",
    "result_df.head(10)"
   ]
  },
  {
   "cell_type": "code",
   "execution_count": 27,
   "id": "b4039efb",
   "metadata": {},
   "outputs": [],
   "source": [
    "class Neo4jConnection:\n",
    "    \n",
    "    def __init__(self, uri, user, pwd):\n",
    "        \n",
    "        self.__uri = uri\n",
    "        self.__user = user\n",
    "        self.__pwd = pwd\n",
    "        self.__driver = None\n",
    "        \n",
    "        try:\n",
    "            self.__driver = GraphDatabase.driver(self.__uri, auth=(self.__user, self.__pwd))\n",
    "        except Exception as e:\n",
    "            print(\"Failed to create the driver:\", e)\n",
    "        \n",
    "    def close(self):\n",
    "        \n",
    "        if self.__driver is not None:\n",
    "            self.__driver.close()\n",
    "        \n",
    "    def query(self, query, parameters=None, db=None):\n",
    "        \n",
    "        assert self.__driver is not None, \"Driver not initialized!\"\n",
    "        session = None\n",
    "        response = None\n",
    "        \n",
    "        try: \n",
    "            session = self.__driver.session(database=db) if db is not None else self.__driver.session() \n",
    "            response = list(session.run(query, parameters))\n",
    "        except Exception as e:\n",
    "            print(\"Query failed:\", e)\n",
    "        finally: \n",
    "            if session is not None:\n",
    "                session.close()\n",
    "        return response"
   ]
  },
  {
   "cell_type": "code",
   "execution_count": 28,
   "id": "2ee5087e",
   "metadata": {},
   "outputs": [],
   "source": [
    "conn = Neo4jConnection(uri=uri, user='neo4j', pwd=pwd)\n"
   ]
  },
  {
   "cell_type": "code",
   "execution_count": 29,
   "id": "64cde7ea",
   "metadata": {},
   "outputs": [
    {
     "name": "stdout",
     "output_type": "stream",
     "text": [
      "[<Record ct=2644>]\n"
     ]
    }
   ],
   "source": [
    "result = conn.query('MATCH (n) RETURN COUNT(n) AS ct')\n",
    "print(result)"
   ]
  },
  {
   "cell_type": "code",
   "execution_count": null,
   "id": "f1d93986",
   "metadata": {},
   "outputs": [],
   "source": []
  }
 ],
 "metadata": {
  "kernelspec": {
   "display_name": "Python 3",
   "language": "python",
   "name": "python3"
  },
  "language_info": {
   "codemirror_mode": {
    "name": "ipython",
    "version": 3
   },
   "file_extension": ".py",
   "mimetype": "text/x-python",
   "name": "python",
   "nbconvert_exporter": "python",
   "pygments_lexer": "ipython3",
   "version": "3.8.8"
  }
 },
 "nbformat": 4,
 "nbformat_minor": 5
}

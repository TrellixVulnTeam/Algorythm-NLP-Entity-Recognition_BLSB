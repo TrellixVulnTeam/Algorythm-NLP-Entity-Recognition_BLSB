{
  "nbformat": 4,
  "nbformat_minor": 0,
  "metadata": {
    "colab": {
      "name": "Untitled1.ipynb",
      "provenance": []
    },
    "kernelspec": {
      "name": "python3",
      "display_name": "Python 3"
    },
    "language_info": {
      "name": "python"
    }
  },
  "cells": [
    {
      "cell_type": "code",
      "source": [
        "pip install py2neo"
      ],
      "metadata": {
        "colab": {
          "base_uri": "https://localhost:8080/"
        },
        "id": "LVhgIYNQyK6K",
        "outputId": "b2ec7702-6902-4d90-a235-80fc556389fe"
      },
      "execution_count": 4,
      "outputs": [
        {
          "output_type": "stream",
          "name": "stdout",
          "text": [
            "Collecting py2neo\n",
            "  Downloading py2neo-2021.2.3-py2.py3-none-any.whl (177 kB)\n",
            "\u001b[?25l\r\u001b[K     |█▉                              | 10 kB 24.8 MB/s eta 0:00:01\r\u001b[K     |███▊                            | 20 kB 14.5 MB/s eta 0:00:01\r\u001b[K     |█████▌                          | 30 kB 10.9 MB/s eta 0:00:01\r\u001b[K     |███████▍                        | 40 kB 9.3 MB/s eta 0:00:01\r\u001b[K     |█████████▎                      | 51 kB 5.7 MB/s eta 0:00:01\r\u001b[K     |███████████                     | 61 kB 5.7 MB/s eta 0:00:01\r\u001b[K     |█████████████                   | 71 kB 5.7 MB/s eta 0:00:01\r\u001b[K     |██████████████▉                 | 81 kB 6.4 MB/s eta 0:00:01\r\u001b[K     |████████████████▋               | 92 kB 5.0 MB/s eta 0:00:01\r\u001b[K     |██████████████████▌             | 102 kB 5.2 MB/s eta 0:00:01\r\u001b[K     |████████████████████▍           | 112 kB 5.2 MB/s eta 0:00:01\r\u001b[K     |██████████████████████▏         | 122 kB 5.2 MB/s eta 0:00:01\r\u001b[K     |████████████████████████        | 133 kB 5.2 MB/s eta 0:00:01\r\u001b[K     |██████████████████████████      | 143 kB 5.2 MB/s eta 0:00:01\r\u001b[K     |███████████████████████████▊    | 153 kB 5.2 MB/s eta 0:00:01\r\u001b[K     |█████████████████████████████▋  | 163 kB 5.2 MB/s eta 0:00:01\r\u001b[K     |███████████████████████████████▌| 174 kB 5.2 MB/s eta 0:00:01\r\u001b[K     |████████████████████████████████| 177 kB 5.2 MB/s \n",
            "\u001b[?25hCollecting interchange~=2021.0.4\n",
            "  Downloading interchange-2021.0.4-py2.py3-none-any.whl (28 kB)\n",
            "Requirement already satisfied: certifi in /usr/local/lib/python3.7/dist-packages (from py2neo) (2021.10.8)\n",
            "Requirement already satisfied: six>=1.15.0 in /usr/local/lib/python3.7/dist-packages (from py2neo) (1.15.0)\n",
            "Collecting pansi>=2020.7.3\n",
            "  Downloading pansi-2020.7.3-py2.py3-none-any.whl (10 kB)\n",
            "Requirement already satisfied: packaging in /usr/local/lib/python3.7/dist-packages (from py2neo) (21.3)\n",
            "Requirement already satisfied: pygments>=2.0.0 in /usr/local/lib/python3.7/dist-packages (from py2neo) (2.6.1)\n",
            "Requirement already satisfied: urllib3 in /usr/local/lib/python3.7/dist-packages (from py2neo) (1.24.3)\n",
            "Collecting monotonic\n",
            "  Downloading monotonic-1.6-py2.py3-none-any.whl (8.2 kB)\n",
            "Requirement already satisfied: pytz in /usr/local/lib/python3.7/dist-packages (from interchange~=2021.0.4->py2neo) (2018.9)\n",
            "Requirement already satisfied: pyparsing!=3.0.5,>=2.0.2 in /usr/local/lib/python3.7/dist-packages (from packaging->py2neo) (3.0.6)\n",
            "Installing collected packages: pansi, monotonic, interchange, py2neo\n",
            "Successfully installed interchange-2021.0.4 monotonic-1.6 pansi-2020.7.3 py2neo-2021.2.3\n"
          ]
        }
      ]
    },
    {
      "cell_type": "code",
      "execution_count": 5,
      "metadata": {
        "id": "UAhWIJnWgLzu"
      },
      "outputs": [],
      "source": [
        "from neo4j import GraphDatabase\n",
        "import pandas as pd\n",
        "import numpy as np\n",
        "from py2neo import Graph, Node, Relationship"
      ]
    },
    {
      "cell_type": "code",
      "source": [
        "uri = 'bolt://35.175.116.172:7687'\n",
        "pwd = 'alternation-pyramid-semiconductor'\n",
        "user = 'neo4j'"
      ],
      "metadata": {
        "id": "QLZ4tmI5gTyy"
      },
      "execution_count": 6,
      "outputs": []
    },
    {
      "cell_type": "code",
      "source": [
        "class Neo4jConnection:\n",
        "    \n",
        "    def __init__(self, uri, user, pwd):\n",
        "        \n",
        "        self.__uri = uri\n",
        "        self.__user = user\n",
        "        self.__pwd = pwd\n",
        "        self.__driver = None\n",
        "        \n",
        "        try:\n",
        "            self.__driver = GraphDatabase.driver(self.__uri, auth=(self.__user, self.__pwd))\n",
        "        except Exception as e:\n",
        "            print(\"Failed to create the driver:\", e)\n",
        "        \n",
        "    def close(self):\n",
        "        \n",
        "        if self.__driver is not None:\n",
        "            self.__driver.close()\n",
        "        \n",
        "    def query(self, query, parameters=None, db=None):\n",
        "        \n",
        "        assert self.__driver is not None, \"Driver not initialized!\"\n",
        "        session = None\n",
        "        response = None\n",
        "        \n",
        "        try: \n",
        "            session = self.__driver.session(database=db) if db is not None else self.__driver.session() \n",
        "            response = list(session.run(query, parameters))\n",
        "        except Exception as e:\n",
        "            print(\"Query failed:\", e)\n",
        "        finally: \n",
        "            if session is not None:\n",
        "                session.close()\n",
        "        return response"
      ],
      "metadata": {
        "id": "0OTKuprWhNFW"
      },
      "execution_count": 7,
      "outputs": []
    },
    {
      "cell_type": "code",
      "source": [
        "conn = Neo4jConnection(uri=uri, user= user, pwd=pwd)\n"
      ],
      "metadata": {
        "id": "MVfz1l7VgT_p"
      },
      "execution_count": 8,
      "outputs": []
    },
    {
      "cell_type": "code",
      "source": [
        "result = conn.query('MATCH (n) RETURN COUNT(n) AS ct')\n",
        "print(result)"
      ],
      "metadata": {
        "id": "AGzRpicQgUG7",
        "colab": {
          "base_uri": "https://localhost:8080/"
        },
        "outputId": "0de307c9-ee12-4371-bff9-bb5541312135"
      },
      "execution_count": 9,
      "outputs": [
        {
          "output_type": "stream",
          "name": "stdout",
          "text": [
            "[<Record ct=10>]\n"
          ]
        }
      ]
    },
    {
      "cell_type": "code",
      "source": [
        "visual = conn.query('MATCH (n) RETURN n')\n",
        "visual"
      ],
      "metadata": {
        "id": "FLQ2vdT-gUNO",
        "colab": {
          "base_uri": "https://localhost:8080/"
        },
        "outputId": "a63a6fec-477c-44f5-a61a-fd6d30bca74e"
      },
      "execution_count": 12,
      "outputs": [
        {
          "output_type": "execute_result",
          "data": {
            "text/plain": [
              "[<Record n=<Node id=0 labels=frozenset({'SOURCE'}) properties={'name': 'June year  forecast'}>>,\n",
              " <Record n=<Node id=1 labels=frozenset({'SOURCE'}) properties={'name': 'two Paul Keating'}>>,\n",
              " <Record n=<Node id=2 labels=frozenset({'SOURCE'}) properties={'name': 'annual  Keating'}>>,\n",
              " <Record n=<Node id=3 labels=frozenset({'SOURCE'}) properties={'name': 'kind World War Keating'}>>,\n",
              " <Record n=<Node id=4 labels=frozenset({'SOURCE'}) properties={'name': 'Australia'}>>,\n",
              " <Record n=<Node id=5 labels=frozenset({'TARGET'}) properties={'name': '87  budget'}>>,\n",
              " <Record n=<Node id=6 labels=frozenset({'TARGET'}) properties={'name': 'two  Parliament'}>>,\n",
              " <Record n=<Node id=7 labels=frozenset({'TARGET'}) properties={'name': 'figures'}>>,\n",
              " <Record n=<Node id=8 labels=frozenset({'TARGET'}) properties={'name': 'Australia trading holocaust'}>>,\n",
              " <Record n=<Node id=9 labels=frozenset({'TARGET'}) properties={'name': 'recession'}>>]"
            ]
          },
          "metadata": {},
          "execution_count": 12
        }
      ]
    },
    {
      "cell_type": "code",
      "source": [
        "allRelations = conn.query('MATCH ()-->() RETURN count(*);')     \n",
        "allRelations\n"
      ],
      "metadata": {
        "colab": {
          "base_uri": "https://localhost:8080/"
        },
        "id": "-5nObmSWzlHi",
        "outputId": "181a9774-145c-467a-8154-ba02271178c0"
      },
      "execution_count": 13,
      "outputs": [
        {
          "output_type": "execute_result",
          "data": {
            "text/plain": [
              "[<Record count(*)=5>]"
            ]
          },
          "metadata": {},
          "execution_count": 13
        }
      ]
    }
  ]
}
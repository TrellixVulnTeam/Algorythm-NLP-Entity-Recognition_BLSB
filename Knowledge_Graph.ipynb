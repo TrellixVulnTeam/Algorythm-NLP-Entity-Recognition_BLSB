{
  "nbformat": 4,
  "nbformat_minor": 0,
  "metadata": {
    "colab": {
      "name": "Knowledge_Graph.ipynb",
      "provenance": [],
      "collapsed_sections": [],
      "include_colab_link": true
    },
    "kernelspec": {
      "display_name": "Python 3",
      "name": "python3"
    }
  },
  "cells": [
    {
      "cell_type": "markdown",
      "metadata": {
        "id": "view-in-github",
        "colab_type": "text"
      },
      "source": [
        "<a href=\"https://colab.research.google.com/github/yusufakcakaya/Algorythm-NLP-Entity-Recognition/blob/Nichelle/Knowledge_Graph.ipynb\" target=\"_parent\"><img src=\"https://colab.research.google.com/assets/colab-badge.svg\" alt=\"Open In Colab\"/></a>"
      ]
    },
    {
      "cell_type": "markdown",
      "metadata": {
        "id": "tx8LS_eAPlzD"
      },
      "source": [
        "Here , we have implemented a knowledge graph from a WikiPedia actors dataset.\n",
        "The article by [1] becominghuman.ai and [2] analyticsvidya and has been heavily referred for this. But we have made improvements in the form of :\n",
        "1. Separating a text into sentences using spacy's sentencizer.\n",
        "2. Saving it into a dataframe.\n",
        "1. Data Preprocessing - Removed punctuations , stop words\n",
        "2. Named Entity Recognition - This has helped in constructing a more meaningful graph with less noise.\n"
      ]
    },
    {
      "cell_type": "code",
      "metadata": {
        "id": "Wl_oXLUrctJR"
      },
      "source": [
        "import re\n",
        "import pandas as pd\n",
        "import spacy\n",
        "from tqdm import tqdm\n",
        "# Load English tokenizer, tagger, parser, NER and word vectors\n",
        "nlp = spacy.load(\"en_core_web_sm\")\n",
        "from spacy.matcher import Matcher\n",
        "import networkx as nx\n",
        "import matplotlib.pyplot as plt\n",
        "import nltk\n",
        "from nltk.tokenize import word_tokenize\n",
        "from nltk.corpus import stopwords\n",
        "import re\n",
        "import string \n",
        "tqdm._instances.clear()"
      ],
      "execution_count": 157,
      "outputs": []
    },
    {
      "cell_type": "code",
      "source": [
        "#  text = 'The implementation of the French \"pass sanitaire\" (health pass) in the summer of 2021 is estimated to have saved nearly 4,000 lives in France, shows a recent study by the Conseil d’analyse économique (CAE). Health passes and vaccination certificates remain the subject of discussion (in Belgium too), but independent scientists from various universities and institutes found that France’s sudden implementation of the pass not only saved thousands of lives but also saved €6 billion for the country’s economy.After France had already imposed strict measures (such as a 18:00 curfew), it was among the first European countries to require its ‘pass sanitaire’ to gain access to bars and restaurants. From August, it became mandatory for large shopping centres, cultural venues and long bus and train journeys. Immediately after French President Emmanuel Macron announced on 12 July 2021 that the ‘pass sanitaire’ would be made mandatory to enter bars, restaurants and museums, vaccination appointments surged as almost a million first shots were booked the next day. Now, as the country tightened its rules again by replacing its “health pass” with a “vaccination pass,” the Conseil d’analyse économique published a study, which has not yet been peer-reviewed, to show the impact of the ‘pass sanitaire,’ focused on vaccination coverage, hospitalisations and deaths due to Covid-19, as well as its economic consequences.'"
      ],
      "metadata": {
        "id": "DAgj251GIxtf"
      },
      "execution_count": 152,
      "outputs": []
    },
    {
      "cell_type": "code",
      "source": [
        "# from spacy.lang.en import English\n",
        "\n",
        "# nlp = English()  # just the language with no model\n",
        "# sentencizer = nlp.create_pipe(\"sentencizer\")\n",
        "# nlp.add_pipe(sentencizer)\n",
        "# sent = [sent.text for sent in nlp(text).sents]\n",
        "# sent"
      ],
      "metadata": {
        "colab": {
          "base_uri": "https://localhost:8080/"
        },
        "id": "BNdB8wj-JRbf",
        "outputId": "88cc58ee-9729-4557-d94a-a023033d093b"
      },
      "execution_count": 153,
      "outputs": [
        {
          "output_type": "execute_result",
          "data": {
            "text/plain": [
              "['The implementation of the French \"pass sanitaire\" (health pass) in the summer of 2021 is estimated to have saved nearly 4,000 lives in France, shows a recent study by the Conseil d’analyse économique (CAE).',\n",
              " 'Health passes and vaccination certificates remain the subject of discussion (in Belgium too), but independent scientists from various universities and institutes found that France’s sudden implementation of the pass not only saved thousands of lives but also saved €6 billion for the country’s economy.',\n",
              " 'After France had already imposed strict measures (such as a 18:00 curfew), it was among the first European countries to require its ‘pass sanitaire’ to gain access to bars and restaurants.',\n",
              " 'From August, it became mandatory for large shopping centres, cultural venues and long bus and train journeys.',\n",
              " 'Immediately after French President Emmanuel Macron announced on 12 July 2021 that the ‘pass sanitaire’ would be made mandatory to enter bars, restaurants and museums, vaccination appointments surged as almost a million first shots were booked the next day.',\n",
              " 'Now, as the country tightened its rules again by replacing its “health pass” with a “vaccination pass,” the Conseil d’analyse économique published a study, which has not yet been peer-reviewed, to show the impact of the ‘pass sanitaire,’ focused on vaccination coverage, hospitalisations and deaths due to Covid-19, as well as its economic consequences.']"
            ]
          },
          "metadata": {},
          "execution_count": 153
        }
      ]
    },
    {
      "cell_type": "code",
      "source": [
        "# import pandas as pd\n",
        "\n",
        "# df1= pd.DataFrame(columns=[\"sentence\"])\n",
        "\n",
        "# df1 = df1.append(\n",
        "#         [{'sentence' : sent.text} for sent in nlp(text).sents],\n",
        "#         ignore_index=True\n",
        "#     )\n",
        "# df1"
      ],
      "metadata": {
        "colab": {
          "base_uri": "https://localhost:8080/",
          "height": 238
        },
        "id": "Nlyte97-JSZt",
        "outputId": "e112b05d-c11a-4839-f033-7961891e058f"
      },
      "execution_count": 154,
      "outputs": [
        {
          "output_type": "execute_result",
          "data": {
            "text/html": [
              "\n",
              "  <div id=\"df-70c3ea89-be98-45cc-a5df-56b0f0f95dcb\">\n",
              "    <div class=\"colab-df-container\">\n",
              "      <div>\n",
              "<style scoped>\n",
              "    .dataframe tbody tr th:only-of-type {\n",
              "        vertical-align: middle;\n",
              "    }\n",
              "\n",
              "    .dataframe tbody tr th {\n",
              "        vertical-align: top;\n",
              "    }\n",
              "\n",
              "    .dataframe thead th {\n",
              "        text-align: right;\n",
              "    }\n",
              "</style>\n",
              "<table border=\"1\" class=\"dataframe\">\n",
              "  <thead>\n",
              "    <tr style=\"text-align: right;\">\n",
              "      <th></th>\n",
              "      <th>sentence</th>\n",
              "    </tr>\n",
              "  </thead>\n",
              "  <tbody>\n",
              "    <tr>\n",
              "      <th>0</th>\n",
              "      <td>The implementation of the French \"pass sanitai...</td>\n",
              "    </tr>\n",
              "    <tr>\n",
              "      <th>1</th>\n",
              "      <td>Health passes and vaccination certificates rem...</td>\n",
              "    </tr>\n",
              "    <tr>\n",
              "      <th>2</th>\n",
              "      <td>After France had already imposed strict measur...</td>\n",
              "    </tr>\n",
              "    <tr>\n",
              "      <th>3</th>\n",
              "      <td>From August, it became mandatory for large sho...</td>\n",
              "    </tr>\n",
              "    <tr>\n",
              "      <th>4</th>\n",
              "      <td>Immediately after French President Emmanuel Ma...</td>\n",
              "    </tr>\n",
              "    <tr>\n",
              "      <th>5</th>\n",
              "      <td>Now, as the country tightened its rules again ...</td>\n",
              "    </tr>\n",
              "  </tbody>\n",
              "</table>\n",
              "</div>\n",
              "      <button class=\"colab-df-convert\" onclick=\"convertToInteractive('df-70c3ea89-be98-45cc-a5df-56b0f0f95dcb')\"\n",
              "              title=\"Convert this dataframe to an interactive table.\"\n",
              "              style=\"display:none;\">\n",
              "        \n",
              "  <svg xmlns=\"http://www.w3.org/2000/svg\" height=\"24px\"viewBox=\"0 0 24 24\"\n",
              "       width=\"24px\">\n",
              "    <path d=\"M0 0h24v24H0V0z\" fill=\"none\"/>\n",
              "    <path d=\"M18.56 5.44l.94 2.06.94-2.06 2.06-.94-2.06-.94-.94-2.06-.94 2.06-2.06.94zm-11 1L8.5 8.5l.94-2.06 2.06-.94-2.06-.94L8.5 2.5l-.94 2.06-2.06.94zm10 10l.94 2.06.94-2.06 2.06-.94-2.06-.94-.94-2.06-.94 2.06-2.06.94z\"/><path d=\"M17.41 7.96l-1.37-1.37c-.4-.4-.92-.59-1.43-.59-.52 0-1.04.2-1.43.59L10.3 9.45l-7.72 7.72c-.78.78-.78 2.05 0 2.83L4 21.41c.39.39.9.59 1.41.59.51 0 1.02-.2 1.41-.59l7.78-7.78 2.81-2.81c.8-.78.8-2.07 0-2.86zM5.41 20L4 18.59l7.72-7.72 1.47 1.35L5.41 20z\"/>\n",
              "  </svg>\n",
              "      </button>\n",
              "      \n",
              "  <style>\n",
              "    .colab-df-container {\n",
              "      display:flex;\n",
              "      flex-wrap:wrap;\n",
              "      gap: 12px;\n",
              "    }\n",
              "\n",
              "    .colab-df-convert {\n",
              "      background-color: #E8F0FE;\n",
              "      border: none;\n",
              "      border-radius: 50%;\n",
              "      cursor: pointer;\n",
              "      display: none;\n",
              "      fill: #1967D2;\n",
              "      height: 32px;\n",
              "      padding: 0 0 0 0;\n",
              "      width: 32px;\n",
              "    }\n",
              "\n",
              "    .colab-df-convert:hover {\n",
              "      background-color: #E2EBFA;\n",
              "      box-shadow: 0px 1px 2px rgba(60, 64, 67, 0.3), 0px 1px 3px 1px rgba(60, 64, 67, 0.15);\n",
              "      fill: #174EA6;\n",
              "    }\n",
              "\n",
              "    [theme=dark] .colab-df-convert {\n",
              "      background-color: #3B4455;\n",
              "      fill: #D2E3FC;\n",
              "    }\n",
              "\n",
              "    [theme=dark] .colab-df-convert:hover {\n",
              "      background-color: #434B5C;\n",
              "      box-shadow: 0px 1px 3px 1px rgba(0, 0, 0, 0.15);\n",
              "      filter: drop-shadow(0px 1px 2px rgba(0, 0, 0, 0.3));\n",
              "      fill: #FFFFFF;\n",
              "    }\n",
              "  </style>\n",
              "\n",
              "      <script>\n",
              "        const buttonEl =\n",
              "          document.querySelector('#df-70c3ea89-be98-45cc-a5df-56b0f0f95dcb button.colab-df-convert');\n",
              "        buttonEl.style.display =\n",
              "          google.colab.kernel.accessAllowed ? 'block' : 'none';\n",
              "\n",
              "        async function convertToInteractive(key) {\n",
              "          const element = document.querySelector('#df-70c3ea89-be98-45cc-a5df-56b0f0f95dcb');\n",
              "          const dataTable =\n",
              "            await google.colab.kernel.invokeFunction('convertToInteractive',\n",
              "                                                     [key], {});\n",
              "          if (!dataTable) return;\n",
              "\n",
              "          const docLinkHtml = 'Like what you see? Visit the ' +\n",
              "            '<a target=\"_blank\" href=https://colab.research.google.com/notebooks/data_table.ipynb>data table notebook</a>'\n",
              "            + ' to learn more about interactive tables.';\n",
              "          element.innerHTML = '';\n",
              "          dataTable['output_type'] = 'display_data';\n",
              "          await google.colab.output.renderOutput(dataTable, element);\n",
              "          const docLink = document.createElement('div');\n",
              "          docLink.innerHTML = docLinkHtml;\n",
              "          element.appendChild(docLink);\n",
              "        }\n",
              "      </script>\n",
              "    </div>\n",
              "  </div>\n",
              "  "
            ],
            "text/plain": [
              "                                            sentence\n",
              "0  The implementation of the French \"pass sanitai...\n",
              "1  Health passes and vaccination certificates rem...\n",
              "2  After France had already imposed strict measur...\n",
              "3  From August, it became mandatory for large sho...\n",
              "4  Immediately after French President Emmanuel Ma...\n",
              "5  Now, as the country tightened its rules again ..."
            ]
          },
          "metadata": {},
          "execution_count": 154
        }
      ]
    },
    {
      "cell_type": "code",
      "source": [
        "# df1.to_csv('Data_1.csv')"
      ],
      "metadata": {
        "id": "EbSjfsQ2JShQ"
      },
      "execution_count": 155,
      "outputs": []
    },
    {
      "cell_type": "code",
      "source": [
        "# from google.colab import files\n",
        "# files.download(\"Data_1.csv\")"
      ],
      "metadata": {
        "colab": {
          "base_uri": "https://localhost:8080/",
          "height": 17
        },
        "id": "hHG9_KjgJuKV",
        "outputId": "0fce1155-42d6-4d66-ee5c-7b2bd4c51e19"
      },
      "execution_count": 156,
      "outputs": [
        {
          "output_type": "display_data",
          "data": {
            "application/javascript": [
              "\n",
              "    async function download(id, filename, size) {\n",
              "      if (!google.colab.kernel.accessAllowed) {\n",
              "        return;\n",
              "      }\n",
              "      const div = document.createElement('div');\n",
              "      const label = document.createElement('label');\n",
              "      label.textContent = `Downloading \"${filename}\": `;\n",
              "      div.appendChild(label);\n",
              "      const progress = document.createElement('progress');\n",
              "      progress.max = size;\n",
              "      div.appendChild(progress);\n",
              "      document.body.appendChild(div);\n",
              "\n",
              "      const buffers = [];\n",
              "      let downloaded = 0;\n",
              "\n",
              "      const channel = await google.colab.kernel.comms.open(id);\n",
              "      // Send a message to notify the kernel that we're ready.\n",
              "      channel.send({})\n",
              "\n",
              "      for await (const message of channel.messages) {\n",
              "        // Send a message to notify the kernel that we're ready.\n",
              "        channel.send({})\n",
              "        if (message.buffers) {\n",
              "          for (const buffer of message.buffers) {\n",
              "            buffers.push(buffer);\n",
              "            downloaded += buffer.byteLength;\n",
              "            progress.value = downloaded;\n",
              "          }\n",
              "        }\n",
              "      }\n",
              "      const blob = new Blob(buffers, {type: 'application/binary'});\n",
              "      const a = document.createElement('a');\n",
              "      a.href = window.URL.createObjectURL(blob);\n",
              "      a.download = filename;\n",
              "      div.appendChild(a);\n",
              "      a.click();\n",
              "      div.remove();\n",
              "    }\n",
              "  "
            ],
            "text/plain": [
              "<IPython.core.display.Javascript object>"
            ]
          },
          "metadata": {}
        },
        {
          "output_type": "display_data",
          "data": {
            "application/javascript": [
              "download(\"download_3957ddfd-bf6d-409e-b022-e44d8dbe25f2\", \"Data_1.csv\", 1488)"
            ],
            "text/plain": [
              "<IPython.core.display.Javascript object>"
            ]
          },
          "metadata": {}
        }
      ]
    },
    {
      "cell_type": "code",
      "metadata": {
        "id": "SJJjAdICeGY-",
        "colab": {
          "base_uri": "https://localhost:8080/",
          "resources": {
            "http://localhost:8080/nbextensions/google.colab/files.js": {
              "data": "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",
              "ok": true,
              "headers": [
                [
                  "content-type",
                  "application/javascript"
                ]
              ],
              "status": 200,
              "status_text": ""
            }
          },
          "height": 74
        },
        "outputId": "f092bea8-e4a7-4856-90d2-4584c7e3ac83"
      },
      "source": [
        "from google.colab import files\n",
        "uploaded = files.upload()"
      ],
      "execution_count": 158,
      "outputs": [
        {
          "output_type": "display_data",
          "data": {
            "text/html": [
              "\n",
              "     <input type=\"file\" id=\"files-a80e0d87-633a-4516-a673-678fda9d29e3\" name=\"files[]\" multiple disabled\n",
              "        style=\"border:none\" />\n",
              "     <output id=\"result-a80e0d87-633a-4516-a673-678fda9d29e3\">\n",
              "      Upload widget is only available when the cell has been executed in the\n",
              "      current browser session. Please rerun this cell to enable.\n",
              "      </output>\n",
              "      <script src=\"/nbextensions/google.colab/files.js\"></script> "
            ],
            "text/plain": [
              "<IPython.core.display.HTML object>"
            ]
          },
          "metadata": {}
        },
        {
          "output_type": "stream",
          "name": "stdout",
          "text": [
            "Saving Data_1.csv to Data_1 (3).csv\n"
          ]
        }
      ]
    },
    {
      "cell_type": "code",
      "metadata": {
        "id": "6QECG7SGe_kL"
      },
      "source": [
        "import io\n",
        "sentences = pd.read_csv(io.BytesIO(uploaded['Data_1.csv']))"
      ],
      "execution_count": 159,
      "outputs": []
    },
    {
      "cell_type": "code",
      "metadata": {
        "colab": {
          "base_uri": "https://localhost:8080/",
          "height": 206
        },
        "id": "1uXGVgitnjKN",
        "outputId": "d9ec68bf-010a-4f7f-a1f8-8ad5227df9cd"
      },
      "source": [
        "sentences.head()"
      ],
      "execution_count": 160,
      "outputs": [
        {
          "output_type": "execute_result",
          "data": {
            "text/html": [
              "\n",
              "  <div id=\"df-889e6964-d0f6-4a1f-a03a-015abfe62509\">\n",
              "    <div class=\"colab-df-container\">\n",
              "      <div>\n",
              "<style scoped>\n",
              "    .dataframe tbody tr th:only-of-type {\n",
              "        vertical-align: middle;\n",
              "    }\n",
              "\n",
              "    .dataframe tbody tr th {\n",
              "        vertical-align: top;\n",
              "    }\n",
              "\n",
              "    .dataframe thead th {\n",
              "        text-align: right;\n",
              "    }\n",
              "</style>\n",
              "<table border=\"1\" class=\"dataframe\">\n",
              "  <thead>\n",
              "    <tr style=\"text-align: right;\">\n",
              "      <th></th>\n",
              "      <th>Unnamed: 0</th>\n",
              "      <th>sentence</th>\n",
              "    </tr>\n",
              "  </thead>\n",
              "  <tbody>\n",
              "    <tr>\n",
              "      <th>0</th>\n",
              "      <td>0</td>\n",
              "      <td>The implementation of the French \"pass sanitai...</td>\n",
              "    </tr>\n",
              "    <tr>\n",
              "      <th>1</th>\n",
              "      <td>1</td>\n",
              "      <td>Health passes and vaccination certificates rem...</td>\n",
              "    </tr>\n",
              "    <tr>\n",
              "      <th>2</th>\n",
              "      <td>2</td>\n",
              "      <td>After France had already imposed strict measur...</td>\n",
              "    </tr>\n",
              "    <tr>\n",
              "      <th>3</th>\n",
              "      <td>3</td>\n",
              "      <td>From August, it became mandatory for large sho...</td>\n",
              "    </tr>\n",
              "    <tr>\n",
              "      <th>4</th>\n",
              "      <td>4</td>\n",
              "      <td>Immediately after French President Emmanuel Ma...</td>\n",
              "    </tr>\n",
              "  </tbody>\n",
              "</table>\n",
              "</div>\n",
              "      <button class=\"colab-df-convert\" onclick=\"convertToInteractive('df-889e6964-d0f6-4a1f-a03a-015abfe62509')\"\n",
              "              title=\"Convert this dataframe to an interactive table.\"\n",
              "              style=\"display:none;\">\n",
              "        \n",
              "  <svg xmlns=\"http://www.w3.org/2000/svg\" height=\"24px\"viewBox=\"0 0 24 24\"\n",
              "       width=\"24px\">\n",
              "    <path d=\"M0 0h24v24H0V0z\" fill=\"none\"/>\n",
              "    <path d=\"M18.56 5.44l.94 2.06.94-2.06 2.06-.94-2.06-.94-.94-2.06-.94 2.06-2.06.94zm-11 1L8.5 8.5l.94-2.06 2.06-.94-2.06-.94L8.5 2.5l-.94 2.06-2.06.94zm10 10l.94 2.06.94-2.06 2.06-.94-2.06-.94-.94-2.06-.94 2.06-2.06.94z\"/><path d=\"M17.41 7.96l-1.37-1.37c-.4-.4-.92-.59-1.43-.59-.52 0-1.04.2-1.43.59L10.3 9.45l-7.72 7.72c-.78.78-.78 2.05 0 2.83L4 21.41c.39.39.9.59 1.41.59.51 0 1.02-.2 1.41-.59l7.78-7.78 2.81-2.81c.8-.78.8-2.07 0-2.86zM5.41 20L4 18.59l7.72-7.72 1.47 1.35L5.41 20z\"/>\n",
              "  </svg>\n",
              "      </button>\n",
              "      \n",
              "  <style>\n",
              "    .colab-df-container {\n",
              "      display:flex;\n",
              "      flex-wrap:wrap;\n",
              "      gap: 12px;\n",
              "    }\n",
              "\n",
              "    .colab-df-convert {\n",
              "      background-color: #E8F0FE;\n",
              "      border: none;\n",
              "      border-radius: 50%;\n",
              "      cursor: pointer;\n",
              "      display: none;\n",
              "      fill: #1967D2;\n",
              "      height: 32px;\n",
              "      padding: 0 0 0 0;\n",
              "      width: 32px;\n",
              "    }\n",
              "\n",
              "    .colab-df-convert:hover {\n",
              "      background-color: #E2EBFA;\n",
              "      box-shadow: 0px 1px 2px rgba(60, 64, 67, 0.3), 0px 1px 3px 1px rgba(60, 64, 67, 0.15);\n",
              "      fill: #174EA6;\n",
              "    }\n",
              "\n",
              "    [theme=dark] .colab-df-convert {\n",
              "      background-color: #3B4455;\n",
              "      fill: #D2E3FC;\n",
              "    }\n",
              "\n",
              "    [theme=dark] .colab-df-convert:hover {\n",
              "      background-color: #434B5C;\n",
              "      box-shadow: 0px 1px 3px 1px rgba(0, 0, 0, 0.15);\n",
              "      filter: drop-shadow(0px 1px 2px rgba(0, 0, 0, 0.3));\n",
              "      fill: #FFFFFF;\n",
              "    }\n",
              "  </style>\n",
              "\n",
              "      <script>\n",
              "        const buttonEl =\n",
              "          document.querySelector('#df-889e6964-d0f6-4a1f-a03a-015abfe62509 button.colab-df-convert');\n",
              "        buttonEl.style.display =\n",
              "          google.colab.kernel.accessAllowed ? 'block' : 'none';\n",
              "\n",
              "        async function convertToInteractive(key) {\n",
              "          const element = document.querySelector('#df-889e6964-d0f6-4a1f-a03a-015abfe62509');\n",
              "          const dataTable =\n",
              "            await google.colab.kernel.invokeFunction('convertToInteractive',\n",
              "                                                     [key], {});\n",
              "          if (!dataTable) return;\n",
              "\n",
              "          const docLinkHtml = 'Like what you see? Visit the ' +\n",
              "            '<a target=\"_blank\" href=https://colab.research.google.com/notebooks/data_table.ipynb>data table notebook</a>'\n",
              "            + ' to learn more about interactive tables.';\n",
              "          element.innerHTML = '';\n",
              "          dataTable['output_type'] = 'display_data';\n",
              "          await google.colab.output.renderOutput(dataTable, element);\n",
              "          const docLink = document.createElement('div');\n",
              "          docLink.innerHTML = docLinkHtml;\n",
              "          element.appendChild(docLink);\n",
              "        }\n",
              "      </script>\n",
              "    </div>\n",
              "  </div>\n",
              "  "
            ],
            "text/plain": [
              "   Unnamed: 0                                           sentence\n",
              "0           0  The implementation of the French \"pass sanitai...\n",
              "1           1  Health passes and vaccination certificates rem...\n",
              "2           2  After France had already imposed strict measur...\n",
              "3           3  From August, it became mandatory for large sho...\n",
              "4           4  Immediately after French President Emmanuel Ma..."
            ]
          },
          "metadata": {},
          "execution_count": 160
        }
      ]
    },
    {
      "cell_type": "markdown",
      "metadata": {
        "id": "XiF48BhCh0ef"
      },
      "source": [
        "**Entity Pairs Extraction Function**"
      ]
    },
    {
      "cell_type": "code",
      "metadata": {
        "id": "SWfQjbjxhzsJ"
      },
      "source": [
        "def get_entity(sent):\n",
        "  ent1 = \"\" #subject entity\n",
        "  ent2 = \"\" #object entity\n",
        "\n",
        "  prev_token_text = \"\" #text from previous token\n",
        "  prev_token_dep = \"\"  #depedency from previous token\n",
        "\n",
        "  prefix = \"\"\n",
        "  modifier = \"\"\n",
        "\n",
        "  for tok in nlp(sent):\n",
        "    #Go in only if it is not a punctuation, else next word\n",
        "    if tok.dep_ != \"punct\":\n",
        "      # Check if token is a compund word\n",
        "      if tok.dep_ == \"compound\":\n",
        "        prefix = tok.text\n",
        "        #Check if previous token is also a compound\n",
        "        if prev_token_dep == \"compound\":\n",
        "          prefix = prev_token_text + \" \"+ prefix\n",
        "\n",
        "      #Check if token is a modifier or not\n",
        "      if tok.dep_.endswith(\"mod\")==True:\n",
        "        modifier = tok.text \n",
        "          #Check if previous token is a compound\n",
        "        if prev_token_dep == \"compound\":\n",
        "          modifier = prev_token_text + \" \" + tok.text\n",
        "\n",
        "      #Checking if subject\n",
        "      if tok.dep_.find(\"subj\") == True:\n",
        "        ent1 =modifier+ \" \" + prefix + \" \" + tok.text\n",
        "        prefix = \"\"\n",
        "        modifer = \"\"\n",
        "        prev_token_dep = \"\"\n",
        "        prev_token_text = \"\"\n",
        "      #Checking if object\n",
        "      if tok.dep_.find(\"obj\") == True:\n",
        "        ent2 =modifier+ \" \" + prefix + \" \" + tok.text\n",
        "        \n",
        "\n",
        "      #Update variables\n",
        "      prev_token_text = tok.text\n",
        "      prev_token_dep = tok.dep_\n",
        "\n",
        "      ############################\n",
        "  return [ent1.strip(), ent2.strip()]    "
      ],
      "execution_count": 184,
      "outputs": []
    },
    {
      "cell_type": "markdown",
      "metadata": {
        "id": "LsBHlYACs5zK"
      },
      "source": [
        "Now lets obtain entity pairs from a sentence"
      ]
    },
    {
      "cell_type": "code",
      "metadata": {
        "colab": {
          "base_uri": "https://localhost:8080/"
        },
        "id": "wNz-ePkwtDY8",
        "outputId": "60cf6037-d715-49d3-f539-a8cd3c914d57"
      },
      "source": [
        "[ent1,ent2] = get_entity(\"Paul keating is an economic forecaster from Australia\")\n",
        "print(\"Subj : {a}, obj : {b}\".format(a = ent1, b = ent2))\n",
        "get_entity(\"Paul keating is from Australia\")"
      ],
      "execution_count": 179,
      "outputs": [
        {
          "output_type": "stream",
          "name": "stdout",
          "text": [
            "Subj : keating, obj : economic  Australia\n"
          ]
        },
        {
          "output_type": "execute_result",
          "data": {
            "text/plain": [
              "['keating', 'Australia']"
            ]
          },
          "metadata": {},
          "execution_count": 179
        }
      ]
    },
    {
      "cell_type": "code",
      "metadata": {
        "colab": {
          "base_uri": "https://localhost:8080/"
        },
        "id": "X67p-V-pJI2o",
        "outputId": "0f52e16b-41f6-420b-a7d4-435a156f3f8e"
      },
      "source": [
        "entity_pairs = []\n",
        "for i in tqdm(sentences['sentence']):\n",
        "  entity_pairs.append(get_entity(i))\n",
        "tqdm._instances.clear()\n",
        "entity_pairs"
      ],
      "execution_count": 180,
      "outputs": [
        {
          "output_type": "stream",
          "name": "stderr",
          "text": [
            "100%|██████████| 6/6 [00:00<00:00, 61.28it/s]\n"
          ]
        },
        {
          "output_type": "execute_result",
          "data": {
            "text/plain": [
              "[['implementation', 'recent  économique'],\n",
              " ['various  France', 'country  economy'],\n",
              " ['18:00  it', 'European  bars'],\n",
              " ['it', 'large  centres'],\n",
              " ['first  shots', '2021  bars'],\n",
              " ['again  which', 'due  Covid-19']]"
            ]
          },
          "metadata": {},
          "execution_count": 180
        }
      ]
    },
    {
      "cell_type": "code",
      "metadata": {
        "id": "QcdHSNZEJ1KY",
        "outputId": "fdf57165-db7b-40d0-8321-7d80dde45c41",
        "colab": {
          "base_uri": "https://localhost:8080/"
        }
      },
      "source": [
        "subjects = []\n",
        "objects = []\n",
        "subjects = [x[0] for x in entity_pairs]\n",
        "objects = [x[1] for x in entity_pairs]\n",
        "subjects\n",
        "objects"
      ],
      "execution_count": 181,
      "outputs": [
        {
          "output_type": "execute_result",
          "data": {
            "text/plain": [
              "['recent  économique',\n",
              " 'country  economy',\n",
              " 'European  bars',\n",
              " 'large  centres',\n",
              " '2021  bars',\n",
              " 'due  Covid-19']"
            ]
          },
          "metadata": {},
          "execution_count": 181
        }
      ]
    },
    {
      "cell_type": "markdown",
      "metadata": {
        "id": "YOtn2qHOX0kT"
      },
      "source": [
        "**Relation** **Extraction** "
      ]
    },
    {
      "cell_type": "markdown",
      "metadata": {
        "id": "20yxhRHRQZkN"
      },
      "source": [
        "The Relation between nodes has been extracted. The hypothesis is that the main verb or the Root word forms the relation between the subject and the object."
      ]
    },
    {
      "cell_type": "code",
      "metadata": {
        "id": "sGHptz-fR4VD"
      },
      "source": [
        "\n",
        "\n",
        "def get_relation(sent):\n",
        "  doc = nlp(sent)\n",
        "  #We initialise matcher with the vocab\n",
        "  matcher = Matcher(nlp.vocab)\n",
        "  #Defining the pattern\n",
        "  pattern = [{'DEP':'ROOT'},{'DEP':'prep','OP':'?'},{'DEP':'VB','OP':'?'},{'POS':'ADJ','OP':'?'}]\n",
        "   #define the pattern \n",
        "  # pattern = [{'DEP':'ROOT'}, \n",
        "  #           {'DEP':'prep','OP':\"?\"},\n",
        "  #           {'DEP':'agent','OP':\"?\"},  \n",
        "  #           {'POS':'ADJ','OP':\"?\"},\n",
        "  #            {'ENT_TYPE':'PERSON', 'OP':'?'},\n",
        "  #            {'ENT_TYPE':'GPE', 'OP':'?'}] \n",
        "  #Adding the pattern to the matcher\n",
        "  matcher.add(\"matcher_1\",None,pattern)\n",
        "  #Applying the matcher to the doc\n",
        "  #matches = matcher(doc)\n",
        "\n",
        "  matches = matcher(doc)\n",
        "  k = len(matches)-1\n",
        "\n",
        "\n",
        "  span = doc[matches[k][1]:matches[k][2]] \n",
        "  #The matcher returns a list of (match_id, start, end). The start to end in our doc contains the relation. We capture that relation in a variable called span\n",
        "  #span = doc[matches[0][1]:matches[0][2]]\n",
        "  return span.text\n"
      ],
      "execution_count": 182,
      "outputs": []
    },
    {
      "cell_type": "markdown",
      "metadata": {
        "id": "RipyG65lYN9X"
      },
      "source": [
        "Below we observe a problem. The Relation for the second should be \"couldn't complete\", in order to correctly capture the semantics. But it fails to do so."
      ]
    },
    {
      "cell_type": "code",
      "metadata": {
        "colab": {
          "base_uri": "https://localhost:8080/"
        },
        "id": "6bKLuTOMOhMC",
        "outputId": "311dde95-6f0d-494e-edb3-13060e3f29a1"
      },
      "source": [
        "get_entity(\"John completed the task\"), get_relation(\"John completed the task\")"
      ],
      "execution_count": 166,
      "outputs": [
        {
          "output_type": "execute_result",
          "data": {
            "text/plain": [
              "(['John', 'task'], 'completed')"
            ]
          },
          "metadata": {},
          "execution_count": 166
        }
      ]
    },
    {
      "cell_type": "code",
      "metadata": {
        "colab": {
          "base_uri": "https://localhost:8080/"
        },
        "id": "ZgdKq0boX_xh",
        "outputId": "6e10098c-2b90-4982-8db6-5ec4858180e5"
      },
      "source": [
        "get_entity(\"John couldn't complete the task\"), get_relation(\"John couldn't complete the task\")"
      ],
      "execution_count": 167,
      "outputs": [
        {
          "output_type": "execute_result",
          "data": {
            "text/plain": [
              "(['John', 'task'], 'complete')"
            ]
          },
          "metadata": {},
          "execution_count": 167
        }
      ]
    },
    {
      "cell_type": "markdown",
      "metadata": {
        "id": "4_eaGQFgZGmS"
      },
      "source": [
        "Anyway, we move on. Let's get the relations for the entire dataset"
      ]
    },
    {
      "cell_type": "code",
      "metadata": {
        "colab": {
          "base_uri": "https://localhost:8080/"
        },
        "id": "Mv4LIex_ZSK7",
        "outputId": "fb5184d2-f4a9-4eaa-8d70-b4c704eb12c8"
      },
      "source": [
        "relations = [get_relation(i) for i in tqdm(sentences['sentence'])]\n",
        "tqdm._instances.clear()\n",
        "relations"
      ],
      "execution_count": 168,
      "outputs": [
        {
          "output_type": "stream",
          "name": "stderr",
          "text": [
            "100%|██████████| 6/6 [00:00<00:00, 67.53it/s]\n"
          ]
        },
        {
          "output_type": "execute_result",
          "data": {
            "text/plain": [
              "['shows', 'remain', 'was among', 'became mandatory', 'surged', 'published']"
            ]
          },
          "metadata": {},
          "execution_count": 168
        }
      ]
    },
    {
      "cell_type": "code",
      "source": [
        "# extract subject\n",
        "source = [i[0] for i in entity_pairs] \n",
        "# extract object\n",
        "target = [i[1] for i in entity_pairs] \n",
        "\n",
        "\n",
        "kg_df = pd.DataFrame({'source':source,'target':target,'edge':relations})\n",
        "kg_df"
      ],
      "metadata": {
        "colab": {
          "base_uri": "https://localhost:8080/",
          "height": 238
        },
        "id": "YGVWE366l5iV",
        "outputId": "e73e6e74-44e3-42b5-c451-896afdd379ea"
      },
      "execution_count": 185,
      "outputs": [
        {
          "output_type": "execute_result",
          "data": {
            "text/html": [
              "\n",
              "  <div id=\"df-032effe8-393d-4d95-a8bc-c0b119ba5327\">\n",
              "    <div class=\"colab-df-container\">\n",
              "      <div>\n",
              "<style scoped>\n",
              "    .dataframe tbody tr th:only-of-type {\n",
              "        vertical-align: middle;\n",
              "    }\n",
              "\n",
              "    .dataframe tbody tr th {\n",
              "        vertical-align: top;\n",
              "    }\n",
              "\n",
              "    .dataframe thead th {\n",
              "        text-align: right;\n",
              "    }\n",
              "</style>\n",
              "<table border=\"1\" class=\"dataframe\">\n",
              "  <thead>\n",
              "    <tr style=\"text-align: right;\">\n",
              "      <th></th>\n",
              "      <th>source</th>\n",
              "      <th>target</th>\n",
              "      <th>edge</th>\n",
              "    </tr>\n",
              "  </thead>\n",
              "  <tbody>\n",
              "    <tr>\n",
              "      <th>0</th>\n",
              "      <td>implementation</td>\n",
              "      <td>recent  économique</td>\n",
              "      <td>shows</td>\n",
              "    </tr>\n",
              "    <tr>\n",
              "      <th>1</th>\n",
              "      <td>various  France</td>\n",
              "      <td>country  economy</td>\n",
              "      <td>remain</td>\n",
              "    </tr>\n",
              "    <tr>\n",
              "      <th>2</th>\n",
              "      <td>18:00  it</td>\n",
              "      <td>European  bars</td>\n",
              "      <td>was among</td>\n",
              "    </tr>\n",
              "    <tr>\n",
              "      <th>3</th>\n",
              "      <td>it</td>\n",
              "      <td>large  centres</td>\n",
              "      <td>became mandatory</td>\n",
              "    </tr>\n",
              "    <tr>\n",
              "      <th>4</th>\n",
              "      <td>first  shots</td>\n",
              "      <td>2021  bars</td>\n",
              "      <td>surged</td>\n",
              "    </tr>\n",
              "    <tr>\n",
              "      <th>5</th>\n",
              "      <td>again  which</td>\n",
              "      <td>due  Covid-19</td>\n",
              "      <td>published</td>\n",
              "    </tr>\n",
              "  </tbody>\n",
              "</table>\n",
              "</div>\n",
              "      <button class=\"colab-df-convert\" onclick=\"convertToInteractive('df-032effe8-393d-4d95-a8bc-c0b119ba5327')\"\n",
              "              title=\"Convert this dataframe to an interactive table.\"\n",
              "              style=\"display:none;\">\n",
              "        \n",
              "  <svg xmlns=\"http://www.w3.org/2000/svg\" height=\"24px\"viewBox=\"0 0 24 24\"\n",
              "       width=\"24px\">\n",
              "    <path d=\"M0 0h24v24H0V0z\" fill=\"none\"/>\n",
              "    <path d=\"M18.56 5.44l.94 2.06.94-2.06 2.06-.94-2.06-.94-.94-2.06-.94 2.06-2.06.94zm-11 1L8.5 8.5l.94-2.06 2.06-.94-2.06-.94L8.5 2.5l-.94 2.06-2.06.94zm10 10l.94 2.06.94-2.06 2.06-.94-2.06-.94-.94-2.06-.94 2.06-2.06.94z\"/><path d=\"M17.41 7.96l-1.37-1.37c-.4-.4-.92-.59-1.43-.59-.52 0-1.04.2-1.43.59L10.3 9.45l-7.72 7.72c-.78.78-.78 2.05 0 2.83L4 21.41c.39.39.9.59 1.41.59.51 0 1.02-.2 1.41-.59l7.78-7.78 2.81-2.81c.8-.78.8-2.07 0-2.86zM5.41 20L4 18.59l7.72-7.72 1.47 1.35L5.41 20z\"/>\n",
              "  </svg>\n",
              "      </button>\n",
              "      \n",
              "  <style>\n",
              "    .colab-df-container {\n",
              "      display:flex;\n",
              "      flex-wrap:wrap;\n",
              "      gap: 12px;\n",
              "    }\n",
              "\n",
              "    .colab-df-convert {\n",
              "      background-color: #E8F0FE;\n",
              "      border: none;\n",
              "      border-radius: 50%;\n",
              "      cursor: pointer;\n",
              "      display: none;\n",
              "      fill: #1967D2;\n",
              "      height: 32px;\n",
              "      padding: 0 0 0 0;\n",
              "      width: 32px;\n",
              "    }\n",
              "\n",
              "    .colab-df-convert:hover {\n",
              "      background-color: #E2EBFA;\n",
              "      box-shadow: 0px 1px 2px rgba(60, 64, 67, 0.3), 0px 1px 3px 1px rgba(60, 64, 67, 0.15);\n",
              "      fill: #174EA6;\n",
              "    }\n",
              "\n",
              "    [theme=dark] .colab-df-convert {\n",
              "      background-color: #3B4455;\n",
              "      fill: #D2E3FC;\n",
              "    }\n",
              "\n",
              "    [theme=dark] .colab-df-convert:hover {\n",
              "      background-color: #434B5C;\n",
              "      box-shadow: 0px 1px 3px 1px rgba(0, 0, 0, 0.15);\n",
              "      filter: drop-shadow(0px 1px 2px rgba(0, 0, 0, 0.3));\n",
              "      fill: #FFFFFF;\n",
              "    }\n",
              "  </style>\n",
              "\n",
              "      <script>\n",
              "        const buttonEl =\n",
              "          document.querySelector('#df-032effe8-393d-4d95-a8bc-c0b119ba5327 button.colab-df-convert');\n",
              "        buttonEl.style.display =\n",
              "          google.colab.kernel.accessAllowed ? 'block' : 'none';\n",
              "\n",
              "        async function convertToInteractive(key) {\n",
              "          const element = document.querySelector('#df-032effe8-393d-4d95-a8bc-c0b119ba5327');\n",
              "          const dataTable =\n",
              "            await google.colab.kernel.invokeFunction('convertToInteractive',\n",
              "                                                     [key], {});\n",
              "          if (!dataTable) return;\n",
              "\n",
              "          const docLinkHtml = 'Like what you see? Visit the ' +\n",
              "            '<a target=\"_blank\" href=https://colab.research.google.com/notebooks/data_table.ipynb>data table notebook</a>'\n",
              "            + ' to learn more about interactive tables.';\n",
              "          element.innerHTML = '';\n",
              "          dataTable['output_type'] = 'display_data';\n",
              "          await google.colab.output.renderOutput(dataTable, element);\n",
              "          const docLink = document.createElement('div');\n",
              "          docLink.innerHTML = docLinkHtml;\n",
              "          element.appendChild(docLink);\n",
              "        }\n",
              "      </script>\n",
              "    </div>\n",
              "  </div>\n",
              "  "
            ],
            "text/plain": [
              "            source              target              edge\n",
              "0   implementation  recent  économique             shows\n",
              "1  various  France    country  economy            remain\n",
              "2        18:00  it      European  bars         was among\n",
              "3               it      large  centres  became mandatory\n",
              "4     first  shots          2021  bars            surged\n",
              "5     again  which       due  Covid-19         published"
            ]
          },
          "metadata": {},
          "execution_count": 185
        }
      ]
    },
    {
      "cell_type": "code",
      "source": [
        " \n",
        "import matplotlib.pyplot as plot\n",
        "# Create DG from the dataframe\n",
        "graph = nx.from_pandas_edgelist(kg_df, \"source\", \"target\",\n",
        "                         edge_attr=True, create_using=nx.MultiDiGraph())\n",
        "# plotting the network\n",
        "plot.figure(figsize=(14, 14))\n",
        "posn = nx.spring_layout(graph)\n",
        "nx.draw(graph, with_labels=True, node_color='green', edge_cmap=plot.cm.Blues, pos = posn)\n",
        "plot.show()"
      ],
      "metadata": {
        "colab": {
          "base_uri": "https://localhost:8080/",
          "height": 1000
        },
        "id": "jN-H5paHnJiY",
        "outputId": "31cf88a2-8091-428e-fc74-28ce2b9ba0d2"
      },
      "execution_count": 170,
      "outputs": [
        {
          "output_type": "display_data",
          "data": {
            "image/png": "[encoded data removed]",
            "text/plain": [
              "<Figure size 1008x1008 with 1 Axes>"
            ]
          },
          "metadata": {}
        }
      ]
    },
    {
      "cell_type": "markdown",
      "metadata": {
        "id": "WSe2TEinZrFx"
      },
      "source": [
        "Let's look at the topmost occuring subjects "
      ]
    },
    {
      "cell_type": "code",
      "metadata": {
        "colab": {
          "base_uri": "https://localhost:8080/"
        },
        "id": "ASgFFMdmaS0J",
        "outputId": "d251bf57-ab26-4a96-f47e-47f2e5f8abfc"
      },
      "source": [
        "pd.Series(subjects).value_counts()"
      ],
      "execution_count": 81,
      "outputs": [
        {
          "output_type": "execute_result",
          "data": {
            "text/plain": [
              "We                      1\n",
              "Paul Keating            1\n",
              "down  country           1\n",
              "annual  Keating         1\n",
              "two  he                 1\n",
              "Unemployment            1\n",
              "Terms                   1\n",
              "Second World Keating    1\n",
              "dtype: int64"
            ]
          },
          "metadata": {},
          "execution_count": 81
        }
      ]
    },
    {
      "cell_type": "markdown",
      "metadata": {
        "id": "LfOV79NHnSVz"
      },
      "source": [
        "We observe that these words are mostly generic, hence of not much use to us.\n"
      ]
    },
    {
      "cell_type": "code",
      "metadata": {
        "colab": {
          "base_uri": "https://localhost:8080/"
        },
        "id": "GIB1MuiNnvoF",
        "outputId": "064f4253-b9f9-43f6-85a6-efdf6263ed96"
      },
      "source": [
        "pd.Series(relations).value_counts()[:10]"
      ],
      "execution_count": 82,
      "outputs": [
        {
          "output_type": "execute_result",
          "data": {
            "text/plain": [
              "said                 3\n",
              "is                   1\n",
              "forecast economic    1\n",
              "are                  1\n",
              "told                 1\n",
              "pushing              1\n",
              "dtype: int64"
            ]
          },
          "metadata": {},
          "execution_count": 82
        }
      ]
    },
    {
      "cell_type": "markdown",
      "metadata": {
        "id": "JkBFhOK_Q8iV"
      },
      "source": [
        "Not surprisingly, \"is\" and \"was\" forms the most common relations, simply because they are the most common words. We want more meaningful subjects to be more prominent."
      ]
    },
    {
      "cell_type": "markdown",
      "metadata": {
        "id": "UeJlsdhrn4Fu"
      },
      "source": [
        "**Data Pre - Processing**"
      ]
    },
    {
      "cell_type": "markdown",
      "metadata": {
        "id": "XIFLhbdN2Ce5"
      },
      "source": [
        "Let's see what happens if we pre-process the data.\n",
        "We remove stopwords and punctuation marks"
      ]
    },
    {
      "cell_type": "code",
      "source": [
        "import nltk\n",
        "nltk.download('punkt')\n",
        "nltk.download('stopwords')"
      ],
      "metadata": {
        "id": "im1IPD_ll0_H",
        "outputId": "c57d4f0c-07e5-4239-c56c-5c2f39e2b5ab",
        "colab": {
          "base_uri": "https://localhost:8080/"
        }
      },
      "execution_count": 83,
      "outputs": [
        {
          "output_type": "stream",
          "name": "stdout",
          "text": [
            "[nltk_data] Downloading package punkt to /root/nltk_data...\n",
            "[nltk_data]   Unzipping tokenizers/punkt.zip.\n",
            "[nltk_data] Downloading package stopwords to /root/nltk_data...\n",
            "[nltk_data]   Unzipping corpora/stopwords.zip.\n"
          ]
        },
        {
          "output_type": "execute_result",
          "data": {
            "text/plain": [
              "True"
            ]
          },
          "metadata": {},
          "execution_count": 83
        }
      ]
    },
    {
      "cell_type": "code",
      "metadata": {
        "id": "T2vJhkoe2Gjn"
      },
      "source": [
        "def isNotStopWord(word):\n",
        "    return word not in stopwords.words('english')\n",
        "\n",
        "def preprocess(sent):\n",
        "  sent = re.sub(\"[\\(\\[].*?[\\)\\]]\", \"\", sent)\n",
        "  tokens = []\n",
        "  temp = \"\"\n",
        "  words = word_tokenize(sent)\n",
        "  # Removing punctuations except '<.>/<?>/<!>'\n",
        "  punctuations = '\"#$%&\\'()*+,-/:;<=>@\\\\^_`{|}~'\n",
        "  words = map(lambda x: x.translate(str.maketrans('','',punctuations)), words)\n",
        "  \n",
        "  #Now, we remove the stopwords\n",
        "  #words = map(str.lower,words)\n",
        "  words = filter(lambda x: isNotStopWord(x),words)\n",
        "  tokens = tokens + list(words)\n",
        "  temp = ' '.join(word for word in tokens)\n",
        "  return temp"
      ],
      "execution_count": 84,
      "outputs": []
    },
    {
      "cell_type": "code",
      "metadata": {
        "colab": {
          "base_uri": "https://localhost:8080/"
        },
        "id": "XScVj68C_DzN",
        "outputId": "825c5259-1876-4b93-d12d-ee5697649b9b"
      },
      "source": [
        "preprocessed_sentences = [preprocess(i) for i in tqdm(sentences['sentence'])]\n",
        "tqdm._instances.clear()\n",
        "preprocessed_sentences"
      ],
      "execution_count": 85,
      "outputs": [
        {
          "output_type": "stream",
          "name": "stderr",
          "text": [
            "100%|██████████| 8/8 [00:00<00:00, 195.88it/s]\n"
          ]
        },
        {
          "output_type": "execute_result",
          "data": {
            "text/plain": [
              "['KEATING REVISES DOWN AUSTRALIAN GROWTH FORECAST Treasurer Paul Keating forecast economic growth slightly two  financial year ending June year  2.25  forecast contained 1986  87 budget delivered last August .',\n",
              " 'Australia terms trade also fell  18   past two years  told Parliament .',\n",
              " 'Terms trade difference import export price indexes .',\n",
              " 'Despite figures  budget forecast 1.75  annual growth employment would met  Keating said .',\n",
              " 'Unemployment currently 8.2  workforce .',\n",
              " 'This government dragging Australia trading holocaust kind seen since Second World War  Keating said .',\n",
              " 'We pushing place recession .',\n",
              " 'We holding gains unemployment  bringing unemployment  said  adding government help country avoid recession .']"
            ]
          },
          "metadata": {},
          "execution_count": 85
        }
      ]
    },
    {
      "cell_type": "markdown",
      "metadata": {
        "id": "JgbIdO7wHTs0"
      },
      "source": [
        "Getting entity pairs from preprocessed sentences"
      ]
    },
    {
      "cell_type": "code",
      "metadata": {
        "colab": {
          "base_uri": "https://localhost:8080/"
        },
        "id": "7LQZBejeESVD",
        "outputId": "dab9022c-e012-441a-942f-1766dc51968f"
      },
      "source": [
        "entity_pairs = []\n",
        "for i in tqdm(preprocessed_sentences):\n",
        "  entity_pairs.append(get_entity(i))\n",
        "tqdm._instances.clear()"
      ],
      "execution_count": 86,
      "outputs": [
        {
          "output_type": "stream",
          "name": "stderr",
          "text": [
            "100%|██████████| 8/8 [00:00<00:00, 91.21it/s]\n"
          ]
        }
      ]
    },
    {
      "cell_type": "code",
      "metadata": {
        "colab": {
          "base_uri": "https://localhost:8080/"
        },
        "id": "bSFwh-p3HuCo",
        "outputId": "09cf1056-a31d-4da0-fb7a-cf0c9952cf49"
      },
      "source": [
        "relations = [get_relation(i) for i in tqdm(preprocessed_sentences)]\n",
        "tqdm._instances.clear()"
      ],
      "execution_count": null,
      "outputs": [
        {
          "output_type": "stream",
          "name": "stderr",
          "text": [
            "100%|██████████| 7/7 [00:00<00:00, 116.22it/s]\n"
          ]
        }
      ]
    },
    {
      "cell_type": "code",
      "metadata": {
        "colab": {
          "base_uri": "https://localhost:8080/"
        },
        "id": "v6fGRzHHIAnd",
        "outputId": "d3ff008a-f288-4e8b-e884-964c08f93d9e"
      },
      "source": [
        "pd.Series(relations).value_counts()[:10]"
      ],
      "execution_count": null,
      "outputs": [
        {
          "output_type": "execute_result",
          "data": {
            "text/plain": [
              "said         2\n",
              "pushing      1\n",
              "indexes      1\n",
              "REVISES      1\n",
              "workforce    1\n",
              "Australia    1\n",
              "dtype: int64"
            ]
          },
          "metadata": {},
          "execution_count": 52
        }
      ]
    },
    {
      "cell_type": "markdown",
      "metadata": {
        "id": "CAOBdbZLIPia"
      },
      "source": [
        "We see above that only the important relations are present, \"released\" being the most common. There is no \"is\", \"was\" and trivial words as before.This fulfils our desire if eliminating noise."
      ]
    },
    {
      "cell_type": "markdown",
      "metadata": {
        "id": "9M1Lw8CtJQ3i"
      },
      "source": [
        "What if we only want Named Entities to be present? Entities like Actors, Films,\n",
        "Studios, Composers etc"
      ]
    },
    {
      "cell_type": "code",
      "metadata": {
        "id": "kTt7tcmgWs4M"
      },
      "source": [
        "entity_pairs2 = entity_pairs\n",
        "relations2 = relations"
      ],
      "execution_count": 87,
      "outputs": []
    },
    {
      "cell_type": "code",
      "metadata": {
        "colab": {
          "base_uri": "https://localhost:8080/"
        },
        "id": "ZDMsFjZEIiZj",
        "outputId": "75c8e28f-688e-4d3d-9fb8-02c061d748dd"
      },
      "source": [
        "#We keep relations only for those entities whose both source and target are present\n",
        "entity_pairs3 = []\n",
        "relations3 = []\n",
        "for i in tqdm(range(len(entity_pairs2))):\n",
        "  if entity_pairs2[i][0]!='' and entity_pairs2[i][1]!='':\n",
        "    entity_pairs3.append(entity_pairs2[i])\n",
        "    relations3.append(relations2[i])\n",
        "tqdm._instances.clear()"
      ],
      "execution_count": 88,
      "outputs": [
        {
          "output_type": "stream",
          "name": "stderr",
          "text": [
            "100%|██████████| 8/8 [00:00<00:00, 13986.84it/s]\n"
          ]
        }
      ]
    },
    {
      "cell_type": "markdown",
      "metadata": {
        "id": "xxeS9C5zRr99"
      },
      "source": [
        "As we observe, the number of relations decrease to 2851 . Previously it was around 4k"
      ]
    },
    {
      "cell_type": "markdown",
      "metadata": {
        "id": "6DCcdgSEN3_a"
      },
      "source": [
        "**Named Entity Recognition Using Spacy**"
      ]
    },
    {
      "cell_type": "code",
      "metadata": {
        "id": "4RLIWCFTLDY0"
      },
      "source": [
        "source = []\n",
        "target = []\n",
        "edge = []\n",
        "for i in (range(len(entity_pairs))):\n",
        "  doc_source = nlp(entity_pairs[i][0]).ents #Getting the named entities for source\n",
        "  #Converting the named entity tuple to String\n",
        "  str_source = [str(word) for word in doc_source]\n",
        "  doc_source = ' '.join(str_source)\n",
        "  doc_target = nlp(entity_pairs[i][1]).ents #Getting the named entities for target\n",
        "  #Converting the named entity tuple to String\n",
        "  str_target = [str(word) for word in doc_target]\n",
        "  doc_target = ' '.join(str_target)\n",
        "  if doc_source != '' or doc_target != '':\n",
        "    edge.append(relations[i])\n",
        "    source.append(entity_pairs[i][0])\n",
        "    target.append(entity_pairs[i][1])\n"
      ],
      "execution_count": 89,
      "outputs": []
    },
    {
      "cell_type": "markdown",
      "metadata": {
        "id": "sMW_Ssw9N-TD"
      },
      "source": [
        "We had obtained entity pairs before but they had many irrelevant words.\n",
        "We narrowed them down quite a bit by preprocessing. Now, we obtain the named entity pairs which will form source and target respectively.\n",
        "It looks like (source, target, edge). We prune this further by removing all the data which have neither source or target entity as a Named Entity.\n",
        "We keep the rest. The Relations that were extracted before form the edge"
      ]
    },
    {
      "cell_type": "markdown",
      "metadata": {
        "id": "7tWe40xLO4oz"
      },
      "source": [
        "**Now, we find the most popular Source , Target and Relations**"
      ]
    },
    {
      "cell_type": "code",
      "metadata": {
        "colab": {
          "base_uri": "https://localhost:8080/"
        },
        "id": "cG5s8-LKUbx8",
        "outputId": "100fe512-a5e7-49ef-d38e-addfea511c6c"
      },
      "source": [
        "print(\"###################   Source entites    ###################### \\n\",pd.Series(source).value_counts()[:10])\n",
        "print(\"###################  Target entites    ###################### \\n\",pd.Series(target).value_counts()[:10])\n",
        "print(\"###################  Relationship between entities        ###################### \\n\",pd.Series(relations).value_counts()[:20])"
      ],
      "execution_count": null,
      "outputs": [
        {
          "output_type": "stream",
          "name": "stdout",
          "text": [
            "###################   Source entites    ###################### \n",
            " Paul Keating         1\n",
            "Australia            1\n",
            "World War Keating    1\n",
            "dtype: int64\n",
            "###################  Target entites    ###################### \n",
            " recession                      1\n",
            "Australia trading holocaust    1\n",
            "Parliament                     1\n",
            "dtype: int64\n",
            "###################  Relationship between entities        ###################### \n",
            " said         2\n",
            "pushing      1\n",
            "indexes      1\n",
            "REVISES      1\n",
            "workforce    1\n",
            "Australia    1\n",
            "dtype: int64\n"
          ]
        }
      ]
    },
    {
      "cell_type": "markdown",
      "metadata": {
        "id": "r_P4675zeObP"
      },
      "source": [
        "**Constructing the Knowledge Graph**"
      ]
    },
    {
      "cell_type": "markdown",
      "metadata": {
        "id": "mvGJusMSPO1v"
      },
      "source": [
        "We first take the knowledge graph in a pandas dataframe. It will be a directional graph."
      ]
    },
    {
      "cell_type": "code",
      "metadata": {
        "colab": {
          "base_uri": "https://localhost:8080/",
          "height": 174
        },
        "id": "kmy0gF_neNqT",
        "outputId": "e1699adb-51e2-4143-8f94-210a3fbaf46f"
      },
      "source": [
        "knowledge_graph_df = pd.DataFrame({'source':source, 'target':target, 'edge':edge})\n",
        "knowledge_graph_df\n",
        "#MultiDIGRaph because its a directional graph"
      ],
      "execution_count": 90,
      "outputs": [
        {
          "output_type": "execute_result",
          "data": {
            "text/html": [
              "\n",
              "  <div id=\"df-25c250eb-f27d-4051-8560-d727df731d89\">\n",
              "    <div class=\"colab-df-container\">\n",
              "      <div>\n",
              "<style scoped>\n",
              "    .dataframe tbody tr th:only-of-type {\n",
              "        vertical-align: middle;\n",
              "    }\n",
              "\n",
              "    .dataframe tbody tr th {\n",
              "        vertical-align: top;\n",
              "    }\n",
              "\n",
              "    .dataframe thead th {\n",
              "        text-align: right;\n",
              "    }\n",
              "</style>\n",
              "<table border=\"1\" class=\"dataframe\">\n",
              "  <thead>\n",
              "    <tr style=\"text-align: right;\">\n",
              "      <th></th>\n",
              "      <th>source</th>\n",
              "      <th>target</th>\n",
              "      <th>edge</th>\n",
              "    </tr>\n",
              "  </thead>\n",
              "  <tbody>\n",
              "    <tr>\n",
              "      <th>0</th>\n",
              "      <td>June year June forecast</td>\n",
              "      <td>87  budget</td>\n",
              "      <td>forecast economic</td>\n",
              "    </tr>\n",
              "    <tr>\n",
              "      <th>1</th>\n",
              "      <td>also  18</td>\n",
              "      <td>two  Parliament</td>\n",
              "      <td>told</td>\n",
              "    </tr>\n",
              "    <tr>\n",
              "      <th>2</th>\n",
              "      <td>annual  Keating</td>\n",
              "      <td>figures</td>\n",
              "      <td>said</td>\n",
              "    </tr>\n",
              "    <tr>\n",
              "      <th>3</th>\n",
              "      <td>kind World War Keating</td>\n",
              "      <td>Australia trading holocaust</td>\n",
              "      <td>said</td>\n",
              "    </tr>\n",
              "  </tbody>\n",
              "</table>\n",
              "</div>\n",
              "      <button class=\"colab-df-convert\" onclick=\"convertToInteractive('df-25c250eb-f27d-4051-8560-d727df731d89')\"\n",
              "              title=\"Convert this dataframe to an interactive table.\"\n",
              "              style=\"display:none;\">\n",
              "        \n",
              "  <svg xmlns=\"http://www.w3.org/2000/svg\" height=\"24px\"viewBox=\"0 0 24 24\"\n",
              "       width=\"24px\">\n",
              "    <path d=\"M0 0h24v24H0V0z\" fill=\"none\"/>\n",
              "    <path d=\"M18.56 5.44l.94 2.06.94-2.06 2.06-.94-2.06-.94-.94-2.06-.94 2.06-2.06.94zm-11 1L8.5 8.5l.94-2.06 2.06-.94-2.06-.94L8.5 2.5l-.94 2.06-2.06.94zm10 10l.94 2.06.94-2.06 2.06-.94-2.06-.94-.94-2.06-.94 2.06-2.06.94z\"/><path d=\"M17.41 7.96l-1.37-1.37c-.4-.4-.92-.59-1.43-.59-.52 0-1.04.2-1.43.59L10.3 9.45l-7.72 7.72c-.78.78-.78 2.05 0 2.83L4 21.41c.39.39.9.59 1.41.59.51 0 1.02-.2 1.41-.59l7.78-7.78 2.81-2.81c.8-.78.8-2.07 0-2.86zM5.41 20L4 18.59l7.72-7.72 1.47 1.35L5.41 20z\"/>\n",
              "  </svg>\n",
              "      </button>\n",
              "      \n",
              "  <style>\n",
              "    .colab-df-container {\n",
              "      display:flex;\n",
              "      flex-wrap:wrap;\n",
              "      gap: 12px;\n",
              "    }\n",
              "\n",
              "    .colab-df-convert {\n",
              "      background-color: #E8F0FE;\n",
              "      border: none;\n",
              "      border-radius: 50%;\n",
              "      cursor: pointer;\n",
              "      display: none;\n",
              "      fill: #1967D2;\n",
              "      height: 32px;\n",
              "      padding: 0 0 0 0;\n",
              "      width: 32px;\n",
              "    }\n",
              "\n",
              "    .colab-df-convert:hover {\n",
              "      background-color: #E2EBFA;\n",
              "      box-shadow: 0px 1px 2px rgba(60, 64, 67, 0.3), 0px 1px 3px 1px rgba(60, 64, 67, 0.15);\n",
              "      fill: #174EA6;\n",
              "    }\n",
              "\n",
              "    [theme=dark] .colab-df-convert {\n",
              "      background-color: #3B4455;\n",
              "      fill: #D2E3FC;\n",
              "    }\n",
              "\n",
              "    [theme=dark] .colab-df-convert:hover {\n",
              "      background-color: #434B5C;\n",
              "      box-shadow: 0px 1px 3px 1px rgba(0, 0, 0, 0.15);\n",
              "      filter: drop-shadow(0px 1px 2px rgba(0, 0, 0, 0.3));\n",
              "      fill: #FFFFFF;\n",
              "    }\n",
              "  </style>\n",
              "\n",
              "      <script>\n",
              "        const buttonEl =\n",
              "          document.querySelector('#df-25c250eb-f27d-4051-8560-d727df731d89 button.colab-df-convert');\n",
              "        buttonEl.style.display =\n",
              "          google.colab.kernel.accessAllowed ? 'block' : 'none';\n",
              "\n",
              "        async function convertToInteractive(key) {\n",
              "          const element = document.querySelector('#df-25c250eb-f27d-4051-8560-d727df731d89');\n",
              "          const dataTable =\n",
              "            await google.colab.kernel.invokeFunction('convertToInteractive',\n",
              "                                                     [key], {});\n",
              "          if (!dataTable) return;\n",
              "\n",
              "          const docLinkHtml = 'Like what you see? Visit the ' +\n",
              "            '<a target=\"_blank\" href=https://colab.research.google.com/notebooks/data_table.ipynb>data table notebook</a>'\n",
              "            + ' to learn more about interactive tables.';\n",
              "          element.innerHTML = '';\n",
              "          dataTable['output_type'] = 'display_data';\n",
              "          await google.colab.output.renderOutput(dataTable, element);\n",
              "          const docLink = document.createElement('div');\n",
              "          docLink.innerHTML = docLinkHtml;\n",
              "          element.appendChild(docLink);\n",
              "        }\n",
              "      </script>\n",
              "    </div>\n",
              "  </div>\n",
              "  "
            ],
            "text/plain": [
              "                    source                       target               edge\n",
              "0  June year June forecast                   87  budget  forecast economic\n",
              "1                 also  18              two  Parliament               told\n",
              "2          annual  Keating                      figures               said\n",
              "3   kind World War Keating  Australia trading holocaust               said"
            ]
          },
          "metadata": {},
          "execution_count": 90
        }
      ]
    },
    {
      "cell_type": "code",
      "source": [
        "nltk.download('averaged_perceptron_tagger')"
      ],
      "metadata": {
        "id": "-uVet_IJt5Pm",
        "outputId": "5071f579-7773-4d0e-d0e7-e81f1cf9269b",
        "colab": {
          "base_uri": "https://localhost:8080/"
        }
      },
      "execution_count": 91,
      "outputs": [
        {
          "output_type": "stream",
          "name": "stdout",
          "text": [
            "[nltk_data] Downloading package averaged_perceptron_tagger to\n",
            "[nltk_data]     /root/nltk_data...\n",
            "[nltk_data]   Unzipping taggers/averaged_perceptron_tagger.zip.\n"
          ]
        },
        {
          "output_type": "execute_result",
          "data": {
            "text/plain": [
              "True"
            ]
          },
          "metadata": {},
          "execution_count": 91
        }
      ]
    },
    {
      "cell_type": "code",
      "metadata": {
        "id": "6e_ql7B1lDHW"
      },
      "source": [
        "G = nx.from_pandas_edgelist(knowledge_graph_df, source = 'source', target = 'target', edge_attr = True, create_using= nx.MultiDiGraph())\n",
        "#MultiDIGRaph because its a directional graph"
      ],
      "execution_count": 92,
      "outputs": []
    },
    {
      "cell_type": "code",
      "metadata": {
        "colab": {
          "base_uri": "https://localhost:8080/",
          "height": 751
        },
        "id": "8BSKed5flM09",
        "outputId": "efa1e738-33d5-44b5-96a4-9d532055daa6"
      },
      "source": [
        "plt.figure(figsize = (10,10))\n",
        "pox = nx.spring_layout(G,k = 1.0) #k defines the distnace between nodes\n",
        "nx.draw(G, with_labels= True, node_size = 2500)\n",
        "plt.show()"
      ],
      "execution_count": 93,
      "outputs": [
        {
          "output_type": "display_data",
          "data": {
            "image/png": "[encoded data removed]",
            "text/plain": [
              "<Figure size 720x720 with 1 Axes>"
            ]
          },
          "metadata": {}
        }
      ]
    },
    {
      "cell_type": "code",
      "metadata": {
        "colab": {
          "base_uri": "https://localhost:8080/",
          "height": 751
        },
        "id": "AN-Wngl7V7wH",
        "outputId": "4e59f48c-3733-4e02-df8f-361aab40a7a0"
      },
      "source": [
        "G = nx.from_pandas_edgelist(knowledge_graph_df,source = 'source', target = 'target', edge_attr = True, create_using= nx.MultiDiGraph())\n",
        "plt.figure(figsize = (10,10))\n",
        "pox = nx.spring_layout(G,k = 1.0) #k defines the distnace between nodes\n",
        "nx.draw(G, with_labels= True, node_size = 2500)\n",
        "plt.show()"
      ],
      "execution_count": null,
      "outputs": [
        {
          "output_type": "display_data",
          "data": {
            "image/png": "[encoded data removed]",
            "text/plain": [
              "<Figure size 720x720 with 1 Axes>"
            ]
          },
          "metadata": {}
        }
      ]
    },
    {
      "cell_type": "markdown",
      "metadata": {
        "id": "H4Fx0WX2urHh"
      },
      "source": [
        "**References**\n",
        "1. https://becominghuman.ai/building-a-small-knowledge-graph-using-ner-296930592bcf\n",
        "2. https://www.analyticsvidhya.com/blog/2019/10/how-to-build-knowledge-graph-text-using-spacy/"
      ]
    }
  ]
}